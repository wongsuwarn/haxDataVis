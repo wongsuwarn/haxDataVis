{
 "cells": [
  {
   "cell_type": "markdown",
   "metadata": {},
   "source": [
    "## Imports and Data"
   ]
  },
  {
   "cell_type": "code",
   "execution_count": 17,
   "metadata": {},
   "outputs": [],
   "source": [
    "import altair as alt\n",
    "\n",
    "# Uncomment/run this line to enable Altair in the classic notebook (not in JupyterLab)\n",
    "# alt.renderers.enable('notebook')"
   ]
  },
  {
   "cell_type": "code",
   "execution_count": 26,
   "metadata": {},
   "outputs": [],
   "source": [
    "import os\n",
    "import re\n",
    "import pandas as pd\n",
    "from qds_sdk.commands import HiveCommand\n",
    "from qds_sdk.qubole import Qubole\n",
    "\n",
    "class QuboleConnector():\n",
    "    def __init__(self, hcom_api_token, bex_api_token):\n",
    "        pass\n",
    "\n",
    "    def query_data(self, sql_query, account):\n",
    "        if account == 'hcom':\n",
    "            Qubole.configure(api_token=hcom_api_token)\n",
    "        else:\n",
    "            Qubole.configure(api_token=bex_api_token)\n",
    "                \n",
    "        cmd = self.execute_query(sql_query)\n",
    "\n",
    "        if HiveCommand.is_success(cmd.status):\n",
    "            with open(\"temp_data.csv\", 'w') as writer:\n",
    "                if account == 'hcom':\n",
    "                    cmd.get_results(writer, delim=\",\", inline=False)\n",
    "                else:\n",
    "                    cmd.get_results(writer, delim=\"\\t\", inline=False)\n",
    "\n",
    "            clean_query = sql_query.replace('\\n', '')\n",
    "            clean_query = re.sub(\"\\\\([^)]*?\\\\)\", \"\", clean_query)\n",
    "            heads = re.search('select(.*?)from', clean_query.lower()).group(1).split(',')\n",
    "            heads = [h.strip() for h in heads]\n",
    "            heads = [h if ' as ' not in h else re.search(' as (.*)', h).group(1) for h in heads]      \n",
    "        \n",
    "            if account == 'hcom':\n",
    "                query_result = pd.read_csv(\"temp_data.csv\", names = heads)\n",
    "            else:\n",
    "                query_result = pd.read_csv(\"temp_data.csv\", names = heads, sep='\\t')\n",
    "        os.remove(\"temp_data.csv\")\n",
    "        return query_result\n",
    "\n",
    "    def execute_query(self, sql_query):\n",
    "        hc_params = ['--query', sql_query]\n",
    "        hive_args = HiveCommand.parse(hc_params)\n",
    "        cmd = HiveCommand.run(**hive_args)\n",
    "        return cmd"
   ]
  },
  {
   "cell_type": "code",
   "execution_count": 19,
   "metadata": {},
   "outputs": [],
   "source": [
    "hcom_api_token='e430f9db5ff2473897c52d834f4a65742cdddcadbb43409e8684b7309d26e194'\n",
    "\n",
    "# bex_api_token='4ddc9f9d5bfd452ab0aaca49625af6082d6f016e57c04cbe8abd64002ed346af'\n",
    "bex_api_token=''"
   ]
  },
  {
   "cell_type": "code",
   "execution_count": 20,
   "metadata": {},
   "outputs": [],
   "source": [
    "hcom_con = QuboleConnector(hcom_api_token = hcom_api_token, bex_api_token = bex_api_token)\n",
    "#bex_con = QuboleConnector(bex_api_token)"
   ]
  },
  {
   "cell_type": "code",
   "execution_count": 21,
   "metadata": {},
   "outputs": [],
   "source": [
    "bkg_sample_query = \"\"\"\n",
    "SELECT \n",
    "    local_date\n",
    "    ,customer_account_id\n",
    "    ,bkg_id\n",
    "    ,booking_itin_number\n",
    "    ,bkg_date_gmt\n",
    "    ,bkg_timestamp\n",
    "    ,booking_gross_profit_amount_usd\n",
    "    ,gross_booking_value_usd\n",
    "    ,room_nights\n",
    "    ,guid\n",
    "    ,supplier_property_id\n",
    "    ,user_context_pos\n",
    "    ,brand_name\n",
    "    ,booking_platform\n",
    "    ,booking_device\n",
    "    ,visit_number\n",
    "    ,visit_page_number\n",
    "    ,booking_adult_count\n",
    "    ,booking_child_count\n",
    "    ,COALESCE(length_of_stay,0) AS length_of_stay\n",
    "FROM bix_booking.hermes_booking_omniture_order_summary\n",
    "WHERE gmt_trans_year = '2019'\n",
    "AND gmt_trans_month < 6\n",
    "AND YEAR(bkg_date_gmt) = '2019'\n",
    "AND bkg_date_gmt != CURRENT_DATE\n",
    "--AND local_hour = 20\n",
    "AND booking_cancel_count = 0\n",
    "AND user_context_pos IN ('HCOM_UK','HCOM_DE','HCOM_FR','HCOM_ES','HCOM_IT')\n",
    "\n",
    "DISTRIBUTE BY RAND()\n",
    "SORT BY RAND()\n",
    "\n",
    "LIMIT 1000\n",
    "\"\"\""
   ]
  },
  {
   "cell_type": "code",
   "execution_count": 22,
   "metadata": {},
   "outputs": [],
   "source": [
    "bkg_sample_df = hcom_con.query_data(bkg_sample_query, account = 'hcom')"
   ]
  },
  {
   "cell_type": "code",
   "execution_count": 23,
   "metadata": {},
   "outputs": [
    {
     "name": "stdout",
     "output_type": "stream",
     "text": [
      "<class 'pandas.core.frame.DataFrame'>\n",
      "RangeIndex: 1000 entries, 0 to 999\n",
      "Data columns (total 20 columns):\n",
      "local_date                         1000 non-null object\n",
      "customer_account_id                1000 non-null object\n",
      "bkg_id                             1000 non-null int64\n",
      "booking_itin_number                1000 non-null int64\n",
      "bkg_date_gmt                       1000 non-null object\n",
      "bkg_timestamp                      1000 non-null object\n",
      "booking_gross_profit_amount_usd    1000 non-null float64\n",
      "gross_booking_value_usd            1000 non-null float64\n",
      "room_nights                        1000 non-null int64\n",
      "guid                               1000 non-null object\n",
      "supplier_property_id               1000 non-null int64\n",
      "user_context_pos                   1000 non-null object\n",
      "brand_name                         1000 non-null object\n",
      "booking_platform                   1000 non-null object\n",
      "booking_device                     1000 non-null object\n",
      "visit_number                       1000 non-null int64\n",
      "visit_page_number                  1000 non-null int64\n",
      "booking_adult_count                1000 non-null int64\n",
      "booking_child_count                1000 non-null int64\n",
      "length_of_stay                     1000 non-null int64\n",
      "dtypes: float64(2), int64(9), object(9)\n",
      "memory usage: 156.3+ KB\n"
     ]
    }
   ],
   "source": [
    "#bkg_sample_df.head()\n",
    "bkg_sample_df.info()\n",
    "#bkg_sample_df.describe()"
   ]
  },
  {
   "cell_type": "code",
   "execution_count": 27,
   "metadata": {},
   "outputs": [],
   "source": [
    "cas_sample_query = \"\"\"\n",
    "SELECT \n",
    "    trvl_acct_email_addr\n",
    "    ,total_number_net_bookings_all_time\n",
    "    ,total_number_visits_all_time\n",
    "    ,total_number_net_room_night_all_time\n",
    "    ,total_net_gbv_all_time\n",
    "    ,total_net_gp_all_time\n",
    "    ,average_gbv_all_time\n",
    "    ,COALESCE(average_number_days_between_bookings_all_time,0) as average_number_days_between_bookings_all_time\n",
    "    ,average_length_of_stay_all_time\n",
    "    ,average_booking_window_all_time\n",
    "    ,average_daily_rate_all_time\n",
    "    ,most_booked_posa_all_time\n",
    "    ,loyalty_account_tier\n",
    "    ,agg_row_count\n",
    "    ,most_booked_platform_all_time\n",
    "    ,COALESCE(total_gbv_business_all_time,0) AS total_gbv_business_all_time\n",
    "    ,total_number_bookings_business_all_time\n",
    "    ,COALESCE(total_gbv_family_all_time,0) AS total_gbv_family_all_time\n",
    "    ,total_number_bookings_family_all_time\n",
    "    ,COALESCE(total_gbv_domestic_all_time,0) AS total_gbv_domestic_all_time\n",
    "    ,total_number_bookings_domestic_all_time\n",
    "FROM bix_cas.customer_attribute_store\n",
    "WHERE report_date = '2019-05-20'\n",
    "AND total_number_visits_all_time > 0\n",
    "AND agg_row_count > 0\n",
    "AND total_number_net_bookings_all_time > 0\n",
    "AND most_booked_posa_all_time IN ('United Kingdom','France','Germany','Spain','Italy')\n",
    "\n",
    "DISTRIBUTE BY RAND()\n",
    "SORT BY RAND()\n",
    "\n",
    "LIMIT 1000\n",
    "\"\"\""
   ]
  },
  {
   "cell_type": "code",
   "execution_count": 28,
   "metadata": {},
   "outputs": [],
   "source": [
    "cas_sample_df = hcom_con.query_data(cas_sample_query, account = 'hcom')"
   ]
  },
  {
   "cell_type": "code",
   "execution_count": 31,
   "metadata": {},
   "outputs": [
    {
     "name": "stdout",
     "output_type": "stream",
     "text": [
      "<class 'pandas.core.frame.DataFrame'>\n",
      "RangeIndex: 1000 entries, 0 to 999\n",
      "Data columns (total 21 columns):\n",
      "trvl_acct_email_addr                             1000 non-null object\n",
      "total_number_net_bookings_all_time               1000 non-null int64\n",
      "total_number_visits_all_time                     1000 non-null int64\n",
      "total_number_net_room_night_all_time             1000 non-null int64\n",
      "total_net_gbv_all_time                           1000 non-null float64\n",
      "total_net_gp_all_time                            1000 non-null float64\n",
      "average_gbv_all_time                             1000 non-null float64\n",
      "average_number_days_between_bookings_all_time    1000 non-null float64\n",
      "average_length_of_stay_all_time                  1000 non-null float64\n",
      "average_booking_window_all_time                  1000 non-null float64\n",
      "average_daily_rate_all_time                      1000 non-null float64\n",
      "most_booked_posa_all_time                        1000 non-null object\n",
      "loyalty_account_tier                             1000 non-null object\n",
      "agg_row_count                                    1000 non-null int64\n",
      "most_booked_platform_all_time                    1000 non-null object\n",
      "total_gbv_business_all_time                      1000 non-null float64\n",
      "total_number_bookings_business_all_time          1000 non-null int64\n",
      "total_gbv_family_all_time                        1000 non-null float64\n",
      "total_number_bookings_family_all_time            1000 non-null int64\n",
      "total_gbv_domestic_all_time                      1000 non-null float64\n",
      "total_number_bookings_domestic_all_time          1000 non-null int64\n",
      "dtypes: float64(10), int64(7), object(4)\n",
      "memory usage: 164.1+ KB\n"
     ]
    }
   ],
   "source": [
    "#cas_sample_df.head()\n",
    "cas_sample_df.info()\n",
    "#cas_sample_df.describe()"
   ]
  }
 ],
 "metadata": {
  "kernelspec": {
   "display_name": "Python 3",
   "language": "python",
   "name": "python3"
  },
  "language_info": {
   "codemirror_mode": {
    "name": "ipython",
    "version": 3
   },
   "file_extension": ".py",
   "mimetype": "text/x-python",
   "name": "python",
   "nbconvert_exporter": "python",
   "pygments_lexer": "ipython3",
   "version": "3.7.3"
  }
 },
 "nbformat": 4,
 "nbformat_minor": 4
}
