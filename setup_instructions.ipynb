{
 "cells": [
  {
   "cell_type": "markdown",
   "metadata": {},
   "source": [
    "# How to set up your computer to use [Altair](https://altair-viz.github.io/index.html) with Qubole data"
   ]
  },
  {
   "cell_type": "markdown",
   "metadata": {
    "toc-hr-collapsed": false
   },
   "source": [
    "## Essential"
   ]
  },
  {
   "cell_type": "markdown",
   "metadata": {},
   "source": [
    "### Install Python 3\n",
    "Check if you have python installed by running in your terminal/console:"
   ]
  },
  {
   "cell_type": "markdown",
   "metadata": {},
   "source": [
    "```\n",
    "python3 --version\n",
    "```"
   ]
  },
  {
   "cell_type": "markdown",
   "metadata": {},
   "source": [
    "If you do not have Python 3 installed and are on a mac then follow [these instructions](https://wsvincent.com/install-python3-mac/) to install Python3 using the homebrew package manager."
   ]
  },
  {
   "cell_type": "markdown",
   "metadata": {},
   "source": [
    "### Create a Python 3 virtual environment called 'pydatavis' and activate it"
   ]
  },
  {
   "cell_type": "markdown",
   "metadata": {},
   "source": [
    "If you have Python 3 you will also have the venv package installed. Follow the helpful [instructions here](https://wsvincent.com/install-python3-mac/) (same steps for macOS and Windows) here to create and activate a virtual environment if you haven't done so before."
   ]
  },
  {
   "cell_type": "markdown",
   "metadata": {},
   "source": [
    "### Install Altair, JupyterLab and Pandas in your new pydatavis virtual environment"
   ]
  },
  {
   "cell_type": "markdown",
   "metadata": {},
   "source": [
    "Run in your terminal/console:"
   ]
  },
  {
   "cell_type": "markdown",
   "metadata": {},
   "source": [
    "```\n",
    "pip install -U altair vega_datasets jupyterlab pandas\n",
    "```"
   ]
  },
  {
   "cell_type": "markdown",
   "metadata": {},
   "source": [
    "### Install the Qubole Data Service Python SDK in your pydatavis virtual environment"
   ]
  },
  {
   "cell_type": "markdown",
   "metadata": {},
   "source": [
    "As described in the [module documentation](https://github.com/qubole/qds-sdk-py) install by running in your terminal/console:"
   ]
  },
  {
   "cell_type": "markdown",
   "metadata": {},
   "source": [
    "```bash\n",
    "pip install qds-sdk\n",
    "```"
   ]
  },
  {
   "cell_type": "markdown",
   "metadata": {
    "toc-hr-collapsed": true
   },
   "source": [
    "### Check that you can pull data from an HCOM Qubole Account"
   ]
  },
  {
   "cell_type": "markdown",
   "metadata": {},
   "source": [
    "Create a connector class in this Jupyter notebook by running the following cell (Shift+Enter):"
   ]
  },
  {
   "cell_type": "code",
   "execution_count": 5,
   "metadata": {},
   "outputs": [],
   "source": [
    "import os\n",
    "import re\n",
    "import pandas as pd\n",
    "from qds_sdk.commands import HiveCommand\n",
    "from qds_sdk.qubole import Qubole\n",
    "\n",
    "class QuboleConnector():\n",
    "    def __init__(self, hcom_api_token, bex_api_token):\n",
    "        pass\n",
    "\n",
    "    def query_data(self, sql_query, account):\n",
    "        if account == 'hcom':\n",
    "            Qubole.configure(api_token=hcom_api_token)\n",
    "        else:\n",
    "            Qubole.configure(api_token=bex_api_token)\n",
    "                \n",
    "        cmd = self.execute_query(sql_query)\n",
    "\n",
    "        if HiveCommand.is_success(cmd.status):\n",
    "            with open(\"temp_data.csv\", 'w') as writer:\n",
    "                if account == 'hcom':\n",
    "                    cmd.get_results(writer, delim=\",\", inline=False)\n",
    "                else:\n",
    "                    cmd.get_results(writer, delim=\"\\t\", inline=False)\n",
    "\n",
    "            clean_query = sql_query.replace('\\n', '')\n",
    "            clean_query = re.sub(\"\\\\([^)]*?\\\\)\", \"\", clean_query)\n",
    "            heads = re.search('select(.*?)from', clean_query.lower()).group(1).split(',')\n",
    "            heads = [h.strip() for h in heads]\n",
    "            heads = [h if ' as ' not in h else re.search(' as (.*)', h).group(1) for h in heads]      \n",
    "        \n",
    "        if account == 'hcom':\n",
    "            query_result = pd.read_csv(\"temp_data.csv\", names = heads)\n",
    "        else:\n",
    "            query_result = pd.read_csv(\"temp_data.csv\", names = heads, sep='\\t')\n",
    "        os.remove(\"temp_data.csv\")\n",
    "        return query_result\n",
    "\n",
    "    def execute_query(self, sql_query):\n",
    "        hc_params = ['--query', sql_query]\n",
    "        hive_args = HiveCommand.parse(hc_params)\n",
    "        cmd = HiveCommand.run(**hive_args)\n",
    "        return cmd"
   ]
  },
  {
   "cell_type": "markdown",
   "metadata": {},
   "source": [
    "Set your Qubole API token(s) which can be found [here](https://api.qubole.com/v2/control-panel#manage-accounts) in the next cell."
   ]
  },
  {
   "cell_type": "code",
   "execution_count": 6,
   "metadata": {},
   "outputs": [],
   "source": [
    "hcom_api_token='e430f9db5ff2473897c52d834f4a65742cdddcadbb43409e8684b7309d26e194'"
   ]
  },
  {
   "cell_type": "markdown",
   "metadata": {},
   "source": [
    "Instatiate a Qubole connector object with the token(s):"
   ]
  },
  {
   "cell_type": "code",
   "execution_count": 7,
   "metadata": {},
   "outputs": [],
   "source": [
    "con = QuboleConnector(hcom_api_token, bex_api_token)"
   ]
  },
  {
   "cell_type": "markdown",
   "metadata": {},
   "source": [
    "Query a table in Qubole and assign the result to a pandas dataframe in local memory:"
   ]
  },
  {
   "cell_type": "code",
   "execution_count": 24,
   "metadata": {},
   "outputs": [],
   "source": [
    "hcom_data_sample_query = \"\"\"\n",
    "SELECT \n",
    "    booking_gross_profit_amt_usd\n",
    "    ,omniture_gross_booking_value_usd\n",
    "    ,omniture_user_context_pos\n",
    "FROM bix_clickstream.hermes_omniture_booking_order_summary\n",
    "WHERE omniture_local_date > DATE_SUB(CURRENT_DATE, 7)\n",
    "AND omniture_local_hour = 20\n",
    "AND SUBSTR(omniture_user_context_pos, 6,2) IN ('UK','DE','ES','FR','IT')\n",
    "\n",
    "LIMIT 100\n",
    "\"\"\"\n",
    "\n",
    "hcom_data_sample_df = con.query_data(sql_query=hcom_data_sample_query, account='hcom') "
   ]
  },
  {
   "cell_type": "markdown",
   "metadata": {},
   "source": [
    "If the following cell returns as output a table with 5 rows of data then you're now set up to pull HCOM data from Qubole into a Jupyter notebook."
   ]
  },
  {
   "cell_type": "code",
   "execution_count": 23,
   "metadata": {},
   "outputs": [
    {
     "data": {
      "text/html": [
       "<div>\n",
       "<style scoped>\n",
       "    .dataframe tbody tr th:only-of-type {\n",
       "        vertical-align: middle;\n",
       "    }\n",
       "\n",
       "    .dataframe tbody tr th {\n",
       "        vertical-align: top;\n",
       "    }\n",
       "\n",
       "    .dataframe thead th {\n",
       "        text-align: right;\n",
       "    }\n",
       "</style>\n",
       "<table border=\"1\" class=\"dataframe\">\n",
       "  <thead>\n",
       "    <tr style=\"text-align: right;\">\n",
       "      <th></th>\n",
       "      <th>booking_gross_profit_amt_usd</th>\n",
       "      <th>omniture_gross_booking_value_usd</th>\n",
       "      <th>omniture_user_context_pos</th>\n",
       "    </tr>\n",
       "  </thead>\n",
       "  <tbody>\n",
       "    <tr>\n",
       "      <th>0</th>\n",
       "      <td>11.6355</td>\n",
       "      <td>66.1200</td>\n",
       "      <td>HCOM_US</td>\n",
       "    </tr>\n",
       "    <tr>\n",
       "      <th>1</th>\n",
       "      <td>26.6831</td>\n",
       "      <td>321.9600</td>\n",
       "      <td>HCOM_US</td>\n",
       "    </tr>\n",
       "    <tr>\n",
       "      <th>2</th>\n",
       "      <td>18.9143</td>\n",
       "      <td>181.9237</td>\n",
       "      <td>HCOM_DK</td>\n",
       "    </tr>\n",
       "    <tr>\n",
       "      <th>3</th>\n",
       "      <td>12.9442</td>\n",
       "      <td>78.2200</td>\n",
       "      <td>HCOM_US</td>\n",
       "    </tr>\n",
       "    <tr>\n",
       "      <th>4</th>\n",
       "      <td>55.4240</td>\n",
       "      <td>957.0914</td>\n",
       "      <td>HCOM_FR</td>\n",
       "    </tr>\n",
       "  </tbody>\n",
       "</table>\n",
       "</div>"
      ],
      "text/plain": [
       "   booking_gross_profit_amt_usd  omniture_gross_booking_value_usd  \\\n",
       "0                       11.6355                           66.1200   \n",
       "1                       26.6831                          321.9600   \n",
       "2                       18.9143                          181.9237   \n",
       "3                       12.9442                           78.2200   \n",
       "4                       55.4240                          957.0914   \n",
       "\n",
       "  omniture_user_context_pos  \n",
       "0                   HCOM_US  \n",
       "1                   HCOM_US  \n",
       "2                   HCOM_DK  \n",
       "3                   HCOM_US  \n",
       "4                   HCOM_FR  "
      ]
     },
     "execution_count": 23,
     "metadata": {},
     "output_type": "execute_result"
    }
   ],
   "source": [
    "hcom_data_sample_df.head()"
   ]
  },
  {
   "cell_type": "markdown",
   "metadata": {},
   "source": [
    "### Check that you can render the data with Altair"
   ]
  },
  {
   "cell_type": "markdown",
   "metadata": {},
   "source": [
    "Run the following cell. If it returns an *interactive* scatter plot then you're now ready to create powerful data visualisations with [Altair](https://altair-viz.github.io/index.html) in a Jupyter notebook."
   ]
  },
  {
   "cell_type": "code",
   "execution_count": 37,
   "metadata": {},
   "outputs": [
    {
     "data": {
      "application/vnd.vegalite.v3+json": {
       "$schema": "https://vega.github.io/schema/vega-lite/v3.2.1.json",
       "config": {
        "mark": {
         "tooltip": null
        },
        "view": {
         "height": 300,
         "width": 400
        }
       },
       "data": {
        "name": "data-5e6f95ae5a9f032432f47972f6eb6abf"
       },
       "datasets": {
        "data-5e6f95ae5a9f032432f47972f6eb6abf": [
         {
          "booking_gross_profit_amt_usd": 20.6981,
          "omniture_gross_booking_value_usd": 131.5745,
          "omniture_user_context_pos": "HCOM_FR"
         },
         {
          "booking_gross_profit_amt_usd": 33.9875,
          "omniture_gross_booking_value_usd": 132.1767,
          "omniture_user_context_pos": "HCOM_DE"
         },
         {
          "booking_gross_profit_amt_usd": 7.1957,
          "omniture_gross_booking_value_usd": 126.6281,
          "omniture_user_context_pos": "HCOM_UK"
         },
         {
          "booking_gross_profit_amt_usd": 16.8558,
          "omniture_gross_booking_value_usd": 92.3909,
          "omniture_user_context_pos": "HCOM_UK"
         },
         {
          "booking_gross_profit_amt_usd": 71.1295,
          "omniture_gross_booking_value_usd": 593.0383,
          "omniture_user_context_pos": "HCOM_UK"
         },
         {
          "booking_gross_profit_amt_usd": 78.5112,
          "omniture_gross_booking_value_usd": 663.7936,
          "omniture_user_context_pos": "HCOM_FR"
         },
         {
          "booking_gross_profit_amt_usd": 11.4052,
          "omniture_gross_booking_value_usd": 88.8618,
          "omniture_user_context_pos": "HCOM_UK"
         },
         {
          "booking_gross_profit_amt_usd": 20.5872,
          "omniture_gross_booking_value_usd": 109.6809,
          "omniture_user_context_pos": "HCOM_UK"
         },
         {
          "booking_gross_profit_amt_usd": 54.5228,
          "omniture_gross_booking_value_usd": 389.1132,
          "omniture_user_context_pos": "HCOM_UK"
         },
         {
          "booking_gross_profit_amt_usd": 11.5304,
          "omniture_gross_booking_value_usd": 97.6845,
          "omniture_user_context_pos": "HCOM_UK"
         },
         {
          "booking_gross_profit_amt_usd": 13.359000000000002,
          "omniture_gross_booking_value_usd": 107.0437,
          "omniture_user_context_pos": "HCOM_DE"
         },
         {
          "booking_gross_profit_amt_usd": 26.7607,
          "omniture_gross_booking_value_usd": 186.8637,
          "omniture_user_context_pos": "HCOM_UK"
         },
         {
          "booking_gross_profit_amt_usd": 24.0112,
          "omniture_gross_booking_value_usd": 192.9571,
          "omniture_user_context_pos": "HCOM_UK"
         },
         {
          "booking_gross_profit_amt_usd": 8.5165,
          "omniture_gross_booking_value_usd": 82.2733,
          "omniture_user_context_pos": "HCOM_UK"
         },
         {
          "booking_gross_profit_amt_usd": 18.5554,
          "omniture_gross_booking_value_usd": 148.5516,
          "omniture_user_context_pos": "HCOM_UK"
         },
         {
          "booking_gross_profit_amt_usd": 5.4668,
          "omniture_gross_booking_value_usd": 55.7519,
          "omniture_user_context_pos": "HCOM_FR"
         },
         {
          "booking_gross_profit_amt_usd": 64.5411,
          "omniture_gross_booking_value_usd": 422.3475,
          "omniture_user_context_pos": "HCOM_UK"
         },
         {
          "booking_gross_profit_amt_usd": 12.9541,
          "omniture_gross_booking_value_usd": 91.3105,
          "omniture_user_context_pos": "HCOM_FR"
         },
         {
          "booking_gross_profit_amt_usd": 52.1321,
          "omniture_gross_booking_value_usd": 318.3881,
          "omniture_user_context_pos": "HCOM_DE"
         },
         {
          "booking_gross_profit_amt_usd": 11.5599,
          "omniture_gross_booking_value_usd": 90.2582,
          "omniture_user_context_pos": "HCOM_UK"
         },
         {
          "booking_gross_profit_amt_usd": 45.5012,
          "omniture_gross_booking_value_usd": 316.7824,
          "omniture_user_context_pos": "HCOM_IT"
         },
         {
          "booking_gross_profit_amt_usd": 7.813,
          "omniture_gross_booking_value_usd": 114.2509,
          "omniture_user_context_pos": "HCOM_UK"
         },
         {
          "booking_gross_profit_amt_usd": 8.9631,
          "omniture_gross_booking_value_usd": 84.7429,
          "omniture_user_context_pos": "HCOM_FR"
         },
         {
          "booking_gross_profit_amt_usd": 11.5359,
          "omniture_gross_booking_value_usd": 111.2251,
          "omniture_user_context_pos": "HCOM_FR"
         },
         {
          "booking_gross_profit_amt_usd": 6.2334,
          "omniture_gross_booking_value_usd": 65.7873,
          "omniture_user_context_pos": "HCOM_FR"
         },
         {
          "booking_gross_profit_amt_usd": 2.2199,
          "omniture_gross_booking_value_usd": 38.4019,
          "omniture_user_context_pos": "HCOM_FR"
         },
         {
          "booking_gross_profit_amt_usd": 61.3913,
          "omniture_gross_booking_value_usd": 643.3432,
          "omniture_user_context_pos": "HCOM_DE"
         },
         {
          "booking_gross_profit_amt_usd": 13.6416,
          "omniture_gross_booking_value_usd": 130.4595,
          "omniture_user_context_pos": "HCOM_FR"
         },
         {
          "booking_gross_profit_amt_usd": 24.1514,
          "omniture_gross_booking_value_usd": 143.7731,
          "omniture_user_context_pos": "HCOM_FR"
         },
         {
          "booking_gross_profit_amt_usd": 71.2398,
          "omniture_gross_booking_value_usd": 908.5231,
          "omniture_user_context_pos": "HCOM_UK"
         },
         {
          "booking_gross_profit_amt_usd": 24.545,
          "omniture_gross_booking_value_usd": 191.6876,
          "omniture_user_context_pos": "HCOM_UK"
         },
         {
          "booking_gross_profit_amt_usd": 32.7714,
          "omniture_gross_booking_value_usd": 294.7939,
          "omniture_user_context_pos": "HCOM_ES"
         },
         {
          "booking_gross_profit_amt_usd": 21.3153,
          "omniture_gross_booking_value_usd": 165.8796,
          "omniture_user_context_pos": "HCOM_UK"
         },
         {
          "booking_gross_profit_amt_usd": 67.2148,
          "omniture_gross_booking_value_usd": 388.0334,
          "omniture_user_context_pos": "HCOM_DE"
         },
         {
          "booking_gross_profit_amt_usd": 10.3096,
          "omniture_gross_booking_value_usd": 82.5272,
          "omniture_user_context_pos": "HCOM_UK"
         },
         {
          "booking_gross_profit_amt_usd": 23.1111,
          "omniture_gross_booking_value_usd": 125.5617,
          "omniture_user_context_pos": "HCOM_UK"
         },
         {
          "booking_gross_profit_amt_usd": -4.1212,
          "omniture_gross_booking_value_usd": 149.326,
          "omniture_user_context_pos": "HCOM_FR"
         },
         {
          "booking_gross_profit_amt_usd": 18.3541,
          "omniture_gross_booking_value_usd": 92.6486,
          "omniture_user_context_pos": "HCOM_FR"
         },
         {
          "booking_gross_profit_amt_usd": 24.8175,
          "omniture_gross_booking_value_usd": 209.6272,
          "omniture_user_context_pos": "HCOM_FR"
         },
         {
          "booking_gross_profit_amt_usd": 12.302999999999999,
          "omniture_gross_booking_value_usd": 139.3575,
          "omniture_user_context_pos": "HCOM_FR"
         },
         {
          "booking_gross_profit_amt_usd": 7.6718,
          "omniture_gross_booking_value_usd": 65.123,
          "omniture_user_context_pos": "HCOM_UK"
         },
         {
          "booking_gross_profit_amt_usd": 5.8002,
          "omniture_gross_booking_value_usd": 49.1732,
          "omniture_user_context_pos": "HCOM_FR"
         },
         {
          "booking_gross_profit_amt_usd": 9.8744,
          "omniture_gross_booking_value_usd": 64.2262,
          "omniture_user_context_pos": "HCOM_DE"
         },
         {
          "booking_gross_profit_amt_usd": 12.854000000000001,
          "omniture_gross_booking_value_usd": 100.546,
          "omniture_user_context_pos": "HCOM_UK"
         },
         {
          "booking_gross_profit_amt_usd": 12.8381,
          "omniture_gross_booking_value_usd": 167.1618,
          "omniture_user_context_pos": "HCOM_UK"
         },
         {
          "booking_gross_profit_amt_usd": 2.9957,
          "omniture_gross_booking_value_usd": 62.4422,
          "omniture_user_context_pos": "HCOM_UK"
         },
         {
          "booking_gross_profit_amt_usd": 28.3401,
          "omniture_gross_booking_value_usd": 277.4266,
          "omniture_user_context_pos": "HCOM_UK"
         },
         {
          "booking_gross_profit_amt_usd": 4.7714,
          "omniture_gross_booking_value_usd": 49.0617,
          "omniture_user_context_pos": "HCOM_FR"
         },
         {
          "booking_gross_profit_amt_usd": 16.9971,
          "omniture_gross_booking_value_usd": 91.4332,
          "omniture_user_context_pos": "HCOM_FR"
         },
         {
          "booking_gross_profit_amt_usd": 23.2255,
          "omniture_gross_booking_value_usd": 243.9593,
          "omniture_user_context_pos": "HCOM_DE"
         },
         {
          "booking_gross_profit_amt_usd": 6.4321,
          "omniture_gross_booking_value_usd": 73.0908,
          "omniture_user_context_pos": "HCOM_DE"
         },
         {
          "booking_gross_profit_amt_usd": 13.6405,
          "omniture_gross_booking_value_usd": 152.3345,
          "omniture_user_context_pos": "HCOM_UK"
         },
         {
          "booking_gross_profit_amt_usd": 10.0735,
          "omniture_gross_booking_value_usd": 71.9781,
          "omniture_user_context_pos": "HCOM_UK"
         },
         {
          "booking_gross_profit_amt_usd": 32.3273,
          "omniture_gross_booking_value_usd": 222.5988,
          "omniture_user_context_pos": "HCOM_UK"
         },
         {
          "booking_gross_profit_amt_usd": 12.3635,
          "omniture_gross_booking_value_usd": 91.4007,
          "omniture_user_context_pos": "HCOM_UK"
         },
         {
          "booking_gross_profit_amt_usd": 47.2345,
          "omniture_gross_booking_value_usd": 315.1674,
          "omniture_user_context_pos": "HCOM_UK"
         },
         {
          "booking_gross_profit_amt_usd": 12.57,
          "omniture_gross_booking_value_usd": 100.2869,
          "omniture_user_context_pos": "HCOM_UK"
         },
         {
          "booking_gross_profit_amt_usd": 1.0785,
          "omniture_gross_booking_value_usd": 15,
          "omniture_user_context_pos": "HCOM_UK"
         },
         {
          "booking_gross_profit_amt_usd": 8.4833,
          "omniture_gross_booking_value_usd": 100.3535,
          "omniture_user_context_pos": "HCOM_FR"
         },
         {
          "booking_gross_profit_amt_usd": 379.9265,
          "omniture_gross_booking_value_usd": 2038.5152,
          "omniture_user_context_pos": "HCOM_UK"
         },
         {
          "booking_gross_profit_amt_usd": 17.1471,
          "omniture_gross_booking_value_usd": 569.8835,
          "omniture_user_context_pos": "HCOM_UK"
         },
         {
          "booking_gross_profit_amt_usd": 10.3298,
          "omniture_gross_booking_value_usd": 182.6491,
          "omniture_user_context_pos": "HCOM_UK"
         },
         {
          "booking_gross_profit_amt_usd": 24.6104,
          "omniture_gross_booking_value_usd": 278.6481,
          "omniture_user_context_pos": "HCOM_DE"
         },
         {
          "booking_gross_profit_amt_usd": 3.1912,
          "omniture_gross_booking_value_usd": 109.3853,
          "omniture_user_context_pos": "HCOM_DE"
         },
         {
          "booking_gross_profit_amt_usd": 18.6604,
          "omniture_gross_booking_value_usd": 138.3705,
          "omniture_user_context_pos": "HCOM_UK"
         },
         {
          "booking_gross_profit_amt_usd": 257.1163,
          "omniture_gross_booking_value_usd": 1770.2541,
          "omniture_user_context_pos": "HCOM_UK"
         },
         {
          "booking_gross_profit_amt_usd": 30.0417,
          "omniture_gross_booking_value_usd": 178.6738,
          "omniture_user_context_pos": "HCOM_IT"
         },
         {
          "booking_gross_profit_amt_usd": 16.1039,
          "omniture_gross_booking_value_usd": 135.9586,
          "omniture_user_context_pos": "HCOM_UK"
         },
         {
          "booking_gross_profit_amt_usd": 4.4157,
          "omniture_gross_booking_value_usd": 57.1381,
          "omniture_user_context_pos": "HCOM_UK"
         },
         {
          "booking_gross_profit_amt_usd": 39.4218,
          "omniture_gross_booking_value_usd": 226.5976,
          "omniture_user_context_pos": "HCOM_UK"
         },
         {
          "booking_gross_profit_amt_usd": 160.0803,
          "omniture_gross_booking_value_usd": 1025.8354,
          "omniture_user_context_pos": "HCOM_DE"
         },
         {
          "booking_gross_profit_amt_usd": 133.0951,
          "omniture_gross_booking_value_usd": 1949.0873,
          "omniture_user_context_pos": "HCOM_IT"
         },
         {
          "booking_gross_profit_amt_usd": 7.9573,
          "omniture_gross_booking_value_usd": 83.6279,
          "omniture_user_context_pos": "HCOM_UK"
         },
         {
          "booking_gross_profit_amt_usd": 34.6663,
          "omniture_gross_booking_value_usd": 353.0658,
          "omniture_user_context_pos": "HCOM_FR"
         },
         {
          "booking_gross_profit_amt_usd": 35.2961,
          "omniture_gross_booking_value_usd": 670.1382,
          "omniture_user_context_pos": "HCOM_UK"
         },
         {
          "booking_gross_profit_amt_usd": 345.5174,
          "omniture_gross_booking_value_usd": 2295.9987,
          "omniture_user_context_pos": "HCOM_UK"
         },
         {
          "booking_gross_profit_amt_usd": 43.1183,
          "omniture_gross_booking_value_usd": 279.6628,
          "omniture_user_context_pos": "HCOM_DE"
         },
         {
          "booking_gross_profit_amt_usd": 14.6107,
          "omniture_gross_booking_value_usd": 102.5835,
          "omniture_user_context_pos": "HCOM_FR"
         },
         {
          "booking_gross_profit_amt_usd": 15.5087,
          "omniture_gross_booking_value_usd": 111.0467,
          "omniture_user_context_pos": "HCOM_DE"
         },
         {
          "booking_gross_profit_amt_usd": 7.9813,
          "omniture_gross_booking_value_usd": 32.6818,
          "omniture_user_context_pos": "HCOM_ES"
         },
         {
          "booking_gross_profit_amt_usd": 7.82,
          "omniture_gross_booking_value_usd": 122.6293,
          "omniture_user_context_pos": "HCOM_UK"
         },
         {
          "booking_gross_profit_amt_usd": 12.1151,
          "omniture_gross_booking_value_usd": 71.3625,
          "omniture_user_context_pos": "HCOM_IT"
         },
         {
          "booking_gross_profit_amt_usd": 60.4427,
          "omniture_gross_booking_value_usd": 412.3188,
          "omniture_user_context_pos": "HCOM_UK"
         },
         {
          "booking_gross_profit_amt_usd": 8.729,
          "omniture_gross_booking_value_usd": 89.2031,
          "omniture_user_context_pos": "HCOM_FR"
         },
         {
          "booking_gross_profit_amt_usd": 10.5771,
          "omniture_gross_booking_value_usd": 127.1144,
          "omniture_user_context_pos": "HCOM_FR"
         },
         {
          "booking_gross_profit_amt_usd": 4.664,
          "omniture_gross_booking_value_usd": 49.1843,
          "omniture_user_context_pos": "HCOM_FR"
         },
         {
          "booking_gross_profit_amt_usd": 8.524,
          "omniture_gross_booking_value_usd": 74.8978,
          "omniture_user_context_pos": "HCOM_UK"
         },
         {
          "booking_gross_profit_amt_usd": 14.0407,
          "omniture_gross_booking_value_usd": 96.4397,
          "omniture_user_context_pos": "HCOM_ES"
         },
         {
          "booking_gross_profit_amt_usd": 78.0306,
          "omniture_gross_booking_value_usd": 424.7467,
          "omniture_user_context_pos": "HCOM_UK"
         },
         {
          "booking_gross_profit_amt_usd": 9.4692,
          "omniture_gross_booking_value_usd": 54.5865,
          "omniture_user_context_pos": "HCOM_UK"
         },
         {
          "booking_gross_profit_amt_usd": 13.2851,
          "omniture_gross_booking_value_usd": 163.7596,
          "omniture_user_context_pos": "HCOM_UK"
         },
         {
          "booking_gross_profit_amt_usd": 46.0617,
          "omniture_gross_booking_value_usd": 363.8256,
          "omniture_user_context_pos": "HCOM_UK"
         },
         {
          "booking_gross_profit_amt_usd": 11.5201,
          "omniture_gross_booking_value_usd": 104.7681,
          "omniture_user_context_pos": "HCOM_UK"
         },
         {
          "booking_gross_profit_amt_usd": 13.2001,
          "omniture_gross_booking_value_usd": 175.1847,
          "omniture_user_context_pos": "HCOM_UK"
         },
         {
          "booking_gross_profit_amt_usd": 13.5923,
          "omniture_gross_booking_value_usd": 67.6873,
          "omniture_user_context_pos": "HCOM_UK"
         },
         {
          "booking_gross_profit_amt_usd": 11.1932,
          "omniture_gross_booking_value_usd": 60.2121,
          "omniture_user_context_pos": "HCOM_IT"
         },
         {
          "booking_gross_profit_amt_usd": 79.4148,
          "omniture_gross_booking_value_usd": 683.0614,
          "omniture_user_context_pos": "HCOM_ES"
         },
         {
          "booking_gross_profit_amt_usd": 12.5208,
          "omniture_gross_booking_value_usd": 109.2738,
          "omniture_user_context_pos": "HCOM_UK"
         },
         {
          "booking_gross_profit_amt_usd": 6.4026,
          "omniture_gross_booking_value_usd": 72.4775,
          "omniture_user_context_pos": "HCOM_FR"
         },
         {
          "booking_gross_profit_amt_usd": 16.9481,
          "omniture_gross_booking_value_usd": 132.3279,
          "omniture_user_context_pos": "HCOM_UK"
         },
         {
          "booking_gross_profit_amt_usd": 25.1948,
          "omniture_gross_booking_value_usd": 108.6271,
          "omniture_user_context_pos": "HCOM_IT"
         },
         {
          "booking_gross_profit_amt_usd": 16.2711,
          "omniture_gross_booking_value_usd": 120.4242,
          "omniture_user_context_pos": "HCOM_FR"
         },
         {
          "booking_gross_profit_amt_usd": 6.96,
          "omniture_gross_booking_value_usd": 163.7596,
          "omniture_user_context_pos": "HCOM_UK"
         },
         {
          "booking_gross_profit_amt_usd": 46.7628,
          "omniture_gross_booking_value_usd": 602.2799,
          "omniture_user_context_pos": "HCOM_UK"
         },
         {
          "booking_gross_profit_amt_usd": 9.0712,
          "omniture_gross_booking_value_usd": 114.7333,
          "omniture_user_context_pos": "HCOM_UK"
         },
         {
          "booking_gross_profit_amt_usd": 12.1188,
          "omniture_gross_booking_value_usd": 209.46,
          "omniture_user_context_pos": "HCOM_UK"
         },
         {
          "booking_gross_profit_amt_usd": 4.4739,
          "omniture_gross_booking_value_usd": 39.149,
          "omniture_user_context_pos": "HCOM_FR"
         },
         {
          "booking_gross_profit_amt_usd": 6.6995,
          "omniture_gross_booking_value_usd": 92.3655,
          "omniture_user_context_pos": "HCOM_UK"
         },
         {
          "booking_gross_profit_amt_usd": 22.0567,
          "omniture_gross_booking_value_usd": 148.5008,
          "omniture_user_context_pos": "HCOM_FR"
         },
         {
          "booking_gross_profit_amt_usd": 23.3958,
          "omniture_gross_booking_value_usd": 378.2974,
          "omniture_user_context_pos": "HCOM_UK"
         },
         {
          "booking_gross_profit_amt_usd": 10.6913,
          "omniture_gross_booking_value_usd": 83.3524,
          "omniture_user_context_pos": "HCOM_UK"
         },
         {
          "booking_gross_profit_amt_usd": 94.0822,
          "omniture_gross_booking_value_usd": 798.2003,
          "omniture_user_context_pos": "HCOM_FR"
         },
         {
          "booking_gross_profit_amt_usd": 128.7516,
          "omniture_gross_booking_value_usd": 731.4207,
          "omniture_user_context_pos": "HCOM_FR"
         },
         {
          "booking_gross_profit_amt_usd": 47.4101,
          "omniture_gross_booking_value_usd": 499.0865,
          "omniture_user_context_pos": "HCOM_ES"
         },
         {
          "booking_gross_profit_amt_usd": 28.1519,
          "omniture_gross_booking_value_usd": 441.4655,
          "omniture_user_context_pos": "HCOM_UK"
         },
         {
          "booking_gross_profit_amt_usd": 12.3634,
          "omniture_gross_booking_value_usd": 84.6314,
          "omniture_user_context_pos": "HCOM_FR"
         },
         {
          "booking_gross_profit_amt_usd": 2.2762,
          "omniture_gross_booking_value_usd": 14.8412,
          "omniture_user_context_pos": "HCOM_DE"
         },
         {
          "booking_gross_profit_amt_usd": 38.1059,
          "omniture_gross_booking_value_usd": 324.7518,
          "omniture_user_context_pos": "HCOM_UK"
         },
         {
          "booking_gross_profit_amt_usd": 22.6047,
          "omniture_gross_booking_value_usd": 227.3085,
          "omniture_user_context_pos": "HCOM_UK"
         },
         {
          "booking_gross_profit_amt_usd": 8.8303,
          "omniture_gross_booking_value_usd": 153.5913,
          "omniture_user_context_pos": "HCOM_UK"
         },
         {
          "booking_gross_profit_amt_usd": 58.4588,
          "omniture_gross_booking_value_usd": 401.4139,
          "omniture_user_context_pos": "HCOM_ES"
         },
         {
          "booking_gross_profit_amt_usd": 13.0407,
          "omniture_gross_booking_value_usd": 101.6833,
          "omniture_user_context_pos": "HCOM_UK"
         },
         {
          "booking_gross_profit_amt_usd": 28.734,
          "omniture_gross_booking_value_usd": 224.4395,
          "omniture_user_context_pos": "HCOM_UK"
         },
         {
          "booking_gross_profit_amt_usd": 12.6883,
          "omniture_gross_booking_value_usd": 101.5564,
          "omniture_user_context_pos": "HCOM_UK"
         },
         {
          "booking_gross_profit_amt_usd": 29.5882,
          "omniture_gross_booking_value_usd": 231.2575,
          "omniture_user_context_pos": "HCOM_UK"
         },
         {
          "booking_gross_profit_amt_usd": 10.9998,
          "omniture_gross_booking_value_usd": 138.7768,
          "omniture_user_context_pos": "HCOM_UK"
         },
         {
          "booking_gross_profit_amt_usd": 71.5676,
          "omniture_gross_booking_value_usd": 591.058,
          "omniture_user_context_pos": "HCOM_UK"
         },
         {
          "booking_gross_profit_amt_usd": 32.5228,
          "omniture_gross_booking_value_usd": 261.3045,
          "omniture_user_context_pos": "HCOM_UK"
         },
         {
          "booking_gross_profit_amt_usd": 19.998,
          "omniture_gross_booking_value_usd": 112.2071,
          "omniture_user_context_pos": "HCOM_UK"
         },
         {
          "booking_gross_profit_amt_usd": 26.7168,
          "omniture_gross_booking_value_usd": 276.06,
          "omniture_user_context_pos": "HCOM_FR"
         },
         {
          "booking_gross_profit_amt_usd": 10.5182,
          "omniture_gross_booking_value_usd": 119.316,
          "omniture_user_context_pos": "HCOM_UK"
         },
         {
          "booking_gross_profit_amt_usd": 10.9701,
          "omniture_gross_booking_value_usd": 74.8978,
          "omniture_user_context_pos": "HCOM_UK"
         },
         {
          "booking_gross_profit_amt_usd": 5.5773,
          "omniture_gross_booking_value_usd": 43.4153,
          "omniture_user_context_pos": "HCOM_UK"
         },
         {
          "booking_gross_profit_amt_usd": 12.1124,
          "omniture_gross_booking_value_usd": 121.5392,
          "omniture_user_context_pos": "HCOM_DE"
         },
         {
          "booking_gross_profit_amt_usd": 75.5452,
          "omniture_gross_booking_value_usd": 545.9117,
          "omniture_user_context_pos": "HCOM_UK"
         },
         {
          "booking_gross_profit_amt_usd": 20.5634,
          "omniture_gross_booking_value_usd": 206.5163,
          "omniture_user_context_pos": "HCOM_DE"
         },
         {
          "booking_gross_profit_amt_usd": 21.8102,
          "omniture_gross_booking_value_usd": 159.9513,
          "omniture_user_context_pos": "HCOM_UK"
         },
         {
          "booking_gross_profit_amt_usd": 17.1628,
          "omniture_gross_booking_value_usd": 134.5622,
          "omniture_user_context_pos": "HCOM_UK"
         },
         {
          "booking_gross_profit_amt_usd": 13.8666,
          "omniture_gross_booking_value_usd": 97.126,
          "omniture_user_context_pos": "HCOM_UK"
         },
         {
          "booking_gross_profit_amt_usd": 37.6096,
          "omniture_gross_booking_value_usd": 459.8865,
          "omniture_user_context_pos": "HCOM_ES"
         },
         {
          "booking_gross_profit_amt_usd": 10.5703,
          "omniture_gross_booking_value_usd": 152.3345,
          "omniture_user_context_pos": "HCOM_UK"
         },
         {
          "booking_gross_profit_amt_usd": 23.7876,
          "omniture_gross_booking_value_usd": 313.7837,
          "omniture_user_context_pos": "HCOM_UK"
         },
         {
          "booking_gross_profit_amt_usd": 31.4139,
          "omniture_gross_booking_value_usd": 214.2331,
          "omniture_user_context_pos": "HCOM_UK"
         },
         {
          "booking_gross_profit_amt_usd": 2.5097,
          "omniture_gross_booking_value_usd": 83.4941,
          "omniture_user_context_pos": "HCOM_FR"
         },
         {
          "booking_gross_profit_amt_usd": 10.4068,
          "omniture_gross_booking_value_usd": 70.6488,
          "omniture_user_context_pos": "HCOM_IT"
         },
         {
          "booking_gross_profit_amt_usd": 4.9539,
          "omniture_gross_booking_value_usd": 32.6149,
          "omniture_user_context_pos": "HCOM_FR"
         },
         {
          "booking_gross_profit_amt_usd": 4.093,
          "omniture_gross_booking_value_usd": 135.8951,
          "omniture_user_context_pos": "HCOM_UK"
         },
         {
          "booking_gross_profit_amt_usd": 14.0093,
          "omniture_gross_booking_value_usd": 294.9723,
          "omniture_user_context_pos": "HCOM_FR"
         },
         {
          "booking_gross_profit_amt_usd": 31.0279,
          "omniture_gross_booking_value_usd": 209.7387,
          "omniture_user_context_pos": "HCOM_UK"
         },
         {
          "booking_gross_profit_amt_usd": 41.3383,
          "omniture_gross_booking_value_usd": 275.2584,
          "omniture_user_context_pos": "HCOM_FR"
         },
         {
          "booking_gross_profit_amt_usd": 6.125,
          "omniture_gross_booking_value_usd": 62.2033,
          "omniture_user_context_pos": "HCOM_UK"
         },
         {
          "booking_gross_profit_amt_usd": 25.2754,
          "omniture_gross_booking_value_usd": 137.5066,
          "omniture_user_context_pos": "HCOM_FR"
         },
         {
          "booking_gross_profit_amt_usd": 9.1191,
          "omniture_gross_booking_value_usd": 108.3606,
          "omniture_user_context_pos": "HCOM_UK"
         },
         {
          "booking_gross_profit_amt_usd": 19.0937,
          "omniture_gross_booking_value_usd": 190.4182,
          "omniture_user_context_pos": "HCOM_UK"
         },
         {
          "booking_gross_profit_amt_usd": 217.9475,
          "omniture_gross_booking_value_usd": 1447.2923,
          "omniture_user_context_pos": "HCOM_UK"
         },
         {
          "booking_gross_profit_amt_usd": 11.5749,
          "omniture_gross_booking_value_usd": 66.512,
          "omniture_user_context_pos": "HCOM_FR"
         },
         {
          "booking_gross_profit_amt_usd": 22.2695,
          "omniture_gross_booking_value_usd": 173.9153,
          "omniture_user_context_pos": "HCOM_UK"
         },
         {
          "booking_gross_profit_amt_usd": 19.0335,
          "omniture_gross_booking_value_usd": 176.0479,
          "omniture_user_context_pos": "HCOM_UK"
         },
         {
          "booking_gross_profit_amt_usd": 27.7212,
          "omniture_gross_booking_value_usd": 169.4859,
          "omniture_user_context_pos": "HCOM_FR"
         },
         {
          "booking_gross_profit_amt_usd": 16.5693,
          "omniture_gross_booking_value_usd": 99.2384,
          "omniture_user_context_pos": "HCOM_FR"
         },
         {
          "booking_gross_profit_amt_usd": 16.3051,
          "omniture_gross_booking_value_usd": 92.5482,
          "omniture_user_context_pos": "HCOM_FR"
         },
         {
          "booking_gross_profit_amt_usd": 51.8296,
          "omniture_gross_booking_value_usd": 332.2592,
          "omniture_user_context_pos": "HCOM_FR"
         },
         {
          "booking_gross_profit_amt_usd": 7.9416,
          "omniture_gross_booking_value_usd": 43.1488,
          "omniture_user_context_pos": "HCOM_UK"
         },
         {
          "booking_gross_profit_amt_usd": 14.2273,
          "omniture_gross_booking_value_usd": 78.2534,
          "omniture_user_context_pos": "HCOM_ES"
         },
         {
          "booking_gross_profit_amt_usd": 16.8629,
          "omniture_gross_booking_value_usd": 117.079,
          "omniture_user_context_pos": "HCOM_ES"
         },
         {
          "booking_gross_profit_amt_usd": 32.0944,
          "omniture_gross_booking_value_usd": 156.1165,
          "omniture_user_context_pos": "HCOM_IT"
         },
         {
          "booking_gross_profit_amt_usd": 28.3201,
          "omniture_gross_booking_value_usd": 267.4866,
          "omniture_user_context_pos": "HCOM_FR"
         },
         {
          "booking_gross_profit_amt_usd": 13.6353,
          "omniture_gross_booking_value_usd": 101.5564,
          "omniture_user_context_pos": "HCOM_UK"
         },
         {
          "booking_gross_profit_amt_usd": -0.5257,
          "omniture_gross_booking_value_usd": 114.2509,
          "omniture_user_context_pos": "HCOM_UK"
         },
         {
          "booking_gross_profit_amt_usd": 16.9875,
          "omniture_gross_booking_value_usd": 134.5622,
          "omniture_user_context_pos": "HCOM_UK"
         },
         {
          "booking_gross_profit_amt_usd": 13.1561,
          "omniture_gross_booking_value_usd": 102.6839,
          "omniture_user_context_pos": "HCOM_DE"
         },
         {
          "booking_gross_profit_amt_usd": 33.9745,
          "omniture_gross_booking_value_usd": 189.1614,
          "omniture_user_context_pos": "HCOM_UK"
         },
         {
          "booking_gross_profit_amt_usd": 8.8519,
          "omniture_gross_booking_value_usd": 100.2869,
          "omniture_user_context_pos": "HCOM_UK"
         },
         {
          "booking_gross_profit_amt_usd": 96.8481,
          "omniture_gross_booking_value_usd": 454.1106,
          "omniture_user_context_pos": "HCOM_FR"
         },
         {
          "booking_gross_profit_amt_usd": 8.8159,
          "omniture_gross_booking_value_usd": 129.4843,
          "omniture_user_context_pos": "HCOM_UK"
         },
         {
          "booking_gross_profit_amt_usd": 11.5479,
          "omniture_gross_booking_value_usd": 79.9756,
          "omniture_user_context_pos": "HCOM_UK"
         },
         {
          "booking_gross_profit_amt_usd": 18.778,
          "omniture_gross_booking_value_usd": 171.3763,
          "omniture_user_context_pos": "HCOM_UK"
         },
         {
          "booking_gross_profit_amt_usd": 90.9696,
          "omniture_gross_booking_value_usd": 566.6626,
          "omniture_user_context_pos": "HCOM_FR"
         },
         {
          "booking_gross_profit_amt_usd": 3.7017,
          "omniture_gross_booking_value_usd": 76.9488,
          "omniture_user_context_pos": "HCOM_FR"
         },
         {
          "booking_gross_profit_amt_usd": 61.9867,
          "omniture_gross_booking_value_usd": 249.7686,
          "omniture_user_context_pos": "HCOM_DE"
         },
         {
          "booking_gross_profit_amt_usd": 28.7074,
          "omniture_gross_booking_value_usd": 225.3028,
          "omniture_user_context_pos": "HCOM_UK"
         },
         {
          "booking_gross_profit_amt_usd": 58.4912,
          "omniture_gross_booking_value_usd": 403.8893,
          "omniture_user_context_pos": "HCOM_FR"
         },
         {
          "booking_gross_profit_amt_usd": 34.486,
          "omniture_gross_booking_value_usd": 266.4942,
          "omniture_user_context_pos": "HCOM_UK"
         },
         {
          "booking_gross_profit_amt_usd": 6.3098,
          "omniture_gross_booking_value_usd": 106.39299999999999,
          "omniture_user_context_pos": "HCOM_UK"
         },
         {
          "booking_gross_profit_amt_usd": 66.419,
          "omniture_gross_booking_value_usd": 307.9848,
          "omniture_user_context_pos": "HCOM_ES"
         },
         {
          "booking_gross_profit_amt_usd": 7.6578,
          "omniture_gross_booking_value_usd": 81.2451,
          "omniture_user_context_pos": "HCOM_UK"
         },
         {
          "booking_gross_profit_amt_usd": 14.9051,
          "omniture_gross_booking_value_usd": 119.4318,
          "omniture_user_context_pos": "HCOM_DE"
         },
         {
          "booking_gross_profit_amt_usd": 1.0639,
          "omniture_gross_booking_value_usd": 6.4672,
          "omniture_user_context_pos": "HCOM_FR"
         },
         {
          "booking_gross_profit_amt_usd": 31.8745,
          "omniture_gross_booking_value_usd": 173.7756,
          "omniture_user_context_pos": "HCOM_UK"
         },
         {
          "booking_gross_profit_amt_usd": 9.1109,
          "omniture_gross_booking_value_usd": 71.251,
          "omniture_user_context_pos": "HCOM_DE"
         },
         {
          "booking_gross_profit_amt_usd": 14.7335,
          "omniture_gross_booking_value_usd": 83.6279,
          "omniture_user_context_pos": "HCOM_ES"
         },
         {
          "booking_gross_profit_amt_usd": 14.7772,
          "omniture_gross_booking_value_usd": 165.0291,
          "omniture_user_context_pos": "HCOM_UK"
         },
         {
          "booking_gross_profit_amt_usd": 24.3522,
          "omniture_gross_booking_value_usd": 195.1317,
          "omniture_user_context_pos": "HCOM_FR"
         },
         {
          "booking_gross_profit_amt_usd": 32.8032,
          "omniture_gross_booking_value_usd": 312.2108,
          "omniture_user_context_pos": "HCOM_FR"
         },
         {
          "booking_gross_profit_amt_usd": 50.9954,
          "omniture_gross_booking_value_usd": 397.5931,
          "omniture_user_context_pos": "HCOM_UK"
         },
         {
          "booking_gross_profit_amt_usd": 53.3637,
          "omniture_gross_booking_value_usd": 322.6445,
          "omniture_user_context_pos": "HCOM_UK"
         },
         {
          "booking_gross_profit_amt_usd": -14.0021,
          "omniture_gross_booking_value_usd": 85.1423,
          "omniture_user_context_pos": "HCOM_UK"
         },
         {
          "booking_gross_profit_amt_usd": 39.4013,
          "omniture_gross_booking_value_usd": 401.4139,
          "omniture_user_context_pos": "HCOM_UK"
         },
         {
          "booking_gross_profit_amt_usd": 6.1539,
          "omniture_gross_booking_value_usd": 69.82,
          "omniture_user_context_pos": "HCOM_UK"
         },
         {
          "booking_gross_profit_amt_usd": 22.3967,
          "omniture_gross_booking_value_usd": 145.9873,
          "omniture_user_context_pos": "HCOM_UK"
         },
         {
          "booking_gross_profit_amt_usd": 25.33,
          "omniture_gross_booking_value_usd": 145.7132,
          "omniture_user_context_pos": "HCOM_UK"
         },
         {
          "booking_gross_profit_amt_usd": 7.6642,
          "omniture_gross_booking_value_usd": 83.6279,
          "omniture_user_context_pos": "HCOM_DE"
         },
         {
          "booking_gross_profit_amt_usd": 30.3505,
          "omniture_gross_booking_value_usd": 196.19099999999997,
          "omniture_user_context_pos": "HCOM_FR"
         },
         {
          "booking_gross_profit_amt_usd": 8.3942,
          "omniture_gross_booking_value_usd": 107.9036,
          "omniture_user_context_pos": "HCOM_UK"
         },
         {
          "booking_gross_profit_amt_usd": 8.4403,
          "omniture_gross_booking_value_usd": 73.3361,
          "omniture_user_context_pos": "HCOM_FR"
         },
         {
          "booking_gross_profit_amt_usd": 8.883,
          "omniture_gross_booking_value_usd": 103.2828,
          "omniture_user_context_pos": "HCOM_UK"
         },
         {
          "booking_gross_profit_amt_usd": 101.4003,
          "omniture_gross_booking_value_usd": 609.5581,
          "omniture_user_context_pos": "HCOM_FR"
         },
         {
          "booking_gross_profit_amt_usd": 41.0047,
          "omniture_gross_booking_value_usd": 348.5414,
          "omniture_user_context_pos": "HCOM_UK"
         },
         {
          "booking_gross_profit_amt_usd": 29.9412,
          "omniture_gross_booking_value_usd": 252.6214,
          "omniture_user_context_pos": "HCOM_UK"
         },
         {
          "booking_gross_profit_amt_usd": 24.1808,
          "omniture_gross_booking_value_usd": 188.6645,
          "omniture_user_context_pos": "HCOM_FR"
         },
         {
          "booking_gross_profit_amt_usd": 2.1417,
          "omniture_gross_booking_value_usd": 47.9467,
          "omniture_user_context_pos": "HCOM_FR"
         },
         {
          "booking_gross_profit_amt_usd": 7.9429,
          "omniture_gross_booking_value_usd": 67.079,
          "omniture_user_context_pos": "HCOM_IT"
         },
         {
          "booking_gross_profit_amt_usd": 53.5865,
          "omniture_gross_booking_value_usd": 438.2101,
          "omniture_user_context_pos": "HCOM_UK"
         },
         {
          "booking_gross_profit_amt_usd": 18.8136,
          "omniture_gross_booking_value_usd": 222.1545,
          "omniture_user_context_pos": "HCOM_UK"
         },
         {
          "booking_gross_profit_amt_usd": 44.8717,
          "omniture_gross_booking_value_usd": 292.4823,
          "omniture_user_context_pos": "HCOM_UK"
         },
         {
          "booking_gross_profit_amt_usd": 4.2724,
          "omniture_gross_booking_value_usd": 57.1381,
          "omniture_user_context_pos": "HCOM_UK"
         },
         {
          "booking_gross_profit_amt_usd": 76.8096,
          "omniture_gross_booking_value_usd": 723.6144,
          "omniture_user_context_pos": "HCOM_UK"
         },
         {
          "booking_gross_profit_amt_usd": 3.8560000000000003,
          "omniture_gross_booking_value_usd": 56.867,
          "omniture_user_context_pos": "HCOM_FR"
         },
         {
          "booking_gross_profit_amt_usd": 8.2864,
          "omniture_gross_booking_value_usd": 66.2655,
          "omniture_user_context_pos": "HCOM_UK"
         },
         {
          "booking_gross_profit_amt_usd": 10.0894,
          "omniture_gross_booking_value_usd": 85.1169,
          "omniture_user_context_pos": "HCOM_UK"
         },
         {
          "booking_gross_profit_amt_usd": 10.1741,
          "omniture_gross_booking_value_usd": 76.9377,
          "omniture_user_context_pos": "HCOM_UK"
         },
         {
          "booking_gross_profit_amt_usd": 47.0854,
          "omniture_gross_booking_value_usd": 270.9544,
          "omniture_user_context_pos": "HCOM_IT"
         },
         {
          "booking_gross_profit_amt_usd": 7.5266,
          "omniture_gross_booking_value_usd": 68.5505,
          "omniture_user_context_pos": "HCOM_UK"
         },
         {
          "booking_gross_profit_amt_usd": 44.1217,
          "omniture_gross_booking_value_usd": 393.8482,
          "omniture_user_context_pos": "HCOM_UK"
         },
         {
          "booking_gross_profit_amt_usd": 6.4551,
          "omniture_gross_booking_value_usd": 59.911,
          "omniture_user_context_pos": "HCOM_FR"
         },
         {
          "booking_gross_profit_amt_usd": 10.1364,
          "omniture_gross_booking_value_usd": 71.0894,
          "omniture_user_context_pos": "HCOM_UK"
         },
         {
          "booking_gross_profit_amt_usd": 13.8387,
          "omniture_gross_booking_value_usd": 79.8702,
          "omniture_user_context_pos": "HCOM_FR"
         },
         {
          "booking_gross_profit_amt_usd": 48.1828,
          "omniture_gross_booking_value_usd": 460.9389,
          "omniture_user_context_pos": "HCOM_UK"
         },
         {
          "booking_gross_profit_amt_usd": 3.9477,
          "omniture_gross_booking_value_usd": 55.0383,
          "omniture_user_context_pos": "HCOM_IT"
         },
         {
          "booking_gross_profit_amt_usd": 9.3065,
          "omniture_gross_booking_value_usd": 89.4738,
          "omniture_user_context_pos": "HCOM_UK"
         },
         {
          "booking_gross_profit_amt_usd": 17.4343,
          "omniture_gross_booking_value_usd": 238.6182,
          "omniture_user_context_pos": "HCOM_FR"
         },
         {
          "booking_gross_profit_amt_usd": 11.5754,
          "omniture_gross_booking_value_usd": 90.4486,
          "omniture_user_context_pos": "HCOM_UK"
         },
         {
          "booking_gross_profit_amt_usd": 19.4493,
          "omniture_gross_booking_value_usd": 100.3535,
          "omniture_user_context_pos": "HCOM_FR"
         },
         {
          "booking_gross_profit_amt_usd": 6.9639999999999995,
          "omniture_gross_booking_value_usd": 69.0075,
          "omniture_user_context_pos": "HCOM_UK"
         },
         {
          "booking_gross_profit_amt_usd": 36.1705,
          "omniture_gross_booking_value_usd": 178.8076,
          "omniture_user_context_pos": "HCOM_DE"
         },
         {
          "booking_gross_profit_amt_usd": 1.6113,
          "omniture_gross_booking_value_usd": 10.604000000000001,
          "omniture_user_context_pos": "HCOM_DE"
         },
         {
          "booking_gross_profit_amt_usd": 105.9072,
          "omniture_gross_booking_value_usd": 1147.0917,
          "omniture_user_context_pos": "HCOM_UK"
         },
         {
          "booking_gross_profit_amt_usd": 35.1278,
          "omniture_gross_booking_value_usd": 334.17699999999996,
          "omniture_user_context_pos": "HCOM_DE"
         },
         {
          "booking_gross_profit_amt_usd": 10.1587,
          "omniture_gross_booking_value_usd": 75.25399999999999,
          "omniture_user_context_pos": "HCOM_DE"
         },
         {
          "booking_gross_profit_amt_usd": 22.7127,
          "omniture_gross_booking_value_usd": 159.2944,
          "omniture_user_context_pos": "HCOM_DE"
         },
         {
          "booking_gross_profit_amt_usd": 21.6448,
          "omniture_gross_booking_value_usd": 170.9912,
          "omniture_user_context_pos": "HCOM_FR"
         },
         {
          "booking_gross_profit_amt_usd": 36.4972,
          "omniture_gross_booking_value_usd": 383.5733,
          "omniture_user_context_pos": "HCOM_IT"
         },
         {
          "booking_gross_profit_amt_usd": 9.7549,
          "omniture_gross_booking_value_usd": 82.5145,
          "omniture_user_context_pos": "HCOM_UK"
         },
         {
          "booking_gross_profit_amt_usd": 11.694,
          "omniture_gross_booking_value_usd": 91.2357,
          "omniture_user_context_pos": "HCOM_UK"
         },
         {
          "booking_gross_profit_amt_usd": 17.0168,
          "omniture_gross_booking_value_usd": 96.4785,
          "omniture_user_context_pos": "HCOM_UK"
         },
         {
          "booking_gross_profit_amt_usd": 7.7767,
          "omniture_gross_booking_value_usd": 25.1733,
          "omniture_user_context_pos": "HCOM_UK"
         },
         {
          "booking_gross_profit_amt_usd": 21.475,
          "omniture_gross_booking_value_usd": 182.2556,
          "omniture_user_context_pos": "HCOM_UK"
         },
         {
          "booking_gross_profit_amt_usd": 7.2024,
          "omniture_gross_booking_value_usd": 150.5414,
          "omniture_user_context_pos": "HCOM_FR"
         },
         {
          "booking_gross_profit_amt_usd": 20.2563,
          "omniture_gross_booking_value_usd": 114.4141,
          "omniture_user_context_pos": "HCOM_FR"
         },
         {
          "booking_gross_profit_amt_usd": 30.5042,
          "omniture_gross_booking_value_usd": 282.4281,
          "omniture_user_context_pos": "HCOM_FR"
         },
         {
          "booking_gross_profit_amt_usd": 52.4724,
          "omniture_gross_booking_value_usd": 286.8967,
          "omniture_user_context_pos": "HCOM_UK"
         },
         {
          "booking_gross_profit_amt_usd": 80.6673,
          "omniture_gross_booking_value_usd": 737.9211,
          "omniture_user_context_pos": "HCOM_UK"
         },
         {
          "booking_gross_profit_amt_usd": 11.4764,
          "omniture_gross_booking_value_usd": 116.7898,
          "omniture_user_context_pos": "HCOM_UK"
         },
         {
          "booking_gross_profit_amt_usd": 78.9382,
          "omniture_gross_booking_value_usd": 433.75,
          "omniture_user_context_pos": "HCOM_DE"
         },
         {
          "booking_gross_profit_amt_usd": 61.5815,
          "omniture_gross_booking_value_usd": 461.9037,
          "omniture_user_context_pos": "HCOM_UK"
         },
         {
          "booking_gross_profit_amt_usd": 1.3491,
          "omniture_gross_booking_value_usd": 64.1036,
          "omniture_user_context_pos": "HCOM_FR"
         },
         {
          "booking_gross_profit_amt_usd": 15.5453,
          "omniture_gross_booking_value_usd": 121.5392,
          "omniture_user_context_pos": "HCOM_DE"
         },
         {
          "booking_gross_profit_amt_usd": -44.7032,
          "omniture_gross_booking_value_usd": 16.4902,
          "omniture_user_context_pos": "HCOM_UK"
         },
         {
          "booking_gross_profit_amt_usd": 24.7806,
          "omniture_gross_booking_value_usd": 214.23,
          "omniture_user_context_pos": "HCOM_UK"
         },
         {
          "booking_gross_profit_amt_usd": 29.8,
          "omniture_gross_booking_value_usd": 159.9513,
          "omniture_user_context_pos": "HCOM_UK"
         },
         {
          "booking_gross_profit_amt_usd": 8.7372,
          "omniture_gross_booking_value_usd": 76.1673,
          "omniture_user_context_pos": "HCOM_UK"
         },
         {
          "booking_gross_profit_amt_usd": 14.2616,
          "omniture_gross_booking_value_usd": 111.505,
          "omniture_user_context_pos": "HCOM_UK"
         },
         {
          "booking_gross_profit_amt_usd": 25.9088,
          "omniture_gross_booking_value_usd": 264.8216,
          "omniture_user_context_pos": "HCOM_FR"
         },
         {
          "booking_gross_profit_amt_usd": 8.267000000000001,
          "omniture_gross_booking_value_usd": 80.2295,
          "omniture_user_context_pos": "HCOM_UK"
         },
         {
          "booking_gross_profit_amt_usd": 24.4796,
          "omniture_gross_booking_value_usd": 311.0544,
          "omniture_user_context_pos": "HCOM_UK"
         },
         {
          "booking_gross_profit_amt_usd": 63.3356,
          "omniture_gross_booking_value_usd": 537.0808,
          "omniture_user_context_pos": "HCOM_UK"
         },
         {
          "booking_gross_profit_amt_usd": 7.2791,
          "omniture_gross_booking_value_usd": 58.5232,
          "omniture_user_context_pos": "HCOM_DE"
         },
         {
          "booking_gross_profit_amt_usd": 16.2627,
          "omniture_gross_booking_value_usd": 101.6833,
          "omniture_user_context_pos": "HCOM_UK"
         },
         {
          "booking_gross_profit_amt_usd": 9.7003,
          "omniture_gross_booking_value_usd": 99.0174,
          "omniture_user_context_pos": "HCOM_UK"
         },
         {
          "booking_gross_profit_amt_usd": 9.1227,
          "omniture_gross_booking_value_usd": 63.8916,
          "omniture_user_context_pos": "HCOM_UK"
         },
         {
          "booking_gross_profit_amt_usd": 16.4574,
          "omniture_gross_booking_value_usd": 107.0437,
          "omniture_user_context_pos": "HCOM_FR"
         },
         {
          "booking_gross_profit_amt_usd": 15.0379,
          "omniture_gross_booking_value_usd": 117.4024,
          "omniture_user_context_pos": "HCOM_FR"
         },
         {
          "booking_gross_profit_amt_usd": 9.5641,
          "omniture_gross_booking_value_usd": 108.4749,
          "omniture_user_context_pos": "HCOM_UK"
         },
         {
          "booking_gross_profit_amt_usd": 17.7242,
          "omniture_gross_booking_value_usd": 87.7066,
          "omniture_user_context_pos": "HCOM_UK"
         },
         {
          "booking_gross_profit_amt_usd": 17.4831,
          "omniture_gross_booking_value_usd": 148.49,
          "omniture_user_context_pos": "HCOM_UK"
         },
         {
          "booking_gross_profit_amt_usd": 10.276,
          "omniture_gross_booking_value_usd": 131.5155,
          "omniture_user_context_pos": "HCOM_UK"
         },
         {
          "booking_gross_profit_amt_usd": 6.6003,
          "omniture_gross_booking_value_usd": 55.7519,
          "omniture_user_context_pos": "HCOM_IT"
         },
         {
          "booking_gross_profit_amt_usd": 177.2822,
          "omniture_gross_booking_value_usd": 1316.6375,
          "omniture_user_context_pos": "HCOM_FR"
         },
         {
          "booking_gross_profit_amt_usd": 11.6364,
          "omniture_gross_booking_value_usd": 78.4777,
          "omniture_user_context_pos": "HCOM_UK"
         },
         {
          "booking_gross_profit_amt_usd": 147.5398,
          "omniture_gross_booking_value_usd": 1111.1788,
          "omniture_user_context_pos": "HCOM_UK"
         },
         {
          "booking_gross_profit_amt_usd": 63.4558,
          "omniture_gross_booking_value_usd": 1324.1425,
          "omniture_user_context_pos": "HCOM_UK"
         },
         {
          "booking_gross_profit_amt_usd": 4.0707,
          "omniture_gross_booking_value_usd": 22.1012,
          "omniture_user_context_pos": "HCOM_UK"
         },
         {
          "booking_gross_profit_amt_usd": 16.6738,
          "omniture_gross_booking_value_usd": 94.6759,
          "omniture_user_context_pos": "HCOM_UK"
         },
         {
          "booking_gross_profit_amt_usd": 13.9117,
          "omniture_gross_booking_value_usd": 64.7422,
          "omniture_user_context_pos": "HCOM_UK"
         },
         {
          "booking_gross_profit_amt_usd": 66.1464,
          "omniture_gross_booking_value_usd": 376.3255,
          "omniture_user_context_pos": "HCOM_ES"
         },
         {
          "booking_gross_profit_amt_usd": 11.1148,
          "omniture_gross_booking_value_usd": 125.676,
          "omniture_user_context_pos": "HCOM_UK"
         },
         {
          "booking_gross_profit_amt_usd": 15.1427,
          "omniture_gross_booking_value_usd": 350.1221,
          "omniture_user_context_pos": "HCOM_ES"
         },
         {
          "booking_gross_profit_amt_usd": 49.4282,
          "omniture_gross_booking_value_usd": 357.1022,
          "omniture_user_context_pos": "HCOM_UK"
         },
         {
          "booking_gross_profit_amt_usd": 121.6121,
          "omniture_gross_booking_value_usd": 867.8117,
          "omniture_user_context_pos": "HCOM_UK"
         },
         {
          "booking_gross_profit_amt_usd": 42.0742,
          "omniture_gross_booking_value_usd": 283.7738,
          "omniture_user_context_pos": "HCOM_UK"
         },
         {
          "booking_gross_profit_amt_usd": 72.8504,
          "omniture_gross_booking_value_usd": 400.2988,
          "omniture_user_context_pos": "HCOM_DE"
         },
         {
          "booking_gross_profit_amt_usd": 30.0546,
          "omniture_gross_booking_value_usd": 254.2511,
          "omniture_user_context_pos": "HCOM_ES"
         },
         {
          "booking_gross_profit_amt_usd": 12.5916,
          "omniture_gross_booking_value_usd": 123.6578,
          "omniture_user_context_pos": "HCOM_DE"
         },
         {
          "booking_gross_profit_amt_usd": 4.4333,
          "omniture_gross_booking_value_usd": 50.1656,
          "omniture_user_context_pos": "HCOM_FR"
         },
         {
          "booking_gross_profit_amt_usd": 50.5606,
          "omniture_gross_booking_value_usd": 326.491,
          "omniture_user_context_pos": "HCOM_UK"
         },
         {
          "booking_gross_profit_amt_usd": 85.929,
          "omniture_gross_booking_value_usd": 596.7451,
          "omniture_user_context_pos": "HCOM_UK"
         },
         {
          "booking_gross_profit_amt_usd": 82.7299,
          "omniture_gross_booking_value_usd": 445.7813,
          "omniture_user_context_pos": "HCOM_FR"
         },
         {
          "booking_gross_profit_amt_usd": 21.8815,
          "omniture_gross_booking_value_usd": 233.0431,
          "omniture_user_context_pos": "HCOM_FR"
         },
         {
          "booking_gross_profit_amt_usd": 25.8872,
          "omniture_gross_booking_value_usd": 136.69,
          "omniture_user_context_pos": "HCOM_UK"
         },
         {
          "booking_gross_profit_amt_usd": 16.3361,
          "omniture_gross_booking_value_usd": 184.9849,
          "omniture_user_context_pos": "HCOM_DE"
         },
         {
          "booking_gross_profit_amt_usd": 19.387999999999998,
          "omniture_gross_booking_value_usd": 195.1317,
          "omniture_user_context_pos": "HCOM_DE"
         },
         {
          "booking_gross_profit_amt_usd": 16.2221,
          "omniture_gross_booking_value_usd": 120.8479,
          "omniture_user_context_pos": "HCOM_UK"
         },
         {
          "booking_gross_profit_amt_usd": 21.3318,
          "omniture_gross_booking_value_usd": 94.3211,
          "omniture_user_context_pos": "HCOM_IT"
         },
         {
          "booking_gross_profit_amt_usd": 7.021,
          "omniture_gross_booking_value_usd": 87.5924,
          "omniture_user_context_pos": "HCOM_UK"
         },
         {
          "booking_gross_profit_amt_usd": 7.236000000000001,
          "omniture_gross_booking_value_usd": 57.982,
          "omniture_user_context_pos": "HCOM_FR"
         },
         {
          "booking_gross_profit_amt_usd": 14.3696,
          "omniture_gross_booking_value_usd": 150.7477,
          "omniture_user_context_pos": "HCOM_UK"
         },
         {
          "booking_gross_profit_amt_usd": 26.435,
          "omniture_gross_booking_value_usd": 234.0577,
          "omniture_user_context_pos": "HCOM_UK"
         },
         {
          "booking_gross_profit_amt_usd": 19.0094,
          "omniture_gross_booking_value_usd": 149.85,
          "omniture_user_context_pos": "HCOM_DE"
         },
         {
          "booking_gross_profit_amt_usd": 50.0248,
          "omniture_gross_booking_value_usd": 267.0424,
          "omniture_user_context_pos": "HCOM_UK"
         },
         {
          "booking_gross_profit_amt_usd": 87.9734,
          "omniture_gross_booking_value_usd": 563.8282,
          "omniture_user_context_pos": "HCOM_UK"
         },
         {
          "booking_gross_profit_amt_usd": 21.0298,
          "omniture_gross_booking_value_usd": 352.1974,
          "omniture_user_context_pos": "HCOM_UK"
         },
         {
          "booking_gross_profit_amt_usd": 11.1758,
          "omniture_gross_booking_value_usd": 127.0029,
          "omniture_user_context_pos": "HCOM_DE"
         },
         {
          "booking_gross_profit_amt_usd": 6.5572,
          "omniture_gross_booking_value_usd": 66.9135,
          "omniture_user_context_pos": "HCOM_FR"
         },
         {
          "booking_gross_profit_amt_usd": 31.6324,
          "omniture_gross_booking_value_usd": 172.3411,
          "omniture_user_context_pos": "HCOM_UK"
         },
         {
          "booking_gross_profit_amt_usd": 9.014,
          "omniture_gross_booking_value_usd": 95.3358,
          "omniture_user_context_pos": "HCOM_FR"
         },
         {
          "booking_gross_profit_amt_usd": 12.6905,
          "omniture_gross_booking_value_usd": 87.6755,
          "omniture_user_context_pos": "HCOM_DE"
         },
         {
          "booking_gross_profit_amt_usd": 114.7203,
          "omniture_gross_booking_value_usd": 996.1409,
          "omniture_user_context_pos": "HCOM_UK"
         },
         {
          "booking_gross_profit_amt_usd": 4.5424,
          "omniture_gross_booking_value_usd": 24.7544,
          "omniture_user_context_pos": "HCOM_UK"
         },
         {
          "booking_gross_profit_amt_usd": 21.9842,
          "omniture_gross_booking_value_usd": 171.4818,
          "omniture_user_context_pos": "HCOM_FR"
         },
         {
          "booking_gross_profit_amt_usd": 11.7844,
          "omniture_gross_booking_value_usd": 174.8166,
          "omniture_user_context_pos": "HCOM_UK"
         },
         {
          "booking_gross_profit_amt_usd": 26.0748,
          "omniture_gross_booking_value_usd": 203.38299999999998,
          "omniture_user_context_pos": "HCOM_FR"
         },
         {
          "booking_gross_profit_amt_usd": 3.7603,
          "omniture_gross_booking_value_usd": 26.0585,
          "omniture_user_context_pos": "HCOM_IT"
         },
         {
          "booking_gross_profit_amt_usd": 12.2601,
          "omniture_gross_booking_value_usd": 113.2353,
          "omniture_user_context_pos": "HCOM_UK"
         },
         {
          "booking_gross_profit_amt_usd": 2.1319,
          "omniture_gross_booking_value_usd": 18.534000000000002,
          "omniture_user_context_pos": "HCOM_UK"
         },
         {
          "booking_gross_profit_amt_usd": 37.7224,
          "omniture_gross_booking_value_usd": 279.4959,
          "omniture_user_context_pos": "HCOM_UK"
         },
         {
          "booking_gross_profit_amt_usd": 17.5095,
          "omniture_gross_booking_value_usd": 130.4595,
          "omniture_user_context_pos": "HCOM_FR"
         },
         {
          "booking_gross_profit_amt_usd": 72.0431,
          "omniture_gross_booking_value_usd": 743.54,
          "omniture_user_context_pos": "HCOM_FR"
         },
         {
          "booking_gross_profit_amt_usd": 10.5769,
          "omniture_gross_booking_value_usd": 72.589,
          "omniture_user_context_pos": "HCOM_ES"
         },
         {
          "booking_gross_profit_amt_usd": 12.9559,
          "omniture_gross_booking_value_usd": 166.3112,
          "omniture_user_context_pos": "HCOM_UK"
         },
         {
          "booking_gross_profit_amt_usd": 159.4704,
          "omniture_gross_booking_value_usd": 0,
          "omniture_user_context_pos": "HCOM_UK"
         },
         {
          "booking_gross_profit_amt_usd": 13.1701,
          "omniture_gross_booking_value_usd": 86.8615,
          "omniture_user_context_pos": "HCOM_FR"
         },
         {
          "booking_gross_profit_amt_usd": 3.3911,
          "omniture_gross_booking_value_usd": 40.3686,
          "omniture_user_context_pos": "HCOM_UK"
         },
         {
          "booking_gross_profit_amt_usd": 24.386999999999997,
          "omniture_gross_booking_value_usd": 190.6827,
          "omniture_user_context_pos": "HCOM_FR"
         },
         {
          "booking_gross_profit_amt_usd": 3.1723,
          "omniture_gross_booking_value_usd": 14.878,
          "omniture_user_context_pos": "HCOM_UK"
         },
         {
          "booking_gross_profit_amt_usd": 45.6159,
          "omniture_gross_booking_value_usd": 312.9205,
          "omniture_user_context_pos": "HCOM_UK"
         },
         {
          "booking_gross_profit_amt_usd": 32.0182,
          "omniture_gross_booking_value_usd": 181.532,
          "omniture_user_context_pos": "HCOM_UK"
         },
         {
          "booking_gross_profit_amt_usd": 7.8971,
          "omniture_gross_booking_value_usd": 54.0794,
          "omniture_user_context_pos": "HCOM_FR"
         },
         {
          "booking_gross_profit_amt_usd": 10.49,
          "omniture_gross_booking_value_usd": 65.7873,
          "omniture_user_context_pos": "HCOM_DE"
         },
         {
          "booking_gross_profit_amt_usd": 9.3673,
          "omniture_gross_booking_value_usd": 84.0887,
          "omniture_user_context_pos": "HCOM_UK"
         },
         {
          "booking_gross_profit_amt_usd": 89.0651,
          "omniture_gross_booking_value_usd": 827.1638,
          "omniture_user_context_pos": "HCOM_UK"
         },
         {
          "booking_gross_profit_amt_usd": 5.6428,
          "omniture_gross_booking_value_usd": 82.5145,
          "omniture_user_context_pos": "HCOM_UK"
         },
         {
          "booking_gross_profit_amt_usd": 24.5064,
          "omniture_gross_booking_value_usd": 274.2995,
          "omniture_user_context_pos": "HCOM_DE"
         },
         {
          "booking_gross_profit_amt_usd": 12.8389,
          "omniture_gross_booking_value_usd": 107.3958,
          "omniture_user_context_pos": "HCOM_UK"
         },
         {
          "booking_gross_profit_amt_usd": 4.4501,
          "omniture_gross_booking_value_usd": 57.1381,
          "omniture_user_context_pos": "HCOM_UK"
         },
         {
          "booking_gross_profit_amt_usd": 96.5768,
          "omniture_gross_booking_value_usd": 662.1601,
          "omniture_user_context_pos": "HCOM_UK"
         },
         {
          "booking_gross_profit_amt_usd": 4.5287,
          "omniture_gross_booking_value_usd": 122.3627,
          "omniture_user_context_pos": "HCOM_UK"
         },
         {
          "booking_gross_profit_amt_usd": 39.5354,
          "omniture_gross_booking_value_usd": 263.1491,
          "omniture_user_context_pos": "HCOM_UK"
         },
         {
          "booking_gross_profit_amt_usd": 57.2835,
          "omniture_gross_booking_value_usd": 370.7838,
          "omniture_user_context_pos": "HCOM_DE"
         },
         {
          "booking_gross_profit_amt_usd": 13.165,
          "omniture_gross_booking_value_usd": 184.43900000000002,
          "omniture_user_context_pos": "HCOM_UK"
         },
         {
          "booking_gross_profit_amt_usd": 17.5355,
          "omniture_gross_booking_value_usd": 101.5564,
          "omniture_user_context_pos": "HCOM_UK"
         },
         {
          "booking_gross_profit_amt_usd": 113.2089,
          "omniture_gross_booking_value_usd": 675.87,
          "omniture_user_context_pos": "HCOM_UK"
         },
         {
          "booking_gross_profit_amt_usd": 11.7594,
          "omniture_gross_booking_value_usd": 81.4759,
          "omniture_user_context_pos": "HCOM_FR"
         },
         {
          "booking_gross_profit_amt_usd": 20.531999999999996,
          "omniture_gross_booking_value_usd": 196.7654,
          "omniture_user_context_pos": "HCOM_UK"
         },
         {
          "booking_gross_profit_amt_usd": 54.9378,
          "omniture_gross_booking_value_usd": 614.3416,
          "omniture_user_context_pos": "HCOM_UK"
         },
         {
          "booking_gross_profit_amt_usd": 6.5772,
          "omniture_gross_booking_value_usd": 42.1485,
          "omniture_user_context_pos": "HCOM_FR"
         },
         {
          "booking_gross_profit_amt_usd": 13.7989,
          "omniture_gross_booking_value_usd": 75.8226,
          "omniture_user_context_pos": "HCOM_ES"
         },
         {
          "booking_gross_profit_amt_usd": 5.5187,
          "omniture_gross_booking_value_usd": 76.7704,
          "omniture_user_context_pos": "HCOM_FR"
         },
         {
          "booking_gross_profit_amt_usd": 2.9174,
          "omniture_gross_booking_value_usd": 122.0453,
          "omniture_user_context_pos": "HCOM_UK"
         },
         {
          "booking_gross_profit_amt_usd": 29.2115,
          "omniture_gross_booking_value_usd": 151.319,
          "omniture_user_context_pos": "HCOM_UK"
         },
         {
          "booking_gross_profit_amt_usd": 27.2841,
          "omniture_gross_booking_value_usd": 232.5384,
          "omniture_user_context_pos": "HCOM_UK"
         },
         {
          "booking_gross_profit_amt_usd": -92.0116,
          "omniture_gross_booking_value_usd": 182.8395,
          "omniture_user_context_pos": "HCOM_UK"
         },
         {
          "booking_gross_profit_amt_usd": 20.5865,
          "omniture_gross_booking_value_usd": 128.6211,
          "omniture_user_context_pos": "HCOM_UK"
         },
         {
          "booking_gross_profit_amt_usd": 11.8123,
          "omniture_gross_booking_value_usd": 113.1211,
          "omniture_user_context_pos": "HCOM_UK"
         },
         {
          "booking_gross_profit_amt_usd": 11.382,
          "omniture_gross_booking_value_usd": 61.3271,
          "omniture_user_context_pos": "HCOM_IT"
         },
         {
          "booking_gross_profit_amt_usd": 41.7343,
          "omniture_gross_booking_value_usd": 352.7759,
          "omniture_user_context_pos": "HCOM_FR"
         },
         {
          "booking_gross_profit_amt_usd": 36.5662,
          "omniture_gross_booking_value_usd": 308.8657,
          "omniture_user_context_pos": "HCOM_DE"
         },
         {
          "booking_gross_profit_amt_usd": 19.654,
          "omniture_gross_booking_value_usd": 302.7,
          "omniture_user_context_pos": "HCOM_UK"
         },
         {
          "booking_gross_profit_amt_usd": 33.898,
          "omniture_gross_booking_value_usd": 250.8837,
          "omniture_user_context_pos": "HCOM_FR"
         },
         {
          "booking_gross_profit_amt_usd": 9.5202,
          "omniture_gross_booking_value_usd": 112.6189,
          "omniture_user_context_pos": "HCOM_DE"
         },
         {
          "booking_gross_profit_amt_usd": 47.4139,
          "omniture_gross_booking_value_usd": 306.2813,
          "omniture_user_context_pos": "HCOM_UK"
         },
         {
          "booking_gross_profit_amt_usd": 57.4379,
          "omniture_gross_booking_value_usd": 529.0451,
          "omniture_user_context_pos": "HCOM_UK"
         },
         {
          "booking_gross_profit_amt_usd": 31.9715,
          "omniture_gross_booking_value_usd": 183.9814,
          "omniture_user_context_pos": "HCOM_ES"
         },
         {
          "booking_gross_profit_amt_usd": -59.4775,
          "omniture_gross_booking_value_usd": 102.8258,
          "omniture_user_context_pos": "HCOM_UK"
         },
         {
          "booking_gross_profit_amt_usd": 31.2228,
          "omniture_gross_booking_value_usd": 444.5993,
          "omniture_user_context_pos": "HCOM_IT"
         },
         {
          "booking_gross_profit_amt_usd": 33.621,
          "omniture_gross_booking_value_usd": 203.3384,
          "omniture_user_context_pos": "HCOM_DE"
         },
         {
          "booking_gross_profit_amt_usd": 27.6769,
          "omniture_gross_booking_value_usd": 215.8072,
          "omniture_user_context_pos": "HCOM_UK"
         },
         {
          "booking_gross_profit_amt_usd": -4.2025,
          "omniture_gross_booking_value_usd": 34.1102,
          "omniture_user_context_pos": "HCOM_UK"
         },
         {
          "booking_gross_profit_amt_usd": 10.3515,
          "omniture_gross_booking_value_usd": 193.5791,
          "omniture_user_context_pos": "HCOM_UK"
         },
         {
          "booking_gross_profit_amt_usd": 8.1242,
          "omniture_gross_booking_value_usd": 92.4367,
          "omniture_user_context_pos": "HCOM_FR"
         },
         {
          "booking_gross_profit_amt_usd": 23.3632,
          "omniture_gross_booking_value_usd": 127.2259,
          "omniture_user_context_pos": "HCOM_FR"
         },
         {
          "booking_gross_profit_amt_usd": 6.8047,
          "omniture_gross_booking_value_usd": 100.3535,
          "omniture_user_context_pos": "HCOM_FR"
         },
         {
          "booking_gross_profit_amt_usd": 32.0061,
          "omniture_gross_booking_value_usd": 339.5292,
          "omniture_user_context_pos": "HCOM_DE"
         },
         {
          "booking_gross_profit_amt_usd": 20.1499,
          "omniture_gross_booking_value_usd": 132.6784,
          "omniture_user_context_pos": "HCOM_DE"
         },
         {
          "booking_gross_profit_amt_usd": 32.8197,
          "omniture_gross_booking_value_usd": 179.6439,
          "omniture_user_context_pos": "HCOM_FR"
         },
         {
          "booking_gross_profit_amt_usd": 7.9649,
          "omniture_gross_booking_value_usd": 62.2033,
          "omniture_user_context_pos": "HCOM_UK"
         },
         {
          "booking_gross_profit_amt_usd": 83.4861,
          "omniture_gross_booking_value_usd": 747.0647,
          "omniture_user_context_pos": "HCOM_FR"
         },
         {
          "booking_gross_profit_amt_usd": 29.0286,
          "omniture_gross_booking_value_usd": 200.7069,
          "omniture_user_context_pos": "HCOM_FR"
         },
         {
          "booking_gross_profit_amt_usd": 32.6244,
          "omniture_gross_booking_value_usd": 223.0051,
          "omniture_user_context_pos": "HCOM_UK"
         },
         {
          "booking_gross_profit_amt_usd": 7.0497,
          "omniture_gross_booking_value_usd": 94.3211,
          "omniture_user_context_pos": "HCOM_FR"
         },
         {
          "booking_gross_profit_amt_usd": 8.2808,
          "omniture_gross_booking_value_usd": 84.1743,
          "omniture_user_context_pos": "HCOM_FR"
         },
         {
          "booking_gross_profit_amt_usd": 159.5398,
          "omniture_gross_booking_value_usd": 1041.0542,
          "omniture_user_context_pos": "HCOM_UK"
         },
         {
          "booking_gross_profit_amt_usd": 19.0925,
          "omniture_gross_booking_value_usd": 194.9533,
          "omniture_user_context_pos": "HCOM_IT"
         },
         {
          "booking_gross_profit_amt_usd": 47.4228,
          "omniture_gross_booking_value_usd": 587.3,
          "omniture_user_context_pos": "HCOM_ES"
         },
         {
          "booking_gross_profit_amt_usd": 83.8762,
          "omniture_gross_booking_value_usd": 655.0385,
          "omniture_user_context_pos": "HCOM_UK"
         },
         {
          "booking_gross_profit_amt_usd": 62.842,
          "omniture_gross_booking_value_usd": 501.7896,
          "omniture_user_context_pos": "HCOM_UK"
         },
         {
          "booking_gross_profit_amt_usd": 66.2319,
          "omniture_gross_booking_value_usd": 733.2749,
          "omniture_user_context_pos": "HCOM_UK"
         },
         {
          "booking_gross_profit_amt_usd": 70.2057,
          "omniture_gross_booking_value_usd": 593.2005,
          "omniture_user_context_pos": "HCOM_ES"
         },
         {
          "booking_gross_profit_amt_usd": 20.531999999999996,
          "omniture_gross_booking_value_usd": 131.5745,
          "omniture_user_context_pos": "HCOM_IT"
         },
         {
          "booking_gross_profit_amt_usd": 10.3156,
          "omniture_gross_booking_value_usd": 55.1498,
          "omniture_user_context_pos": "HCOM_ES"
         },
         {
          "booking_gross_profit_amt_usd": 38.6573,
          "omniture_gross_booking_value_usd": 246.2868,
          "omniture_user_context_pos": "HCOM_UK"
         },
         {
          "booking_gross_profit_amt_usd": 48.4563,
          "omniture_gross_booking_value_usd": 1038.4137,
          "omniture_user_context_pos": "HCOM_UK"
         },
         {
          "booking_gross_profit_amt_usd": 18.4676,
          "omniture_gross_booking_value_usd": 147.8104,
          "omniture_user_context_pos": "HCOM_DE"
         },
         {
          "booking_gross_profit_amt_usd": 13.5699,
          "omniture_gross_booking_value_usd": 105.9175,
          "omniture_user_context_pos": "HCOM_FR"
         },
         {
          "booking_gross_profit_amt_usd": 7.1743,
          "omniture_gross_booking_value_usd": 205.85,
          "omniture_user_context_pos": "HCOM_UK"
         },
         {
          "booking_gross_profit_amt_usd": 87.4348,
          "omniture_gross_booking_value_usd": 989.4739999999999,
          "omniture_user_context_pos": "HCOM_UK"
         },
         {
          "booking_gross_profit_amt_usd": 7.0428,
          "omniture_gross_booking_value_usd": 94.2319,
          "omniture_user_context_pos": "HCOM_DE"
         },
         {
          "booking_gross_profit_amt_usd": 9.7141,
          "omniture_gross_booking_value_usd": 53.3171,
          "omniture_user_context_pos": "HCOM_UK"
         },
         {
          "booking_gross_profit_amt_usd": 2.4591,
          "omniture_gross_booking_value_usd": 19.6638,
          "omniture_user_context_pos": "HCOM_UK"
         },
         {
          "booking_gross_profit_amt_usd": 9.6312,
          "omniture_gross_booking_value_usd": 75.25399999999999,
          "omniture_user_context_pos": "HCOM_FR"
         },
         {
          "booking_gross_profit_amt_usd": 6.2305,
          "omniture_gross_booking_value_usd": 65.6943,
          "omniture_user_context_pos": "HCOM_UK"
         },
         {
          "booking_gross_profit_amt_usd": 8.7112,
          "omniture_gross_booking_value_usd": 83.6279,
          "omniture_user_context_pos": "HCOM_UK"
         },
         {
          "booking_gross_profit_amt_usd": 3.8552,
          "omniture_gross_booking_value_usd": 46.3986,
          "omniture_user_context_pos": "HCOM_UK"
         },
         {
          "booking_gross_profit_amt_usd": 81.9745,
          "omniture_gross_booking_value_usd": 446.0154,
          "omniture_user_context_pos": "HCOM_FR"
         },
         {
          "booking_gross_profit_amt_usd": 76.5786,
          "omniture_gross_booking_value_usd": 700.2219,
          "omniture_user_context_pos": "HCOM_DE"
         },
         {
          "booking_gross_profit_amt_usd": 7.1662,
          "omniture_gross_booking_value_usd": 112.9814,
          "omniture_user_context_pos": "HCOM_UK"
         },
         {
          "booking_gross_profit_amt_usd": 27.6226,
          "omniture_gross_booking_value_usd": 268.5905,
          "omniture_user_context_pos": "HCOM_DE"
         },
         {
          "booking_gross_profit_amt_usd": 15.4474,
          "omniture_gross_booking_value_usd": 82.5145,
          "omniture_user_context_pos": "HCOM_UK"
         },
         {
          "booking_gross_profit_amt_usd": 16.4218,
          "omniture_gross_booking_value_usd": 121.5392,
          "omniture_user_context_pos": "HCOM_FR"
         },
         {
          "booking_gross_profit_amt_usd": 12.9445,
          "omniture_gross_booking_value_usd": 148.82,
          "omniture_user_context_pos": "HCOM_UK"
         },
         {
          "booking_gross_profit_amt_usd": 17.1462,
          "omniture_gross_booking_value_usd": 148.2596,
          "omniture_user_context_pos": "HCOM_UK"
         },
         {
          "booking_gross_profit_amt_usd": 18.8218,
          "omniture_gross_booking_value_usd": 222.7847,
          "omniture_user_context_pos": "HCOM_UK"
         },
         {
          "booking_gross_profit_amt_usd": 11.9339,
          "omniture_gross_booking_value_usd": 94.1173,
          "omniture_user_context_pos": "HCOM_UK"
         },
         {
          "booking_gross_profit_amt_usd": 38.3116,
          "omniture_gross_booking_value_usd": 481.6966,
          "omniture_user_context_pos": "HCOM_DE"
         },
         {
          "booking_gross_profit_amt_usd": 27.5005,
          "omniture_gross_booking_value_usd": 150.5302,
          "omniture_user_context_pos": "HCOM_FR"
         },
         {
          "booking_gross_profit_amt_usd": 39.172,
          "omniture_gross_booking_value_usd": 477.5425,
          "omniture_user_context_pos": "HCOM_UK"
         },
         {
          "booking_gross_profit_amt_usd": -2.4355,
          "omniture_gross_booking_value_usd": 8.8862,
          "omniture_user_context_pos": "HCOM_UK"
         },
         {
          "booking_gross_profit_amt_usd": 94.1276,
          "omniture_gross_booking_value_usd": 735.9254,
          "omniture_user_context_pos": "HCOM_DE"
         },
         {
          "booking_gross_profit_amt_usd": 6.5947,
          "omniture_gross_booking_value_usd": 68.7533,
          "omniture_user_context_pos": "HCOM_FR"
         },
         {
          "booking_gross_profit_amt_usd": 19.7555,
          "omniture_gross_booking_value_usd": 142.8136,
          "omniture_user_context_pos": "HCOM_UK"
         },
         {
          "booking_gross_profit_amt_usd": 15.6097,
          "omniture_gross_booking_value_usd": 100.3535,
          "omniture_user_context_pos": "HCOM_IT"
         },
         {
          "booking_gross_profit_amt_usd": 4.4857,
          "omniture_gross_booking_value_usd": 78.8458,
          "omniture_user_context_pos": "HCOM_UK"
         },
         {
          "booking_gross_profit_amt_usd": 14.6742,
          "omniture_gross_booking_value_usd": 166.1853,
          "omniture_user_context_pos": "HCOM_FR"
         },
         {
          "booking_gross_profit_amt_usd": 18.0243,
          "omniture_gross_booking_value_usd": 120.2808,
          "omniture_user_context_pos": "HCOM_UK"
         },
         {
          "booking_gross_profit_amt_usd": 39.439,
          "omniture_gross_booking_value_usd": 410.37,
          "omniture_user_context_pos": "HCOM_ES"
         },
         {
          "booking_gross_profit_amt_usd": 57.005,
          "omniture_gross_booking_value_usd": 453.0402,
          "omniture_user_context_pos": "HCOM_UK"
         },
         {
          "booking_gross_profit_amt_usd": 18.7449,
          "omniture_gross_booking_value_usd": 187.8792,
          "omniture_user_context_pos": "HCOM_UK"
         },
         {
          "booking_gross_profit_amt_usd": 22.4264,
          "omniture_gross_booking_value_usd": 265.4907,
          "omniture_user_context_pos": "HCOM_UK"
         },
         {
          "booking_gross_profit_amt_usd": 69.8105,
          "omniture_gross_booking_value_usd": 425.8131,
          "omniture_user_context_pos": "HCOM_UK"
         },
         {
          "booking_gross_profit_amt_usd": 10.7879,
          "omniture_gross_booking_value_usd": 95.2218,
          "omniture_user_context_pos": "HCOM_UK"
         },
         {
          "booking_gross_profit_amt_usd": 19.5102,
          "omniture_gross_booking_value_usd": 302.1301,
          "omniture_user_context_pos": "HCOM_UK"
         },
         {
          "booking_gross_profit_amt_usd": 18.3079,
          "omniture_gross_booking_value_usd": 104.0953,
          "omniture_user_context_pos": "HCOM_UK"
         },
         {
          "booking_gross_profit_amt_usd": 7.2054,
          "omniture_gross_booking_value_usd": 40.9219,
          "omniture_user_context_pos": "HCOM_FR"
         },
         {
          "booking_gross_profit_amt_usd": 26.3518,
          "omniture_gross_booking_value_usd": 279.28,
          "omniture_user_context_pos": "HCOM_UK"
         },
         {
          "booking_gross_profit_amt_usd": 10.9625,
          "omniture_gross_booking_value_usd": 79.9883,
          "omniture_user_context_pos": "HCOM_UK"
         },
         {
          "booking_gross_profit_amt_usd": 46.2235,
          "omniture_gross_booking_value_usd": 203.3666,
          "omniture_user_context_pos": "HCOM_UK"
         },
         {
          "booking_gross_profit_amt_usd": 15.6053,
          "omniture_gross_booking_value_usd": 214.3104,
          "omniture_user_context_pos": "HCOM_DE"
         },
         {
          "booking_gross_profit_amt_usd": 11.5501,
          "omniture_gross_booking_value_usd": 120.413,
          "omniture_user_context_pos": "HCOM_DE"
         },
         {
          "booking_gross_profit_amt_usd": -110.6976,
          "omniture_gross_booking_value_usd": 18.3055,
          "omniture_user_context_pos": "HCOM_UK"
         },
         {
          "booking_gross_profit_amt_usd": 25.2179,
          "omniture_gross_booking_value_usd": 201.8432,
          "omniture_user_context_pos": "HCOM_UK"
         },
         {
          "booking_gross_profit_amt_usd": 45.018,
          "omniture_gross_booking_value_usd": 371.77,
          "omniture_user_context_pos": "HCOM_UK"
         },
         {
          "booking_gross_profit_amt_usd": 37.361999999999995,
          "omniture_gross_booking_value_usd": 476.5024,
          "omniture_user_context_pos": "HCOM_UK"
         },
         {
          "booking_gross_profit_amt_usd": 12.6203,
          "omniture_gross_booking_value_usd": 141.2085,
          "omniture_user_context_pos": "HCOM_UK"
         },
         {
          "booking_gross_profit_amt_usd": 6.3146,
          "omniture_gross_booking_value_usd": 85.4677,
          "omniture_user_context_pos": "HCOM_ES"
         },
         {
          "booking_gross_profit_amt_usd": 99.0059,
          "omniture_gross_booking_value_usd": 836.2789,
          "omniture_user_context_pos": "HCOM_DE"
         },
         {
          "booking_gross_profit_amt_usd": 53.1248,
          "omniture_gross_booking_value_usd": 381.3925,
          "omniture_user_context_pos": "HCOM_DE"
         },
         {
          "booking_gross_profit_amt_usd": 16.765,
          "omniture_gross_booking_value_usd": 141.6099,
          "omniture_user_context_pos": "HCOM_DE"
         },
         {
          "booking_gross_profit_amt_usd": 24.6592,
          "omniture_gross_booking_value_usd": 167.2558,
          "omniture_user_context_pos": "HCOM_ES"
         },
         {
          "booking_gross_profit_amt_usd": 17.8693,
          "omniture_gross_booking_value_usd": 150.8112,
          "omniture_user_context_pos": "HCOM_UK"
         },
         {
          "booking_gross_profit_amt_usd": 49.4923,
          "omniture_gross_booking_value_usd": 321.6329,
          "omniture_user_context_pos": "HCOM_FR"
         },
         {
          "booking_gross_profit_amt_usd": 12.4458,
          "omniture_gross_booking_value_usd": 91.4007,
          "omniture_user_context_pos": "HCOM_UK"
         },
         {
          "booking_gross_profit_amt_usd": 4.3334,
          "omniture_gross_booking_value_usd": 74.8978,
          "omniture_user_context_pos": "HCOM_UK"
         },
         {
          "booking_gross_profit_amt_usd": 34.1234,
          "omniture_gross_booking_value_usd": 355.7773,
          "omniture_user_context_pos": "HCOM_UK"
         },
         {
          "booking_gross_profit_amt_usd": 32.2355,
          "omniture_gross_booking_value_usd": 251.352,
          "omniture_user_context_pos": "HCOM_UK"
         },
         {
          "booking_gross_profit_amt_usd": 39.9484,
          "omniture_gross_booking_value_usd": 296.2434,
          "omniture_user_context_pos": "HCOM_DE"
         },
         {
          "booking_gross_profit_amt_usd": 10.1909,
          "omniture_gross_booking_value_usd": 79.4465,
          "omniture_user_context_pos": "HCOM_IT"
         },
         {
          "booking_gross_profit_amt_usd": 31.283,
          "omniture_gross_booking_value_usd": 304.6691,
          "omniture_user_context_pos": "HCOM_UK"
         },
         {
          "booking_gross_profit_amt_usd": 15.6114,
          "omniture_gross_booking_value_usd": 199.9391,
          "omniture_user_context_pos": "HCOM_UK"
         },
         {
          "booking_gross_profit_amt_usd": 19.3559,
          "omniture_gross_booking_value_usd": 163.9107,
          "omniture_user_context_pos": "HCOM_DE"
         },
         {
          "booking_gross_profit_amt_usd": 12.3837,
          "omniture_gross_booking_value_usd": 84.7429,
          "omniture_user_context_pos": "HCOM_FR"
         },
         {
          "booking_gross_profit_amt_usd": 16.3372,
          "omniture_gross_booking_value_usd": 138.1547,
          "omniture_user_context_pos": "HCOM_UK"
         },
         {
          "booking_gross_profit_amt_usd": 38.1274,
          "omniture_gross_booking_value_usd": 248.8766,
          "omniture_user_context_pos": "HCOM_DE"
         },
         {
          "booking_gross_profit_amt_usd": 17.9495,
          "omniture_gross_booking_value_usd": 124.8843,
          "omniture_user_context_pos": "HCOM_FR"
         },
         {
          "booking_gross_profit_amt_usd": 31.1639,
          "omniture_gross_booking_value_usd": 230.813,
          "omniture_user_context_pos": "HCOM_FR"
         },
         {
          "booking_gross_profit_amt_usd": 45.3498,
          "omniture_gross_booking_value_usd": 340.4677,
          "omniture_user_context_pos": "HCOM_UK"
         },
         {
          "booking_gross_profit_amt_usd": 12.7576,
          "omniture_gross_booking_value_usd": 68.5505,
          "omniture_user_context_pos": "HCOM_UK"
         },
         {
          "booking_gross_profit_amt_usd": 60.2342,
          "omniture_gross_booking_value_usd": 603.7376,
          "omniture_user_context_pos": "HCOM_DE"
         },
         {
          "booking_gross_profit_amt_usd": 36.111999999999995,
          "omniture_gross_booking_value_usd": 399.4068,
          "omniture_user_context_pos": "HCOM_FR"
         },
         {
          "booking_gross_profit_amt_usd": 24.0389,
          "omniture_gross_booking_value_usd": 190.4182,
          "omniture_user_context_pos": "HCOM_UK"
         },
         {
          "booking_gross_profit_amt_usd": 9.0622,
          "omniture_gross_booking_value_usd": 102.5835,
          "omniture_user_context_pos": "HCOM_IT"
         },
         {
          "booking_gross_profit_amt_usd": 18.684,
          "omniture_gross_booking_value_usd": 100.2869,
          "omniture_user_context_pos": "HCOM_UK"
         },
         {
          "booking_gross_profit_amt_usd": 151.1332,
          "omniture_gross_booking_value_usd": 1080.24,
          "omniture_user_context_pos": "HCOM_DE"
         },
         {
          "booking_gross_profit_amt_usd": 5.0913,
          "omniture_gross_booking_value_usd": 89.3569,
          "omniture_user_context_pos": "HCOM_UK"
         },
         {
          "booking_gross_profit_amt_usd": 382.1123,
          "omniture_gross_booking_value_usd": 3038.5787,
          "omniture_user_context_pos": "HCOM_UK"
         },
         {
          "booking_gross_profit_amt_usd": 4.4857,
          "omniture_gross_booking_value_usd": 78.8458,
          "omniture_user_context_pos": "HCOM_UK"
         },
         {
          "booking_gross_profit_amt_usd": 107.3013,
          "omniture_gross_booking_value_usd": 701.4878,
          "omniture_user_context_pos": "HCOM_UK"
         },
         {
          "booking_gross_profit_amt_usd": 33.2404,
          "omniture_gross_booking_value_usd": 227.5013,
          "omniture_user_context_pos": "HCOM_IT"
         },
         {
          "booking_gross_profit_amt_usd": 6.5837,
          "omniture_gross_booking_value_usd": 61.3383,
          "omniture_user_context_pos": "HCOM_FR"
         },
         {
          "booking_gross_profit_amt_usd": 7.706,
          "omniture_gross_booking_value_usd": 76.9377,
          "omniture_user_context_pos": "HCOM_FR"
         },
         {
          "booking_gross_profit_amt_usd": 16.0874,
          "omniture_gross_booking_value_usd": 204.4329,
          "omniture_user_context_pos": "HCOM_UK"
         },
         {
          "booking_gross_profit_amt_usd": 20.5159,
          "omniture_gross_booking_value_usd": 164.1278,
          "omniture_user_context_pos": "HCOM_UK"
         },
         {
          "booking_gross_profit_amt_usd": 8.7821,
          "omniture_gross_booking_value_usd": 68.4871,
          "omniture_user_context_pos": "HCOM_UK"
         },
         {
          "booking_gross_profit_amt_usd": 15.3315,
          "omniture_gross_booking_value_usd": 133.8046,
          "omniture_user_context_pos": "HCOM_ES"
         },
         {
          "booking_gross_profit_amt_usd": 13.4418,
          "omniture_gross_booking_value_usd": 113.7339,
          "omniture_user_context_pos": "HCOM_FR"
         },
         {
          "booking_gross_profit_amt_usd": 8.4995,
          "omniture_gross_booking_value_usd": 135.2543,
          "omniture_user_context_pos": "HCOM_IT"
         },
         {
          "booking_gross_profit_amt_usd": -47.4051,
          "omniture_gross_booking_value_usd": 13.0373,
          "omniture_user_context_pos": "HCOM_UK"
         },
         {
          "booking_gross_profit_amt_usd": 241.128,
          "omniture_gross_booking_value_usd": 1557.0747,
          "omniture_user_context_pos": "HCOM_UK"
         },
         {
          "booking_gross_profit_amt_usd": 11.3416,
          "omniture_gross_booking_value_usd": 112.9814,
          "omniture_user_context_pos": "HCOM_UK"
         },
         {
          "booking_gross_profit_amt_usd": 8.7716,
          "omniture_gross_booking_value_usd": 74.2616,
          "omniture_user_context_pos": "HCOM_DE"
         },
         {
          "booking_gross_profit_amt_usd": 16.4067,
          "omniture_gross_booking_value_usd": 131.2235,
          "omniture_user_context_pos": "HCOM_UK"
         },
         {
          "booking_gross_profit_amt_usd": 20.5398,
          "omniture_gross_booking_value_usd": 100.2869,
          "omniture_user_context_pos": "HCOM_UK"
         },
         {
          "booking_gross_profit_amt_usd": 70.3372,
          "omniture_gross_booking_value_usd": 386.168,
          "omniture_user_context_pos": "HCOM_UK"
         },
         {
          "booking_gross_profit_amt_usd": -9.8382,
          "omniture_gross_booking_value_usd": 58.8519,
          "omniture_user_context_pos": "HCOM_UK"
         },
         {
          "booking_gross_profit_amt_usd": 13.5794,
          "omniture_gross_booking_value_usd": 65.6689,
          "omniture_user_context_pos": "HCOM_UK"
         },
         {
          "booking_gross_profit_amt_usd": 14.2649,
          "omniture_gross_booking_value_usd": 111.3819,
          "omniture_user_context_pos": "HCOM_UK"
         },
         {
          "booking_gross_profit_amt_usd": 237.6948,
          "omniture_gross_booking_value_usd": 1737.5276,
          "omniture_user_context_pos": "HCOM_UK"
         },
         {
          "booking_gross_profit_amt_usd": 20.7674,
          "omniture_gross_booking_value_usd": 173.946,
          "omniture_user_context_pos": "HCOM_FR"
         },
         {
          "booking_gross_profit_amt_usd": 32.8341,
          "omniture_gross_booking_value_usd": 334.5116,
          "omniture_user_context_pos": "HCOM_UK"
         },
         {
          "booking_gross_profit_amt_usd": 16.0405,
          "omniture_gross_booking_value_usd": 118.0268,
          "omniture_user_context_pos": "HCOM_IT"
         },
         {
          "booking_gross_profit_amt_usd": 43.4607,
          "omniture_gross_booking_value_usd": 250.5903,
          "omniture_user_context_pos": "HCOM_UK"
         },
         {
          "booking_gross_profit_amt_usd": 135.5032,
          "omniture_gross_booking_value_usd": 633.24,
          "omniture_user_context_pos": "HCOM_UK"
         },
         {
          "booking_gross_profit_amt_usd": 9.5309,
          "omniture_gross_booking_value_usd": 151.1159,
          "omniture_user_context_pos": "HCOM_UK"
         },
         {
          "booking_gross_profit_amt_usd": 6.5707,
          "omniture_gross_booking_value_usd": 66.9135,
          "omniture_user_context_pos": "HCOM_FR"
         },
         {
          "booking_gross_profit_amt_usd": 8.4341,
          "omniture_gross_booking_value_usd": 89.2031,
          "omniture_user_context_pos": "HCOM_FR"
         },
         {
          "booking_gross_profit_amt_usd": 2.8412,
          "omniture_gross_booking_value_usd": 59.3089,
          "omniture_user_context_pos": "HCOM_FR"
         },
         {
          "booking_gross_profit_amt_usd": 33.0865,
          "omniture_gross_booking_value_usd": 188.4415,
          "omniture_user_context_pos": "HCOM_FR"
         },
         {
          "booking_gross_profit_amt_usd": 15.3495,
          "omniture_gross_booking_value_usd": 147.5196,
          "omniture_user_context_pos": "HCOM_FR"
         },
         {
          "booking_gross_profit_amt_usd": 20.3327,
          "omniture_gross_booking_value_usd": 199.4186,
          "omniture_user_context_pos": "HCOM_UK"
         },
         {
          "booking_gross_profit_amt_usd": 6.2211,
          "omniture_gross_booking_value_usd": 73.5925,
          "omniture_user_context_pos": "HCOM_FR"
         },
         {
          "booking_gross_profit_amt_usd": 14.1193,
          "omniture_gross_booking_value_usd": 110.2648,
          "omniture_user_context_pos": "HCOM_UK"
         },
         {
          "booking_gross_profit_amt_usd": 14.6884,
          "omniture_gross_booking_value_usd": 133.8046,
          "omniture_user_context_pos": "HCOM_FR"
         },
         {
          "booking_gross_profit_amt_usd": 23.434,
          "omniture_gross_booking_value_usd": 164.826,
          "omniture_user_context_pos": "HCOM_UK"
         },
         {
          "booking_gross_profit_amt_usd": 60.2236,
          "omniture_gross_booking_value_usd": 383.7517,
          "omniture_user_context_pos": "HCOM_FR"
         },
         {
          "booking_gross_profit_amt_usd": 26.2168,
          "omniture_gross_booking_value_usd": 204.7311,
          "omniture_user_context_pos": "HCOM_UK"
         },
         {
          "booking_gross_profit_amt_usd": 46.0617,
          "omniture_gross_booking_value_usd": 363.8256,
          "omniture_user_context_pos": "HCOM_UK"
         },
         {
          "booking_gross_profit_amt_usd": 11.2581,
          "omniture_gross_booking_value_usd": 150.5414,
          "omniture_user_context_pos": "HCOM_FR"
         },
         {
          "booking_gross_profit_amt_usd": 9.4079,
          "omniture_gross_booking_value_usd": 89.4838,
          "omniture_user_context_pos": "HCOM_UK"
         },
         {
          "booking_gross_profit_amt_usd": 13.995,
          "omniture_gross_booking_value_usd": 118.4617,
          "omniture_user_context_pos": "HCOM_FR"
         },
         {
          "booking_gross_profit_amt_usd": 8.1304,
          "omniture_gross_booking_value_usd": 78.0527,
          "omniture_user_context_pos": "HCOM_UK"
         },
         {
          "booking_gross_profit_amt_usd": 35.2046,
          "omniture_gross_booking_value_usd": 442.6703,
          "omniture_user_context_pos": "HCOM_DE"
         },
         {
          "booking_gross_profit_amt_usd": 7.8019,
          "omniture_gross_booking_value_usd": 81.9888,
          "omniture_user_context_pos": "HCOM_FR"
         },
         {
          "booking_gross_profit_amt_usd": 65.6215,
          "omniture_gross_booking_value_usd": 424.0938,
          "omniture_user_context_pos": "HCOM_FR"
         },
         {
          "booking_gross_profit_amt_usd": 115.4722,
          "omniture_gross_booking_value_usd": 760.454,
          "omniture_user_context_pos": "HCOM_UK"
         },
         {
          "booking_gross_profit_amt_usd": 4.0847,
          "omniture_gross_booking_value_usd": 59.2977,
          "omniture_user_context_pos": "HCOM_FR"
         },
         {
          "booking_gross_profit_amt_usd": 14.9211,
          "omniture_gross_booking_value_usd": 76.0456,
          "omniture_user_context_pos": "HCOM_FR"
         },
         {
          "booking_gross_profit_amt_usd": 102.6467,
          "omniture_gross_booking_value_usd": 1131.2616,
          "omniture_user_context_pos": "HCOM_UK"
         },
         {
          "booking_gross_profit_amt_usd": 15.023,
          "omniture_gross_booking_value_usd": 104.8694,
          "omniture_user_context_pos": "HCOM_FR"
         },
         {
          "booking_gross_profit_amt_usd": 2.2998,
          "omniture_gross_booking_value_usd": 19.9939,
          "omniture_user_context_pos": "HCOM_UK"
         },
         {
          "booking_gross_profit_amt_usd": 34.43,
          "omniture_gross_booking_value_usd": 275.66200000000003,
          "omniture_user_context_pos": "HCOM_UK"
         },
         {
          "booking_gross_profit_amt_usd": 69.712,
          "omniture_gross_booking_value_usd": 720.0138,
          "omniture_user_context_pos": "HCOM_DE"
         },
         {
          "booking_gross_profit_amt_usd": 4.5124,
          "omniture_gross_booking_value_usd": 22.9644,
          "omniture_user_context_pos": "HCOM_UK"
         },
         {
          "booking_gross_profit_amt_usd": 46.1186,
          "omniture_gross_booking_value_usd": 373.2196,
          "omniture_user_context_pos": "HCOM_UK"
         },
         {
          "booking_gross_profit_amt_usd": 22.3587,
          "omniture_gross_booking_value_usd": 195.1317,
          "omniture_user_context_pos": "HCOM_FR"
         },
         {
          "booking_gross_profit_amt_usd": 22.7264,
          "omniture_gross_booking_value_usd": 209.333,
          "omniture_user_context_pos": "HCOM_UK"
         },
         {
          "booking_gross_profit_amt_usd": 18.0108,
          "omniture_gross_booking_value_usd": 268.2357,
          "omniture_user_context_pos": "HCOM_UK"
         },
         {
          "booking_gross_profit_amt_usd": 37.8749,
          "omniture_gross_booking_value_usd": 228.6163,
          "omniture_user_context_pos": "HCOM_DE"
         },
         {
          "booking_gross_profit_amt_usd": 23.586,
          "omniture_gross_booking_value_usd": 147.0736,
          "omniture_user_context_pos": "HCOM_ES"
         },
         {
          "booking_gross_profit_amt_usd": -79.7419,
          "omniture_gross_booking_value_usd": 18.4071,
          "omniture_user_context_pos": "HCOM_UK"
         },
         {
          "booking_gross_profit_amt_usd": 9.452,
          "omniture_gross_booking_value_usd": 47.6045,
          "omniture_user_context_pos": "HCOM_UK"
         },
         {
          "booking_gross_profit_amt_usd": 12.2879,
          "omniture_gross_booking_value_usd": 104.0631,
          "omniture_user_context_pos": "HCOM_UK"
         },
         {
          "booking_gross_profit_amt_usd": 64.8246,
          "omniture_gross_booking_value_usd": 468.3162,
          "omniture_user_context_pos": "HCOM_FR"
         },
         {
          "booking_gross_profit_amt_usd": 4.7359,
          "omniture_gross_booking_value_usd": 99.1269,
          "omniture_user_context_pos": "HCOM_FR"
         },
         {
          "booking_gross_profit_amt_usd": 32.8341,
          "omniture_gross_booking_value_usd": 334.5116,
          "omniture_user_context_pos": "HCOM_UK"
         },
         {
          "booking_gross_profit_amt_usd": 7.678999999999999,
          "omniture_gross_booking_value_usd": 60.0002,
          "omniture_user_context_pos": "HCOM_ES"
         },
         {
          "booking_gross_profit_amt_usd": 40.1362,
          "omniture_gross_booking_value_usd": 313.0728,
          "omniture_user_context_pos": "HCOM_UK"
         },
         {
          "booking_gross_profit_amt_usd": 23.6849,
          "omniture_gross_booking_value_usd": 199.6365,
          "omniture_user_context_pos": "HCOM_DE"
         },
         {
          "booking_gross_profit_amt_usd": 35.2523,
          "omniture_gross_booking_value_usd": 299.35,
          "omniture_user_context_pos": "HCOM_UK"
         },
         {
          "booking_gross_profit_amt_usd": 8.371,
          "omniture_gross_booking_value_usd": 81.3978,
          "omniture_user_context_pos": "HCOM_FR"
         },
         {
          "booking_gross_profit_amt_usd": 23.6208,
          "omniture_gross_booking_value_usd": 209.3965,
          "omniture_user_context_pos": "HCOM_UK"
         },
         {
          "booking_gross_profit_amt_usd": 25.7203,
          "omniture_gross_booking_value_usd": 250.8725,
          "omniture_user_context_pos": "HCOM_FR"
         },
         {
          "booking_gross_profit_amt_usd": 77.7988,
          "omniture_gross_booking_value_usd": 679.5897,
          "omniture_user_context_pos": "HCOM_UK"
         },
         {
          "booking_gross_profit_amt_usd": 5.5154,
          "omniture_gross_booking_value_usd": 80.2716,
          "omniture_user_context_pos": "HCOM_IT"
         },
         {
          "booking_gross_profit_amt_usd": 23.1068,
          "omniture_gross_booking_value_usd": 165.6055,
          "omniture_user_context_pos": "HCOM_IT"
         },
         {
          "booking_gross_profit_amt_usd": 8.6022,
          "omniture_gross_booking_value_usd": 87.9732,
          "omniture_user_context_pos": "HCOM_UK"
         },
         {
          "booking_gross_profit_amt_usd": 21.9559,
          "omniture_gross_booking_value_usd": 152.7603,
          "omniture_user_context_pos": "HCOM_ES"
         },
         {
          "booking_gross_profit_amt_usd": 2.1087,
          "omniture_gross_booking_value_usd": 47.1327,
          "omniture_user_context_pos": "HCOM_FR"
         },
         {
          "booking_gross_profit_amt_usd": 48.3783,
          "omniture_gross_booking_value_usd": 313.9725,
          "omniture_user_context_pos": "HCOM_DE"
         },
         {
          "booking_gross_profit_amt_usd": 101.5338,
          "omniture_gross_booking_value_usd": 657.8504,
          "omniture_user_context_pos": "HCOM_FR"
         },
         {
          "booking_gross_profit_amt_usd": 6.3068,
          "omniture_gross_booking_value_usd": 36.4587,
          "omniture_user_context_pos": "HCOM_UK"
         },
         {
          "booking_gross_profit_amt_usd": 17.8044,
          "omniture_gross_booking_value_usd": 143.9561,
          "omniture_user_context_pos": "HCOM_UK"
         },
         {
          "booking_gross_profit_amt_usd": 26.4807,
          "omniture_gross_booking_value_usd": 213.2683,
          "omniture_user_context_pos": "HCOM_UK"
         },
         {
          "booking_gross_profit_amt_usd": 26.206,
          "omniture_gross_booking_value_usd": 315.7455,
          "omniture_user_context_pos": "HCOM_DE"
         },
         {
          "booking_gross_profit_amt_usd": 191.0495,
          "omniture_gross_booking_value_usd": 2175.0945,
          "omniture_user_context_pos": "HCOM_DE"
         },
         {
          "booking_gross_profit_amt_usd": -57.0876,
          "omniture_gross_booking_value_usd": 69.82,
          "omniture_user_context_pos": "HCOM_UK"
         },
         {
          "booking_gross_profit_amt_usd": 12.1339,
          "omniture_gross_booking_value_usd": 97.1006,
          "omniture_user_context_pos": "HCOM_UK"
         },
         {
          "booking_gross_profit_amt_usd": 14.0035,
          "omniture_gross_booking_value_usd": 84.3527,
          "omniture_user_context_pos": "HCOM_FR"
         },
         {
          "booking_gross_profit_amt_usd": 5.5432,
          "omniture_gross_booking_value_usd": 30.0861,
          "omniture_user_context_pos": "HCOM_UK"
         },
         {
          "booking_gross_profit_amt_usd": 11.2803,
          "omniture_gross_booking_value_usd": 122.6293,
          "omniture_user_context_pos": "HCOM_UK"
         },
         {
          "booking_gross_profit_amt_usd": 195.2718,
          "omniture_gross_booking_value_usd": 863.0398,
          "omniture_user_context_pos": "HCOM_DE"
         },
         {
          "booking_gross_profit_amt_usd": 6.81,
          "omniture_gross_booking_value_usd": 38.1455,
          "omniture_user_context_pos": "HCOM_FR"
         },
         {
          "booking_gross_profit_amt_usd": 14.8284,
          "omniture_gross_booking_value_usd": 167.6315,
          "omniture_user_context_pos": "HCOM_UK"
         },
         {
          "booking_gross_profit_amt_usd": 14.6531,
          "omniture_gross_booking_value_usd": 97.74799999999999,
          "omniture_user_context_pos": "HCOM_UK"
         },
         {
          "booking_gross_profit_amt_usd": 11.9805,
          "omniture_gross_booking_value_usd": 123.4164,
          "omniture_user_context_pos": "HCOM_UK"
         },
         {
          "booking_gross_profit_amt_usd": 22.9815,
          "omniture_gross_booking_value_usd": 215.0798,
          "omniture_user_context_pos": "HCOM_FR"
         },
         {
          "booking_gross_profit_amt_usd": 7.9110000000000005,
          "omniture_gross_booking_value_usd": 76.9377,
          "omniture_user_context_pos": "HCOM_DE"
         },
         {
          "booking_gross_profit_amt_usd": 7.9379,
          "omniture_gross_booking_value_usd": 60.2009,
          "omniture_user_context_pos": "HCOM_ES"
         },
         {
          "booking_gross_profit_amt_usd": 14.3109,
          "omniture_gross_booking_value_usd": 137.1011,
          "omniture_user_context_pos": "HCOM_UK"
         },
         {
          "booking_gross_profit_amt_usd": 14.9584,
          "omniture_gross_booking_value_usd": 167.3673,
          "omniture_user_context_pos": "HCOM_DE"
         },
         {
          "booking_gross_profit_amt_usd": 6.3317,
          "omniture_gross_booking_value_usd": 73.5925,
          "omniture_user_context_pos": "HCOM_FR"
         },
         {
          "booking_gross_profit_amt_usd": 11.6195,
          "omniture_gross_booking_value_usd": 164.3816,
          "omniture_user_context_pos": "HCOM_UK"
         },
         {
          "booking_gross_profit_amt_usd": 15.2799,
          "omniture_gross_booking_value_usd": 110.3888,
          "omniture_user_context_pos": "HCOM_IT"
         },
         {
          "booking_gross_profit_amt_usd": 8.5006,
          "omniture_gross_booking_value_usd": 303.04,
          "omniture_user_context_pos": "HCOM_UK"
         },
         {
          "booking_gross_profit_amt_usd": 17.226,
          "omniture_gross_booking_value_usd": 110.3888,
          "omniture_user_context_pos": "HCOM_FR"
         },
         {
          "booking_gross_profit_amt_usd": 127.5004,
          "omniture_gross_booking_value_usd": 995.9124,
          "omniture_user_context_pos": "HCOM_UK"
         },
         {
          "booking_gross_profit_amt_usd": 23.1117,
          "omniture_gross_booking_value_usd": 195.49599999999998,
          "omniture_user_context_pos": "HCOM_UK"
         },
         {
          "booking_gross_profit_amt_usd": 13.3916,
          "omniture_gross_booking_value_usd": 111.42,
          "omniture_user_context_pos": "HCOM_UK"
         },
         {
          "booking_gross_profit_amt_usd": 123.2635,
          "omniture_gross_booking_value_usd": 610.1491,
          "omniture_user_context_pos": "HCOM_IT"
         },
         {
          "booking_gross_profit_amt_usd": 8.5185,
          "omniture_gross_booking_value_usd": 83.6279,
          "omniture_user_context_pos": "HCOM_ES"
         },
         {
          "booking_gross_profit_amt_usd": 12.2093,
          "omniture_gross_booking_value_usd": 277.2277,
          "omniture_user_context_pos": "HCOM_UK"
         },
         {
          "booking_gross_profit_amt_usd": 43.8028,
          "omniture_gross_booking_value_usd": 301.6858,
          "omniture_user_context_pos": "HCOM_UK"
         },
         {
          "booking_gross_profit_amt_usd": 4.7359,
          "omniture_gross_booking_value_usd": 99.1269,
          "omniture_user_context_pos": "HCOM_FR"
         },
         {
          "booking_gross_profit_amt_usd": -97.9238,
          "omniture_gross_booking_value_usd": 37.5758,
          "omniture_user_context_pos": "HCOM_UK"
         },
         {
          "booking_gross_profit_amt_usd": 13.5553,
          "omniture_gross_booking_value_usd": 87.9319,
          "omniture_user_context_pos": "HCOM_ES"
         },
         {
          "booking_gross_profit_amt_usd": 7.5457,
          "omniture_gross_booking_value_usd": 101.5564,
          "omniture_user_context_pos": "HCOM_UK"
         },
         {
          "booking_gross_profit_amt_usd": 13.732000000000001,
          "omniture_gross_booking_value_usd": 152.3345,
          "omniture_user_context_pos": "HCOM_UK"
         },
         {
          "booking_gross_profit_amt_usd": 28.8485,
          "omniture_gross_booking_value_usd": 147.2609,
          "omniture_user_context_pos": "HCOM_FR"
         },
         {
          "booking_gross_profit_amt_usd": 9.2997,
          "omniture_gross_booking_value_usd": 174.0168,
          "omniture_user_context_pos": "HCOM_UK"
         },
         {
          "booking_gross_profit_amt_usd": 10.217,
          "omniture_gross_booking_value_usd": 54.6369,
          "omniture_user_context_pos": "HCOM_DE"
         },
         {
          "booking_gross_profit_amt_usd": 16.4442,
          "omniture_gross_booking_value_usd": 131.7864,
          "omniture_user_context_pos": "HCOM_DE"
         },
         {
          "booking_gross_profit_amt_usd": 19.6898,
          "omniture_gross_booking_value_usd": 266.6235,
          "omniture_user_context_pos": "HCOM_UK"
         },
         {
          "booking_gross_profit_amt_usd": 2.8992,
          "omniture_gross_booking_value_usd": 114.2914,
          "omniture_user_context_pos": "HCOM_FR"
         },
         {
          "booking_gross_profit_amt_usd": 44.4207,
          "omniture_gross_booking_value_usd": 498.7686,
          "omniture_user_context_pos": "HCOM_UK"
         },
         {
          "booking_gross_profit_amt_usd": 16.0688,
          "omniture_gross_booking_value_usd": 182.0858,
          "omniture_user_context_pos": "HCOM_FR"
         },
         {
          "booking_gross_profit_amt_usd": 19.0914,
          "omniture_gross_booking_value_usd": 175.8702,
          "omniture_user_context_pos": "HCOM_UK"
         },
         {
          "booking_gross_profit_amt_usd": 147.5475,
          "omniture_gross_booking_value_usd": 1283.7231,
          "omniture_user_context_pos": "HCOM_UK"
         },
         {
          "booking_gross_profit_amt_usd": 1541.2105,
          "omniture_gross_booking_value_usd": 8920.3082,
          "omniture_user_context_pos": "HCOM_UK"
         },
         {
          "booking_gross_profit_amt_usd": 15.6333,
          "omniture_gross_booking_value_usd": 112.9941,
          "omniture_user_context_pos": "HCOM_UK"
         },
         {
          "booking_gross_profit_amt_usd": 10.2903,
          "omniture_gross_booking_value_usd": 116.2874,
          "omniture_user_context_pos": "HCOM_DE"
         },
         {
          "booking_gross_profit_amt_usd": 13.273,
          "omniture_gross_booking_value_usd": 139.2795,
          "omniture_user_context_pos": "HCOM_DE"
         },
         {
          "booking_gross_profit_amt_usd": 17.3841,
          "omniture_gross_booking_value_usd": 163.7596,
          "omniture_user_context_pos": "HCOM_UK"
         },
         {
          "booking_gross_profit_amt_usd": 194.4736,
          "omniture_gross_booking_value_usd": 1389.4432,
          "omniture_user_context_pos": "HCOM_UK"
         },
         {
          "booking_gross_profit_amt_usd": 20.099,
          "omniture_gross_booking_value_usd": 157.6662,
          "omniture_user_context_pos": "HCOM_UK"
         },
         {
          "booking_gross_profit_amt_usd": 4.8009,
          "omniture_gross_booking_value_usd": 54.5738,
          "omniture_user_context_pos": "HCOM_UK"
         },
         {
          "booking_gross_profit_amt_usd": 12.16,
          "omniture_gross_booking_value_usd": 158,
          "omniture_user_context_pos": "HCOM_UK"
         },
         {
          "booking_gross_profit_amt_usd": 8.0957,
          "omniture_gross_booking_value_usd": 82.5272,
          "omniture_user_context_pos": "HCOM_UK"
         },
         {
          "booking_gross_profit_amt_usd": 10.1276,
          "omniture_gross_booking_value_usd": 94.257,
          "omniture_user_context_pos": "HCOM_UK"
         },
         {
          "booking_gross_profit_amt_usd": 71.6296,
          "omniture_gross_booking_value_usd": 471.0184,
          "omniture_user_context_pos": "HCOM_UK"
         },
         {
          "booking_gross_profit_amt_usd": 14.386,
          "omniture_gross_booking_value_usd": 235.6615,
          "omniture_user_context_pos": "HCOM_UK"
         },
         {
          "booking_gross_profit_amt_usd": 11.4313,
          "omniture_gross_booking_value_usd": 84.4314,
          "omniture_user_context_pos": "HCOM_UK"
         },
         {
          "booking_gross_profit_amt_usd": 16.0397,
          "omniture_gross_booking_value_usd": 135.466,
          "omniture_user_context_pos": "HCOM_DE"
         },
         {
          "booking_gross_profit_amt_usd": 13.0467,
          "omniture_gross_booking_value_usd": 110.3888,
          "omniture_user_context_pos": "HCOM_FR"
         },
         {
          "booking_gross_profit_amt_usd": 74.0439,
          "omniture_gross_booking_value_usd": 520.4636,
          "omniture_user_context_pos": "HCOM_UK"
         },
         {
          "booking_gross_profit_amt_usd": 40.2681,
          "omniture_gross_booking_value_usd": 223.3224,
          "omniture_user_context_pos": "HCOM_UK"
         },
         {
          "booking_gross_profit_amt_usd": 8.5637,
          "omniture_gross_booking_value_usd": 79.1677,
          "omniture_user_context_pos": "HCOM_FR"
         },
         {
          "booking_gross_profit_amt_usd": 2.4459999999999997,
          "omniture_gross_booking_value_usd": 19.5,
          "omniture_user_context_pos": "HCOM_ES"
         },
         {
          "booking_gross_profit_amt_usd": 36.8426,
          "omniture_gross_booking_value_usd": 237.1849,
          "omniture_user_context_pos": "HCOM_UK"
         },
         {
          "booking_gross_profit_amt_usd": 4.7394,
          "omniture_gross_booking_value_usd": 134.47,
          "omniture_user_context_pos": "HCOM_FR"
         },
         {
          "booking_gross_profit_amt_usd": 68.2822,
          "omniture_gross_booking_value_usd": 337.957,
          "omniture_user_context_pos": "HCOM_DE"
         },
         {
          "booking_gross_profit_amt_usd": 21.4044,
          "omniture_gross_booking_value_usd": 116.4658,
          "omniture_user_context_pos": "HCOM_FR"
         },
         {
          "booking_gross_profit_amt_usd": 3.8746,
          "omniture_gross_booking_value_usd": 30.250999999999998,
          "omniture_user_context_pos": "HCOM_IT"
         },
         {
          "booking_gross_profit_amt_usd": 23.5337,
          "omniture_gross_booking_value_usd": 197.43,
          "omniture_user_context_pos": "HCOM_UK"
         },
         {
          "booking_gross_profit_amt_usd": 11.4522,
          "omniture_gross_booking_value_usd": 132.0613,
          "omniture_user_context_pos": "HCOM_UK"
         },
         {
          "booking_gross_profit_amt_usd": 20.6105,
          "omniture_gross_booking_value_usd": 147.2694,
          "omniture_user_context_pos": "HCOM_UK"
         },
         {
          "booking_gross_profit_amt_usd": 15.3564,
          "omniture_gross_booking_value_usd": 82.5145,
          "omniture_user_context_pos": "HCOM_UK"
         },
         {
          "booking_gross_profit_amt_usd": 18.6655,
          "omniture_gross_booking_value_usd": 172.4554,
          "omniture_user_context_pos": "HCOM_UK"
         },
         {
          "booking_gross_profit_amt_usd": 13.8384,
          "omniture_gross_booking_value_usd": 107.9036,
          "omniture_user_context_pos": "HCOM_UK"
         },
         {
          "booking_gross_profit_amt_usd": 11.7643,
          "omniture_gross_booking_value_usd": 94.3211,
          "omniture_user_context_pos": "HCOM_FR"
         },
         {
          "booking_gross_profit_amt_usd": 6.1306,
          "omniture_gross_booking_value_usd": 209.6272,
          "omniture_user_context_pos": "HCOM_FR"
         },
         {
          "booking_gross_profit_amt_usd": 16.6016,
          "omniture_gross_booking_value_usd": 231.4374,
          "omniture_user_context_pos": "HCOM_FR"
         },
         {
          "booking_gross_profit_amt_usd": 3.5234,
          "omniture_gross_booking_value_usd": 50.7782,
          "omniture_user_context_pos": "HCOM_UK"
         },
         {
          "booking_gross_profit_amt_usd": 12.2517,
          "omniture_gross_booking_value_usd": 95.2091,
          "omniture_user_context_pos": "HCOM_UK"
         },
         {
          "booking_gross_profit_amt_usd": 43.033,
          "omniture_gross_booking_value_usd": 234.7602,
          "omniture_user_context_pos": "HCOM_DE"
         },
         {
          "booking_gross_profit_amt_usd": 24.0652,
          "omniture_gross_booking_value_usd": 284.3578,
          "omniture_user_context_pos": "HCOM_DE"
         },
         {
          "booking_gross_profit_amt_usd": 49.0464,
          "omniture_gross_booking_value_usd": 331.0991,
          "omniture_user_context_pos": "HCOM_UK"
         },
         {
          "booking_gross_profit_amt_usd": 56.3781,
          "omniture_gross_booking_value_usd": 395.8387,
          "omniture_user_context_pos": "HCOM_DE"
         },
         {
          "booking_gross_profit_amt_usd": 36.0397,
          "omniture_gross_booking_value_usd": 126.9471,
          "omniture_user_context_pos": "HCOM_IT"
         },
         {
          "booking_gross_profit_amt_usd": 6.5723,
          "omniture_gross_booking_value_usd": 129.2939,
          "omniture_user_context_pos": "HCOM_UK"
         },
         {
          "booking_gross_profit_amt_usd": 10.2895,
          "omniture_gross_booking_value_usd": 123.6576,
          "omniture_user_context_pos": "HCOM_UK"
         },
         {
          "booking_gross_profit_amt_usd": 11.7001,
          "omniture_gross_booking_value_usd": 93.6857,
          "omniture_user_context_pos": "HCOM_UK"
         },
         {
          "booking_gross_profit_amt_usd": 58.6329,
          "omniture_gross_booking_value_usd": 339.4013,
          "omniture_user_context_pos": "HCOM_UK"
         },
         {
          "booking_gross_profit_amt_usd": 13.9994,
          "omniture_gross_booking_value_usd": 114.2509,
          "omniture_user_context_pos": "HCOM_UK"
         },
         {
          "booking_gross_profit_amt_usd": 22.9244,
          "omniture_gross_booking_value_usd": 377.4517,
          "omniture_user_context_pos": "HCOM_DE"
         },
         {
          "booking_gross_profit_amt_usd": 6.0774,
          "omniture_gross_booking_value_usd": 81.2451,
          "omniture_user_context_pos": "HCOM_UK"
         },
         {
          "booking_gross_profit_amt_usd": 10.2753,
          "omniture_gross_booking_value_usd": 55.9829,
          "omniture_user_context_pos": "HCOM_UK"
         },
         {
          "booking_gross_profit_amt_usd": 8.4043,
          "omniture_gross_booking_value_usd": 95.2091,
          "omniture_user_context_pos": "HCOM_UK"
         },
         {
          "booking_gross_profit_amt_usd": 12.3244,
          "omniture_gross_booking_value_usd": 89.0522,
          "omniture_user_context_pos": "HCOM_UK"
         },
         {
          "booking_gross_profit_amt_usd": 19.0368,
          "omniture_gross_booking_value_usd": 166.6032,
          "omniture_user_context_pos": "HCOM_UK"
         },
         {
          "booking_gross_profit_amt_usd": 2.5756,
          "omniture_gross_booking_value_usd": 22.1266,
          "omniture_user_context_pos": "HCOM_UK"
         },
         {
          "booking_gross_profit_amt_usd": 14.677,
          "omniture_gross_booking_value_usd": 166.1407,
          "omniture_user_context_pos": "HCOM_UK"
         },
         {
          "booking_gross_profit_amt_usd": 6.1646,
          "omniture_gross_booking_value_usd": 62.7618,
          "omniture_user_context_pos": "HCOM_UK"
         },
         {
          "booking_gross_profit_amt_usd": 14.3459,
          "omniture_gross_booking_value_usd": 197.5179,
          "omniture_user_context_pos": "HCOM_ES"
         },
         {
          "booking_gross_profit_amt_usd": 38.0028,
          "omniture_gross_booking_value_usd": 256.7376,
          "omniture_user_context_pos": "HCOM_DE"
         },
         {
          "booking_gross_profit_amt_usd": 14.48,
          "omniture_gross_booking_value_usd": 70.2474,
          "omniture_user_context_pos": "HCOM_IT"
         },
         {
          "booking_gross_profit_amt_usd": 23.8792,
          "omniture_gross_booking_value_usd": 212.7605,
          "omniture_user_context_pos": "HCOM_FR"
         },
         {
          "booking_gross_profit_amt_usd": 15.5404,
          "omniture_gross_booking_value_usd": 131.2623,
          "omniture_user_context_pos": "HCOM_IT"
         },
         {
          "booking_gross_profit_amt_usd": 24.276999999999997,
          "omniture_gross_booking_value_usd": 203.1127,
          "omniture_user_context_pos": "HCOM_UK"
         },
         {
          "booking_gross_profit_amt_usd": 14.9686,
          "omniture_gross_booking_value_usd": 102.7242,
          "omniture_user_context_pos": "HCOM_UK"
         },
         {
          "booking_gross_profit_amt_usd": 40.0106,
          "omniture_gross_booking_value_usd": 327.6208,
          "omniture_user_context_pos": "HCOM_UK"
         },
         {
          "booking_gross_profit_amt_usd": 20.64,
          "omniture_gross_booking_value_usd": 135.3238,
          "omniture_user_context_pos": "HCOM_UK"
         },
         {
          "booking_gross_profit_amt_usd": 33.7837,
          "omniture_gross_booking_value_usd": 269.8393,
          "omniture_user_context_pos": "HCOM_FR"
         },
         {
          "booking_gross_profit_amt_usd": 9.8546,
          "omniture_gross_booking_value_usd": 59.3597,
          "omniture_user_context_pos": "HCOM_UK"
         },
         {
          "booking_gross_profit_amt_usd": 23.0807,
          "omniture_gross_booking_value_usd": 236.72,
          "omniture_user_context_pos": "HCOM_ES"
         },
         {
          "booking_gross_profit_amt_usd": 9.7814,
          "omniture_gross_booking_value_usd": 58.2385,
          "omniture_user_context_pos": "HCOM_FR"
         },
         {
          "booking_gross_profit_amt_usd": 26.5885,
          "omniture_gross_booking_value_usd": 231.3454,
          "omniture_user_context_pos": "HCOM_UK"
         },
         {
          "booking_gross_profit_amt_usd": 8.0588,
          "omniture_gross_booking_value_usd": 107.9036,
          "omniture_user_context_pos": "HCOM_UK"
         },
         {
          "booking_gross_profit_amt_usd": 59.3983,
          "omniture_gross_booking_value_usd": 323.272,
          "omniture_user_context_pos": "HCOM_ES"
         },
         {
          "booking_gross_profit_amt_usd": 469.5443,
          "omniture_gross_booking_value_usd": 2876.81,
          "omniture_user_context_pos": "HCOM_ES"
         },
         {
          "booking_gross_profit_amt_usd": 37.3694,
          "omniture_gross_booking_value_usd": 199.8372,
          "omniture_user_context_pos": "HCOM_FR"
         },
         {
          "booking_gross_profit_amt_usd": 7.9557,
          "omniture_gross_booking_value_usd": 47.6172,
          "omniture_user_context_pos": "HCOM_UK"
         },
         {
          "booking_gross_profit_amt_usd": 106.4606,
          "omniture_gross_booking_value_usd": 836.2789,
          "omniture_user_context_pos": "HCOM_DE"
         },
         {
          "booking_gross_profit_amt_usd": 55.0435,
          "omniture_gross_booking_value_usd": 475.4413,
          "omniture_user_context_pos": "HCOM_FR"
         },
         {
          "booking_gross_profit_amt_usd": 73.6003,
          "omniture_gross_booking_value_usd": 897.8089,
          "omniture_user_context_pos": "HCOM_UK"
         },
         {
          "booking_gross_profit_amt_usd": 14.7956,
          "omniture_gross_booking_value_usd": 100.3535,
          "omniture_user_context_pos": "HCOM_FR"
         },
         {
          "booking_gross_profit_amt_usd": 9.0948,
          "omniture_gross_booking_value_usd": 84.3527,
          "omniture_user_context_pos": "HCOM_FR"
         },
         {
          "booking_gross_profit_amt_usd": 16.0826,
          "omniture_gross_booking_value_usd": 168.8501,
          "omniture_user_context_pos": "HCOM_UK"
         },
         {
          "booking_gross_profit_amt_usd": 29.5323,
          "omniture_gross_booking_value_usd": 486.20099999999996,
          "omniture_user_context_pos": "HCOM_UK"
         },
         {
          "booking_gross_profit_amt_usd": 17.3642,
          "omniture_gross_booking_value_usd": 102.6484,
          "omniture_user_context_pos": "HCOM_UK"
         },
         {
          "booking_gross_profit_amt_usd": 11.5701,
          "omniture_gross_booking_value_usd": 90.3181,
          "omniture_user_context_pos": "HCOM_DE"
         },
         {
          "booking_gross_profit_amt_usd": 3.7188,
          "omniture_gross_booking_value_usd": 18.3563,
          "omniture_user_context_pos": "HCOM_UK"
         },
         {
          "booking_gross_profit_amt_usd": 12.1581,
          "omniture_gross_booking_value_usd": 137.8564,
          "omniture_user_context_pos": "HCOM_DE"
         },
         {
          "booking_gross_profit_amt_usd": 313.8373,
          "omniture_gross_booking_value_usd": 970.0835,
          "omniture_user_context_pos": "HCOM_DE"
         },
         {
          "booking_gross_profit_amt_usd": 30.0814,
          "omniture_gross_booking_value_usd": 355.4472,
          "omniture_user_context_pos": "HCOM_DE"
         },
         {
          "booking_gross_profit_amt_usd": 87.6326,
          "omniture_gross_booking_value_usd": 920.5,
          "omniture_user_context_pos": "HCOM_ES"
         },
         {
          "booking_gross_profit_amt_usd": 69.9988,
          "omniture_gross_booking_value_usd": 551.4646,
          "omniture_user_context_pos": "HCOM_ES"
         },
         {
          "booking_gross_profit_amt_usd": 15.74,
          "omniture_gross_booking_value_usd": 99.3499,
          "omniture_user_context_pos": "HCOM_IT"
         },
         {
          "booking_gross_profit_amt_usd": 7.0318,
          "omniture_gross_booking_value_usd": 147.1851,
          "omniture_user_context_pos": "HCOM_FR"
         },
         {
          "booking_gross_profit_amt_usd": 48.2968,
          "omniture_gross_booking_value_usd": 311.0957,
          "omniture_user_context_pos": "HCOM_UK"
         },
         {
          "booking_gross_profit_amt_usd": -121.0635,
          "omniture_gross_booking_value_usd": 33.0185,
          "omniture_user_context_pos": "HCOM_UK"
         },
         {
          "booking_gross_profit_amt_usd": 1.8952,
          "omniture_gross_booking_value_usd": 13.0373,
          "omniture_user_context_pos": "HCOM_UK"
         },
         {
          "booking_gross_profit_amt_usd": 57.1253,
          "omniture_gross_booking_value_usd": 375.6316,
          "omniture_user_context_pos": "HCOM_UK"
         },
         {
          "booking_gross_profit_amt_usd": 3.4084,
          "omniture_gross_booking_value_usd": 59.9668,
          "omniture_user_context_pos": "HCOM_FR"
         },
         {
          "booking_gross_profit_amt_usd": 25.0924,
          "omniture_gross_booking_value_usd": 154.1625,
          "omniture_user_context_pos": "HCOM_UK"
         },
         {
          "booking_gross_profit_amt_usd": 8.5191,
          "omniture_gross_booking_value_usd": 75.8003,
          "omniture_user_context_pos": "HCOM_FR"
         },
         {
          "booking_gross_profit_amt_usd": 14.9584,
          "omniture_gross_booking_value_usd": 167.3673,
          "omniture_user_context_pos": "HCOM_DE"
         },
         {
          "booking_gross_profit_amt_usd": 47.2404,
          "omniture_gross_booking_value_usd": 284.3571,
          "omniture_user_context_pos": "HCOM_FR"
         },
         {
          "booking_gross_profit_amt_usd": 53.1131,
          "omniture_gross_booking_value_usd": 283.685,
          "omniture_user_context_pos": "HCOM_UK"
         },
         {
          "booking_gross_profit_amt_usd": 9.2685,
          "omniture_gross_booking_value_usd": 307.7506,
          "omniture_user_context_pos": "HCOM_FR"
         },
         {
          "booking_gross_profit_amt_usd": 38.023,
          "omniture_gross_booking_value_usd": 380.7601,
          "omniture_user_context_pos": "HCOM_UK"
         },
         {
          "booking_gross_profit_amt_usd": 12.1682,
          "omniture_gross_booking_value_usd": 102.8385,
          "omniture_user_context_pos": "HCOM_UK"
         },
         {
          "booking_gross_profit_amt_usd": 100.4416,
          "omniture_gross_booking_value_usd": 1268.3119,
          "omniture_user_context_pos": "HCOM_UK"
         },
         {
          "booking_gross_profit_amt_usd": 21.4627,
          "omniture_gross_booking_value_usd": 181.7513,
          "omniture_user_context_pos": "HCOM_FR"
         },
         {
          "booking_gross_profit_amt_usd": 5.1126,
          "omniture_gross_booking_value_usd": 89.9502,
          "omniture_user_context_pos": "HCOM_FR"
         },
         {
          "booking_gross_profit_amt_usd": 9.8754,
          "omniture_gross_booking_value_usd": 83.6279,
          "omniture_user_context_pos": "HCOM_UK"
         },
         {
          "booking_gross_profit_amt_usd": 20.4755,
          "omniture_gross_booking_value_usd": 121.5392,
          "omniture_user_context_pos": "HCOM_IT"
         },
         {
          "booking_gross_profit_amt_usd": 1.5879,
          "omniture_gross_booking_value_usd": 54.6369,
          "omniture_user_context_pos": "HCOM_FR"
         },
         {
          "booking_gross_profit_amt_usd": 42.0729,
          "omniture_gross_booking_value_usd": 272.0822,
          "omniture_user_context_pos": "HCOM_UK"
         },
         {
          "booking_gross_profit_amt_usd": 12.9833,
          "omniture_gross_booking_value_usd": 103.7097,
          "omniture_user_context_pos": "HCOM_FR"
         },
         {
          "booking_gross_profit_amt_usd": 34.1151,
          "omniture_gross_booking_value_usd": 511.08,
          "omniture_user_context_pos": "HCOM_UK"
         },
         {
          "booking_gross_profit_amt_usd": 5.8967,
          "omniture_gross_booking_value_usd": 104.0699,
          "omniture_user_context_pos": "HCOM_UK"
         },
         {
          "booking_gross_profit_amt_usd": 220.02700000000002,
          "omniture_gross_booking_value_usd": 1654.1768,
          "omniture_user_context_pos": "HCOM_UK"
         },
         {
          "booking_gross_profit_amt_usd": 11.7035,
          "omniture_gross_booking_value_usd": 91.4007,
          "omniture_user_context_pos": "HCOM_UK"
         },
         {
          "booking_gross_profit_amt_usd": 10.7132,
          "omniture_gross_booking_value_usd": 134.5749,
          "omniture_user_context_pos": "HCOM_UK"
         },
         {
          "booking_gross_profit_amt_usd": 6.4548,
          "omniture_gross_booking_value_usd": 65.7873,
          "omniture_user_context_pos": "HCOM_FR"
         },
         {
          "booking_gross_profit_amt_usd": 16.0668,
          "omniture_gross_booking_value_usd": 139.9596,
          "omniture_user_context_pos": "HCOM_DE"
         },
         {
          "booking_gross_profit_amt_usd": 58.022,
          "omniture_gross_booking_value_usd": 352.8448,
          "omniture_user_context_pos": "HCOM_UK"
         },
         {
          "booking_gross_profit_amt_usd": 4.6162,
          "omniture_gross_booking_value_usd": 49.3564,
          "omniture_user_context_pos": "HCOM_UK"
         },
         {
          "booking_gross_profit_amt_usd": 16.269000000000002,
          "omniture_gross_booking_value_usd": 208.5122,
          "omniture_user_context_pos": "HCOM_FR"
         },
         {
          "booking_gross_profit_amt_usd": 130.6398,
          "omniture_gross_booking_value_usd": 525.5541,
          "omniture_user_context_pos": "HCOM_UK"
         },
         {
          "booking_gross_profit_amt_usd": 12.8205,
          "omniture_gross_booking_value_usd": 178.5361,
          "omniture_user_context_pos": "HCOM_UK"
         },
         {
          "booking_gross_profit_amt_usd": 24.8669,
          "omniture_gross_booking_value_usd": 133.7712,
          "omniture_user_context_pos": "HCOM_ES"
         },
         {
          "booking_gross_profit_amt_usd": 21.8199,
          "omniture_gross_booking_value_usd": 170.612,
          "omniture_user_context_pos": "HCOM_FR"
         },
         {
          "booking_gross_profit_amt_usd": 70.9426,
          "omniture_gross_booking_value_usd": 349.5823,
          "omniture_user_context_pos": "HCOM_UK"
         },
         {
          "booking_gross_profit_amt_usd": 10.9715,
          "omniture_gross_booking_value_usd": 92.6321,
          "omniture_user_context_pos": "HCOM_UK"
         },
         {
          "booking_gross_profit_amt_usd": 86.9898,
          "omniture_gross_booking_value_usd": 605.4325,
          "omniture_user_context_pos": "HCOM_FR"
         },
         {
          "booking_gross_profit_amt_usd": 34.7776,
          "omniture_gross_booking_value_usd": 427.4389,
          "omniture_user_context_pos": "HCOM_FR"
         },
         {
          "booking_gross_profit_amt_usd": 0.2129,
          "omniture_gross_booking_value_usd": 103.9556,
          "omniture_user_context_pos": "HCOM_UK"
         },
         {
          "booking_gross_profit_amt_usd": 20.2016,
          "omniture_gross_booking_value_usd": 175.9754,
          "omniture_user_context_pos": "HCOM_DE"
         },
         {
          "booking_gross_profit_amt_usd": 20.8503,
          "omniture_gross_booking_value_usd": 190.4182,
          "omniture_user_context_pos": "HCOM_UK"
         },
         {
          "booking_gross_profit_amt_usd": 11.45,
          "omniture_gross_booking_value_usd": 84.7429,
          "omniture_user_context_pos": "HCOM_FR"
         },
         {
          "booking_gross_profit_amt_usd": 98.7584,
          "omniture_gross_booking_value_usd": 793.8787,
          "omniture_user_context_pos": "HCOM_UK"
         },
         {
          "booking_gross_profit_amt_usd": 93.2692,
          "omniture_gross_booking_value_usd": 736.6898,
          "omniture_user_context_pos": "HCOM_UK"
         },
         {
          "booking_gross_profit_amt_usd": 10.071,
          "omniture_gross_booking_value_usd": 125.676,
          "omniture_user_context_pos": "HCOM_UK"
         },
         {
          "booking_gross_profit_amt_usd": 18.9156,
          "omniture_gross_booking_value_usd": 172.5189,
          "omniture_user_context_pos": "HCOM_UK"
         },
         {
          "booking_gross_profit_amt_usd": 65.086,
          "omniture_gross_booking_value_usd": 521.2888,
          "omniture_user_context_pos": "HCOM_UK"
         },
         {
          "booking_gross_profit_amt_usd": 10.5654,
          "omniture_gross_booking_value_usd": 124.4065,
          "omniture_user_context_pos": "HCOM_UK"
         },
         {
          "booking_gross_profit_amt_usd": 39.0941,
          "omniture_gross_booking_value_usd": 550.3851,
          "omniture_user_context_pos": "HCOM_FR"
         },
         {
          "booking_gross_profit_amt_usd": 54.1978,
          "omniture_gross_booking_value_usd": 551.9664,
          "omniture_user_context_pos": "HCOM_UK"
         },
         {
          "booking_gross_profit_amt_usd": 3.6858,
          "omniture_gross_booking_value_usd": 63.5572,
          "omniture_user_context_pos": "HCOM_FR"
         },
         {
          "booking_gross_profit_amt_usd": 4.8636,
          "omniture_gross_booking_value_usd": 71.5855,
          "omniture_user_context_pos": "HCOM_FR"
         },
         {
          "booking_gross_profit_amt_usd": 2.9188,
          "omniture_gross_booking_value_usd": 49.2401,
          "omniture_user_context_pos": "HCOM_IT"
         },
         {
          "booking_gross_profit_amt_usd": 7.9314,
          "omniture_gross_booking_value_usd": 51.5928,
          "omniture_user_context_pos": "HCOM_DE"
         },
         {
          "booking_gross_profit_amt_usd": 54.3688,
          "omniture_gross_booking_value_usd": 617.6023,
          "omniture_user_context_pos": "HCOM_UK"
         },
         {
          "booking_gross_profit_amt_usd": 18.3495,
          "omniture_gross_booking_value_usd": 125.9994,
          "omniture_user_context_pos": "HCOM_DE"
         },
         {
          "booking_gross_profit_amt_usd": 12.0005,
          "omniture_gross_booking_value_usd": 96.2373,
          "omniture_user_context_pos": "HCOM_UK"
         },
         {
          "booking_gross_profit_amt_usd": 25.3199,
          "omniture_gross_booking_value_usd": 214.5378,
          "omniture_user_context_pos": "HCOM_UK"
         },
         {
          "booking_gross_profit_amt_usd": 47.581,
          "omniture_gross_booking_value_usd": 401.3761,
          "omniture_user_context_pos": "HCOM_UK"
         },
         {
          "booking_gross_profit_amt_usd": 0.9912,
          "omniture_gross_booking_value_usd": 5.7424,
          "omniture_user_context_pos": "HCOM_FR"
         },
         {
          "booking_gross_profit_amt_usd": 7.9188,
          "omniture_gross_booking_value_usd": 38.8814,
          "omniture_user_context_pos": "HCOM_DE"
         },
         {
          "booking_gross_profit_amt_usd": 17.1094,
          "omniture_gross_booking_value_usd": 97.7688,
          "omniture_user_context_pos": "HCOM_DE"
         },
         {
          "booking_gross_profit_amt_usd": 20.7229,
          "omniture_gross_booking_value_usd": 331.3002,
          "omniture_user_context_pos": "HCOM_DE"
         },
         {
          "booking_gross_profit_amt_usd": 25.1891,
          "omniture_gross_booking_value_usd": 194.6857,
          "omniture_user_context_pos": "HCOM_DE"
         },
         {
          "booking_gross_profit_amt_usd": 62.0446,
          "omniture_gross_booking_value_usd": 414.3499,
          "omniture_user_context_pos": "HCOM_UK"
         },
         {
          "booking_gross_profit_amt_usd": 66.4553,
          "omniture_gross_booking_value_usd": 545.6242,
          "omniture_user_context_pos": "HCOM_UK"
         },
         {
          "booking_gross_profit_amt_usd": 88.5674,
          "omniture_gross_booking_value_usd": 654.5942,
          "omniture_user_context_pos": "HCOM_UK"
         },
         {
          "booking_gross_profit_amt_usd": 14.2352,
          "omniture_gross_booking_value_usd": 99.3499,
          "omniture_user_context_pos": "HCOM_IT"
         },
         {
          "booking_gross_profit_amt_usd": 11.5415,
          "omniture_gross_booking_value_usd": 334.8694,
          "omniture_user_context_pos": "HCOM_UK"
         },
         {
          "booking_gross_profit_amt_usd": 9.4453,
          "omniture_gross_booking_value_usd": 110.8995,
          "omniture_user_context_pos": "HCOM_UK"
         },
         {
          "booking_gross_profit_amt_usd": 19.9118,
          "omniture_gross_booking_value_usd": 143.4386,
          "omniture_user_context_pos": "HCOM_FR"
         },
         {
          "booking_gross_profit_amt_usd": 19.387999999999998,
          "omniture_gross_booking_value_usd": 195.1317,
          "omniture_user_context_pos": "HCOM_DE"
         },
         {
          "booking_gross_profit_amt_usd": 22.9132,
          "omniture_gross_booking_value_usd": 143.84,
          "omniture_user_context_pos": "HCOM_IT"
         },
         {
          "booking_gross_profit_amt_usd": 100.4326,
          "omniture_gross_booking_value_usd": 545.3207,
          "omniture_user_context_pos": "HCOM_FR"
         },
         {
          "booking_gross_profit_amt_usd": 49.9394,
          "omniture_gross_booking_value_usd": 363.7256,
          "omniture_user_context_pos": "HCOM_DE"
         },
         {
          "booking_gross_profit_amt_usd": 10.1669,
          "omniture_gross_booking_value_usd": 150.5302,
          "omniture_user_context_pos": "HCOM_DE"
         },
         {
          "booking_gross_profit_amt_usd": 9.204,
          "omniture_gross_booking_value_usd": 163.9107,
          "omniture_user_context_pos": "HCOM_FR"
         },
         {
          "booking_gross_profit_amt_usd": 14.9969,
          "omniture_gross_booking_value_usd": 75.7223,
          "omniture_user_context_pos": "HCOM_FR"
         },
         {
          "booking_gross_profit_amt_usd": 16.3361,
          "omniture_gross_booking_value_usd": 184.9849,
          "omniture_user_context_pos": "HCOM_DE"
         },
         {
          "booking_gross_profit_amt_usd": 4.7688,
          "omniture_gross_booking_value_usd": 26.025,
          "omniture_user_context_pos": "HCOM_ES"
         },
         {
          "booking_gross_profit_amt_usd": 50.4302,
          "omniture_gross_booking_value_usd": 360.525,
          "omniture_user_context_pos": "HCOM_UK"
         },
         {
          "booking_gross_profit_amt_usd": 91.8219,
          "omniture_gross_booking_value_usd": 736.9183,
          "omniture_user_context_pos": "HCOM_UK"
         },
         {
          "booking_gross_profit_amt_usd": 125.7296,
          "omniture_gross_booking_value_usd": 863.3186,
          "omniture_user_context_pos": "HCOM_ES"
         },
         {
          "booking_gross_profit_amt_usd": 130.2639,
          "omniture_gross_booking_value_usd": 722.5784,
          "omniture_user_context_pos": "HCOM_FR"
         },
         {
          "booking_gross_profit_amt_usd": 43.2075,
          "omniture_gross_booking_value_usd": 553.0591,
          "omniture_user_context_pos": "HCOM_FR"
         },
         {
          "booking_gross_profit_amt_usd": 37.14,
          "omniture_gross_booking_value_usd": 238.8413,
          "omniture_user_context_pos": "HCOM_FR"
         },
         {
          "booking_gross_profit_amt_usd": 15.1244,
          "omniture_gross_booking_value_usd": 102.5835,
          "omniture_user_context_pos": "HCOM_FR"
         },
         {
          "booking_gross_profit_amt_usd": 4.0535,
          "omniture_gross_booking_value_usd": 69.5788,
          "omniture_user_context_pos": "HCOM_UK"
         },
         {
          "booking_gross_profit_amt_usd": 32.2747,
          "omniture_gross_booking_value_usd": 279.0769,
          "omniture_user_context_pos": "HCOM_UK"
         },
         {
          "booking_gross_profit_amt_usd": 36.9353,
          "omniture_gross_booking_value_usd": 295.6208,
          "omniture_user_context_pos": "HCOM_DE"
         },
         {
          "booking_gross_profit_amt_usd": 15.7997,
          "omniture_gross_booking_value_usd": 161.1008,
          "omniture_user_context_pos": "HCOM_DE"
         },
         {
          "booking_gross_profit_amt_usd": 20.3916,
          "omniture_gross_booking_value_usd": 172.5189,
          "omniture_user_context_pos": "HCOM_UK"
         },
         {
          "booking_gross_profit_amt_usd": 12.3942,
          "omniture_gross_booking_value_usd": 158.6945,
          "omniture_user_context_pos": "HCOM_UK"
         },
         {
          "booking_gross_profit_amt_usd": 73.2255,
          "omniture_gross_booking_value_usd": 416.4111,
          "omniture_user_context_pos": "HCOM_FR"
         },
         {
          "booking_gross_profit_amt_usd": 20.947,
          "omniture_gross_booking_value_usd": 182.6322,
          "omniture_user_context_pos": "HCOM_FR"
         },
         {
          "booking_gross_profit_amt_usd": 61.2161,
          "omniture_gross_booking_value_usd": 421.4288,
          "omniture_user_context_pos": "HCOM_UK"
         },
         {
          "booking_gross_profit_amt_usd": 49.7295,
          "omniture_gross_booking_value_usd": 548.4043,
          "omniture_user_context_pos": "HCOM_UK"
         },
         {
          "booking_gross_profit_amt_usd": 5.7192,
          "omniture_gross_booking_value_usd": 44.6907,
          "omniture_user_context_pos": "HCOM_ES"
         },
         {
          "booking_gross_profit_amt_usd": 26.443,
          "omniture_gross_booking_value_usd": 142.5019,
          "omniture_user_context_pos": "HCOM_FR"
         },
         {
          "booking_gross_profit_amt_usd": 9.3031,
          "omniture_gross_booking_value_usd": 157.2204,
          "omniture_user_context_pos": "HCOM_FR"
         },
         {
          "booking_gross_profit_amt_usd": 29.6412,
          "omniture_gross_booking_value_usd": 258.6889,
          "omniture_user_context_pos": "HCOM_UK"
         },
         {
          "booking_gross_profit_amt_usd": 14.0215,
          "omniture_gross_booking_value_usd": 74.8978,
          "omniture_user_context_pos": "HCOM_UK"
         },
         {
          "booking_gross_profit_amt_usd": 17.7418,
          "omniture_gross_booking_value_usd": 86.9173,
          "omniture_user_context_pos": "HCOM_FR"
         },
         {
          "booking_gross_profit_amt_usd": 17.2101,
          "omniture_gross_booking_value_usd": 83.6167,
          "omniture_user_context_pos": "HCOM_FR"
         },
         {
          "booking_gross_profit_amt_usd": 18.3506,
          "omniture_gross_booking_value_usd": 140.5618,
          "omniture_user_context_pos": "HCOM_DE"
         },
         {
          "booking_gross_profit_amt_usd": 66.0617,
          "omniture_gross_booking_value_usd": 320.8969,
          "omniture_user_context_pos": "HCOM_DE"
         },
         {
          "booking_gross_profit_amt_usd": 36.4778,
          "omniture_gross_booking_value_usd": 257.8135,
          "omniture_user_context_pos": "HCOM_UK"
         },
         {
          "booking_gross_profit_amt_usd": 278.0859,
          "omniture_gross_booking_value_usd": 1857.5761,
          "omniture_user_context_pos": "HCOM_IT"
         },
         {
          "booking_gross_profit_amt_usd": 28.4974,
          "omniture_gross_booking_value_usd": 238.8413,
          "omniture_user_context_pos": "HCOM_ES"
         },
         {
          "booking_gross_profit_amt_usd": 12.0826,
          "omniture_gross_booking_value_usd": 95.8933,
          "omniture_user_context_pos": "HCOM_FR"
         },
         {
          "booking_gross_profit_amt_usd": 26.9017,
          "omniture_gross_booking_value_usd": 301.1719,
          "omniture_user_context_pos": "HCOM_IT"
         },
         {
          "booking_gross_profit_amt_usd": 6.9331,
          "omniture_gross_booking_value_usd": 54.0794,
          "omniture_user_context_pos": "HCOM_IT"
         },
         {
          "booking_gross_profit_amt_usd": 19.3744,
          "omniture_gross_booking_value_usd": 232.9449,
          "omniture_user_context_pos": "HCOM_UK"
         },
         {
          "booking_gross_profit_amt_usd": 23.8082,
          "omniture_gross_booking_value_usd": 143.4163,
          "omniture_user_context_pos": "HCOM_FR"
         },
         {
          "booking_gross_profit_amt_usd": 14.0522,
          "omniture_gross_booking_value_usd": 128.2294,
          "omniture_user_context_pos": "HCOM_DE"
         },
         {
          "booking_gross_profit_amt_usd": 3.2432,
          "omniture_gross_booking_value_usd": 21.0408,
          "omniture_user_context_pos": "HCOM_FR"
         },
         {
          "booking_gross_profit_amt_usd": 754.8179,
          "omniture_gross_booking_value_usd": 5233.4333,
          "omniture_user_context_pos": "HCOM_DE"
         },
         {
          "booking_gross_profit_amt_usd": 21.4488,
          "omniture_gross_booking_value_usd": 219.2723,
          "omniture_user_context_pos": "HCOM_FR"
         },
         {
          "booking_gross_profit_amt_usd": 7.9429,
          "omniture_gross_booking_value_usd": 101.5564,
          "omniture_user_context_pos": "HCOM_UK"
         },
         {
          "booking_gross_profit_amt_usd": 70.8538,
          "omniture_gross_booking_value_usd": 422.1322,
          "omniture_user_context_pos": "HCOM_DE"
         },
         {
          "booking_gross_profit_amt_usd": 9.0168,
          "omniture_gross_booking_value_usd": 114.24,
          "omniture_user_context_pos": "HCOM_UK"
         },
         {
          "booking_gross_profit_amt_usd": 20.6527,
          "omniture_gross_booking_value_usd": 290.375,
          "omniture_user_context_pos": "HCOM_UK"
         },
         {
          "booking_gross_profit_amt_usd": 3.0612,
          "omniture_gross_booking_value_usd": 73.1206,
          "omniture_user_context_pos": "HCOM_UK"
         },
         {
          "booking_gross_profit_amt_usd": 155.8555,
          "omniture_gross_booking_value_usd": 1416.34,
          "omniture_user_context_pos": "HCOM_UK"
         },
         {
          "booking_gross_profit_amt_usd": 31.1512,
          "omniture_gross_booking_value_usd": 260.91900000000004,
          "omniture_user_context_pos": "HCOM_DE"
         },
         {
          "booking_gross_profit_amt_usd": 5.0617,
          "omniture_gross_booking_value_usd": 28.385,
          "omniture_user_context_pos": "HCOM_DE"
         },
         {
          "booking_gross_profit_amt_usd": 31.3083,
          "omniture_gross_booking_value_usd": 354.0024,
          "omniture_user_context_pos": "HCOM_FR"
         },
         {
          "booking_gross_profit_amt_usd": 19.5312,
          "omniture_gross_booking_value_usd": 199.5919,
          "omniture_user_context_pos": "HCOM_FR"
         },
         {
          "booking_gross_profit_amt_usd": 42.4405,
          "omniture_gross_booking_value_usd": 332.2815,
          "omniture_user_context_pos": "HCOM_DE"
         },
         {
          "booking_gross_profit_amt_usd": 10.4021,
          "omniture_gross_booking_value_usd": 88.088,
          "omniture_user_context_pos": "HCOM_DE"
         },
         {
          "booking_gross_profit_amt_usd": 14.5453,
          "omniture_gross_booking_value_usd": 127.04700000000001,
          "omniture_user_context_pos": "HCOM_UK"
         },
         {
          "booking_gross_profit_amt_usd": 16.8741,
          "omniture_gross_booking_value_usd": 122.4201,
          "omniture_user_context_pos": "HCOM_UK"
         },
         {
          "booking_gross_profit_amt_usd": 23.5619,
          "omniture_gross_booking_value_usd": 242.1195,
          "omniture_user_context_pos": "HCOM_FR"
         },
         {
          "booking_gross_profit_amt_usd": 21.3131,
          "omniture_gross_booking_value_usd": 142.217,
          "omniture_user_context_pos": "HCOM_UK"
         },
         {
          "booking_gross_profit_amt_usd": 11.9721,
          "omniture_gross_booking_value_usd": 135.8316,
          "omniture_user_context_pos": "HCOM_UK"
         },
         {
          "booking_gross_profit_amt_usd": 8.1358,
          "omniture_gross_booking_value_usd": 44.1262,
          "omniture_user_context_pos": "HCOM_UK"
         },
         {
          "booking_gross_profit_amt_usd": 52.2227,
          "omniture_gross_booking_value_usd": 454.4774,
          "omniture_user_context_pos": "HCOM_UK"
         },
         {
          "booking_gross_profit_amt_usd": 12.0772,
          "omniture_gross_booking_value_usd": 94.2654,
          "omniture_user_context_pos": "HCOM_IT"
         },
         {
          "booking_gross_profit_amt_usd": 27.6413,
          "omniture_gross_booking_value_usd": 220.7776,
          "omniture_user_context_pos": "HCOM_FR"
         },
         {
          "booking_gross_profit_amt_usd": 52.0803,
          "omniture_gross_booking_value_usd": 336.9132,
          "omniture_user_context_pos": "HCOM_UK"
         },
         {
          "booking_gross_profit_amt_usd": 9.6307,
          "omniture_gross_booking_value_usd": 77.2722,
          "omniture_user_context_pos": "HCOM_FR"
         },
         {
          "booking_gross_profit_amt_usd": -21.1629,
          "omniture_gross_booking_value_usd": 267.5869,
          "omniture_user_context_pos": "HCOM_IT"
         },
         {
          "booking_gross_profit_amt_usd": 13.8976,
          "omniture_gross_booking_value_usd": 74.6185,
          "omniture_user_context_pos": "HCOM_UK"
         },
         {
          "booking_gross_profit_amt_usd": 2.4289,
          "omniture_gross_booking_value_usd": 103.9556,
          "omniture_user_context_pos": "HCOM_UK"
         },
         {
          "booking_gross_profit_amt_usd": 21.7197,
          "omniture_gross_booking_value_usd": 151.6452,
          "omniture_user_context_pos": "HCOM_UK"
         },
         {
          "booking_gross_profit_amt_usd": -82.4859,
          "omniture_gross_booking_value_usd": 20.6794,
          "omniture_user_context_pos": "HCOM_UK"
         },
         {
          "booking_gross_profit_amt_usd": 41.1132,
          "omniture_gross_booking_value_usd": 234.1581,
          "omniture_user_context_pos": "HCOM_IT"
         },
         {
          "booking_gross_profit_amt_usd": 17.945,
          "omniture_gross_booking_value_usd": 182.8014,
          "omniture_user_context_pos": "HCOM_UK"
         },
         {
          "booking_gross_profit_amt_usd": 88.1911,
          "omniture_gross_booking_value_usd": 501.4345,
          "omniture_user_context_pos": "HCOM_DE"
         },
         {
          "booking_gross_profit_amt_usd": 28.2579,
          "omniture_gross_booking_value_usd": 352.9083,
          "omniture_user_context_pos": "HCOM_UK"
         },
         {
          "booking_gross_profit_amt_usd": 49.8991,
          "omniture_gross_booking_value_usd": 488.8106,
          "omniture_user_context_pos": "HCOM_IT"
         },
         {
          "booking_gross_profit_amt_usd": 20.9474,
          "omniture_gross_booking_value_usd": 192.9571,
          "omniture_user_context_pos": "HCOM_UK"
         },
         {
          "booking_gross_profit_amt_usd": 12.6322,
          "omniture_gross_booking_value_usd": 115.20299999999999,
          "omniture_user_context_pos": "HCOM_UK"
         },
         {
          "booking_gross_profit_amt_usd": -29.6477,
          "omniture_gross_booking_value_usd": 136.8472,
          "omniture_user_context_pos": "HCOM_UK"
         },
         {
          "booking_gross_profit_amt_usd": 11.9421,
          "omniture_gross_booking_value_usd": 94.7783,
          "omniture_user_context_pos": "HCOM_FR"
         },
         {
          "booking_gross_profit_amt_usd": 21.4046,
          "omniture_gross_booking_value_usd": 116.5359,
          "omniture_user_context_pos": "HCOM_UK"
         },
         {
          "booking_gross_profit_amt_usd": 18.5416,
          "omniture_gross_booking_value_usd": 110.3888,
          "omniture_user_context_pos": "HCOM_ES"
         },
         {
          "booking_gross_profit_amt_usd": 12.6975,
          "omniture_gross_booking_value_usd": 99.1317,
          "omniture_user_context_pos": "HCOM_UK"
         },
         {
          "booking_gross_profit_amt_usd": 31.9008,
          "omniture_gross_booking_value_usd": 165.0257,
          "omniture_user_context_pos": "HCOM_IT"
         },
         {
          "booking_gross_profit_amt_usd": 5.2472,
          "omniture_gross_booking_value_usd": 39.69,
          "omniture_user_context_pos": "HCOM_ES"
         },
         {
          "booking_gross_profit_amt_usd": -104.6005,
          "omniture_gross_booking_value_usd": 71.8511,
          "omniture_user_context_pos": "HCOM_UK"
         },
         {
          "booking_gross_profit_amt_usd": 22.2054,
          "omniture_gross_booking_value_usd": 177.7109,
          "omniture_user_context_pos": "HCOM_UK"
         },
         {
          "booking_gross_profit_amt_usd": 7.237,
          "omniture_gross_booking_value_usd": 125.676,
          "omniture_user_context_pos": "HCOM_UK"
         },
         {
          "booking_gross_profit_amt_usd": 7.4715,
          "omniture_gross_booking_value_usd": 83.6279,
          "omniture_user_context_pos": "HCOM_FR"
         },
         {
          "booking_gross_profit_amt_usd": -62.5967,
          "omniture_gross_booking_value_usd": 171.4017,
          "omniture_user_context_pos": "HCOM_UK"
         },
         {
          "booking_gross_profit_amt_usd": 27.6138,
          "omniture_gross_booking_value_usd": 233.5796,
          "omniture_user_context_pos": "HCOM_UK"
         },
         {
          "booking_gross_profit_amt_usd": 43.6615,
          "omniture_gross_booking_value_usd": 247.5436,
          "omniture_user_context_pos": "HCOM_UK"
         },
         {
          "booking_gross_profit_amt_usd": 4.6899,
          "omniture_gross_booking_value_usd": 64.7422,
          "omniture_user_context_pos": "HCOM_UK"
         },
         {
          "booking_gross_profit_amt_usd": 6.1482,
          "omniture_gross_booking_value_usd": 39.149,
          "omniture_user_context_pos": "HCOM_FR"
         },
         {
          "booking_gross_profit_amt_usd": 34.1187,
          "omniture_gross_booking_value_usd": 284.7005,
          "omniture_user_context_pos": "HCOM_UK"
         },
         {
          "booking_gross_profit_amt_usd": 14.1687,
          "omniture_gross_booking_value_usd": 84.2029,
          "omniture_user_context_pos": "HCOM_UK"
         },
         {
          "booking_gross_profit_amt_usd": 15.9742,
          "omniture_gross_booking_value_usd": 86.8307,
          "omniture_user_context_pos": "HCOM_UK"
         },
         {
          "booking_gross_profit_amt_usd": 36.9113,
          "omniture_gross_booking_value_usd": 419.2545,
          "omniture_user_context_pos": "HCOM_FR"
         },
         {
          "booking_gross_profit_amt_usd": 5.9572,
          "omniture_gross_booking_value_usd": 45.7004,
          "omniture_user_context_pos": "HCOM_UK"
         },
         {
          "booking_gross_profit_amt_usd": 10.6027,
          "omniture_gross_booking_value_usd": 68.0062,
          "omniture_user_context_pos": "HCOM_ES"
         },
         {
          "booking_gross_profit_amt_usd": 7.5167,
          "omniture_gross_booking_value_usd": 96.4785,
          "omniture_user_context_pos": "HCOM_UK"
         },
         {
          "booking_gross_profit_amt_usd": 33.6398,
          "omniture_gross_booking_value_usd": 343.2732,
          "omniture_user_context_pos": "HCOM_UK"
         },
         {
          "booking_gross_profit_amt_usd": 21.1782,
          "omniture_gross_booking_value_usd": 239.7333,
          "omniture_user_context_pos": "HCOM_FR"
         },
         {
          "booking_gross_profit_amt_usd": 68.4832,
          "omniture_gross_booking_value_usd": 624.4216,
          "omniture_user_context_pos": "HCOM_UK"
         },
         {
          "booking_gross_profit_amt_usd": 6.4112,
          "omniture_gross_booking_value_usd": 88.679,
          "omniture_user_context_pos": "HCOM_FR"
         },
         {
          "booking_gross_profit_amt_usd": 137.6217,
          "omniture_gross_booking_value_usd": 771.5236,
          "omniture_user_context_pos": "HCOM_UK"
         },
         {
          "booking_gross_profit_amt_usd": 16.3361,
          "omniture_gross_booking_value_usd": 184.9849,
          "omniture_user_context_pos": "HCOM_DE"
         },
         {
          "booking_gross_profit_amt_usd": 14.5151,
          "omniture_gross_booking_value_usd": 96.8467,
          "omniture_user_context_pos": "HCOM_UK"
         },
         {
          "booking_gross_profit_amt_usd": 15.4594,
          "omniture_gross_booking_value_usd": 88.8618,
          "omniture_user_context_pos": "HCOM_UK"
         },
         {
          "booking_gross_profit_amt_usd": 20.0516,
          "omniture_gross_booking_value_usd": 109.3853,
          "omniture_user_context_pos": "HCOM_FR"
         },
         {
          "booking_gross_profit_amt_usd": 45.736999999999995,
          "omniture_gross_booking_value_usd": 367.9627,
          "omniture_user_context_pos": "HCOM_DE"
         },
         {
          "booking_gross_profit_amt_usd": 6.0235,
          "omniture_gross_booking_value_usd": 52.4285,
          "omniture_user_context_pos": "HCOM_UK"
         },
         {
          "booking_gross_profit_amt_usd": 29.0966,
          "omniture_gross_booking_value_usd": 227.2323,
          "omniture_user_context_pos": "HCOM_UK"
         },
         {
          "booking_gross_profit_amt_usd": 14.1904,
          "omniture_gross_booking_value_usd": 76.1673,
          "omniture_user_context_pos": "HCOM_UK"
         },
         {
          "booking_gross_profit_amt_usd": 91.74,
          "omniture_gross_booking_value_usd": 849.68,
          "omniture_user_context_pos": "HCOM_DE"
         },
         {
          "booking_gross_profit_amt_usd": 15.4173,
          "omniture_gross_booking_value_usd": 97.5436,
          "omniture_user_context_pos": "HCOM_DE"
         },
         {
          "booking_gross_profit_amt_usd": 24.1588,
          "omniture_gross_booking_value_usd": 121.8676,
          "omniture_user_context_pos": "HCOM_UK"
         },
         {
          "booking_gross_profit_amt_usd": 58.968,
          "omniture_gross_booking_value_usd": 490.61699999999996,
          "omniture_user_context_pos": "HCOM_UK"
         },
         {
          "booking_gross_profit_amt_usd": 7.6081,
          "omniture_gross_booking_value_usd": 84.7944,
          "omniture_user_context_pos": "HCOM_IT"
         },
         {
          "booking_gross_profit_amt_usd": 36.0538,
          "omniture_gross_booking_value_usd": 291.8856,
          "omniture_user_context_pos": "HCOM_UK"
         },
         {
          "booking_gross_profit_amt_usd": 2.2448,
          "omniture_gross_booking_value_usd": 62.4422,
          "omniture_user_context_pos": "HCOM_FR"
         },
         {
          "booking_gross_profit_amt_usd": 57.9889,
          "omniture_gross_booking_value_usd": 317.563,
          "omniture_user_context_pos": "HCOM_FR"
         },
         {
          "booking_gross_profit_amt_usd": 44.7002,
          "omniture_gross_booking_value_usd": 265.3234,
          "omniture_user_context_pos": "HCOM_UK"
         },
         {
          "booking_gross_profit_amt_usd": 11.243,
          "omniture_gross_booking_value_usd": 76.9377,
          "omniture_user_context_pos": "HCOM_FR"
         },
         {
          "booking_gross_profit_amt_usd": 7.0076,
          "omniture_gross_booking_value_usd": 34.5292,
          "omniture_user_context_pos": "HCOM_UK"
         },
         {
          "booking_gross_profit_amt_usd": 9.5309,
          "omniture_gross_booking_value_usd": 74.2758,
          "omniture_user_context_pos": "HCOM_UK"
         },
         {
          "booking_gross_profit_amt_usd": 12.5136,
          "omniture_gross_booking_value_usd": 104.8136,
          "omniture_user_context_pos": "HCOM_DE"
         },
         {
          "booking_gross_profit_amt_usd": 57.8583,
          "omniture_gross_booking_value_usd": 542.0537,
          "omniture_user_context_pos": "HCOM_FR"
         },
         {
          "booking_gross_profit_amt_usd": 8.5647,
          "omniture_gross_booking_value_usd": 68.5505,
          "omniture_user_context_pos": "HCOM_UK"
         },
         {
          "booking_gross_profit_amt_usd": 91.0897,
          "omniture_gross_booking_value_usd": 572.4605,
          "omniture_user_context_pos": "HCOM_UK"
         },
         {
          "booking_gross_profit_amt_usd": 16.9426,
          "omniture_gross_booking_value_usd": 143.84,
          "omniture_user_context_pos": "HCOM_UK"
         },
         {
          "booking_gross_profit_amt_usd": 28.5581,
          "omniture_gross_booking_value_usd": 153.5297,
          "omniture_user_context_pos": "HCOM_IT"
         },
         {
          "booking_gross_profit_amt_usd": 26.254,
          "omniture_gross_booking_value_usd": 133.8046,
          "omniture_user_context_pos": "HCOM_UK"
         },
         {
          "booking_gross_profit_amt_usd": 16.5638,
          "omniture_gross_booking_value_usd": 95.2091,
          "omniture_user_context_pos": "HCOM_UK"
         },
         {
          "booking_gross_profit_amt_usd": 7.1275,
          "omniture_gross_booking_value_usd": 39.149,
          "omniture_user_context_pos": "HCOM_ES"
         },
         {
          "booking_gross_profit_amt_usd": 4.6565,
          "omniture_gross_booking_value_usd": 37.3347,
          "omniture_user_context_pos": "HCOM_UK"
         },
         {
          "booking_gross_profit_amt_usd": 18.6334,
          "omniture_gross_booking_value_usd": 107.0325,
          "omniture_user_context_pos": "HCOM_FR"
         },
         {
          "booking_gross_profit_amt_usd": 19.0759,
          "omniture_gross_booking_value_usd": 189.5549,
          "omniture_user_context_pos": "HCOM_UK"
         },
         {
          "booking_gross_profit_amt_usd": 29.2712,
          "omniture_gross_booking_value_usd": 267.3471,
          "omniture_user_context_pos": "HCOM_FR"
         },
         {
          "booking_gross_profit_amt_usd": 85.4358,
          "omniture_gross_booking_value_usd": 599.1825,
          "omniture_user_context_pos": "HCOM_UK"
         },
         {
          "booking_gross_profit_amt_usd": 27.7969,
          "omniture_gross_booking_value_usd": 271.422,
          "omniture_user_context_pos": "HCOM_UK"
         },
         {
          "booking_gross_profit_amt_usd": 28.9906,
          "omniture_gross_booking_value_usd": 364.6176,
          "omniture_user_context_pos": "HCOM_DE"
         },
         {
          "booking_gross_profit_amt_usd": 9.2378,
          "omniture_gross_booking_value_usd": 72.2433,
          "omniture_user_context_pos": "HCOM_IT"
         },
         {
          "booking_gross_profit_amt_usd": 8.6281,
          "omniture_gross_booking_value_usd": 97.74799999999999,
          "omniture_user_context_pos": "HCOM_UK"
         },
         {
          "booking_gross_profit_amt_usd": 12.5808,
          "omniture_gross_booking_value_usd": 168.3931,
          "omniture_user_context_pos": "HCOM_DE"
         },
         {
          "booking_gross_profit_amt_usd": 57.5361,
          "omniture_gross_booking_value_usd": 435.2959,
          "omniture_user_context_pos": "HCOM_UK"
         },
         {
          "booking_gross_profit_amt_usd": 13.2348,
          "omniture_gross_booking_value_usd": 115.4065,
          "omniture_user_context_pos": "HCOM_DE"
         },
         {
          "booking_gross_profit_amt_usd": 9.4657,
          "omniture_gross_booking_value_usd": 63.8917,
          "omniture_user_context_pos": "HCOM_ES"
         },
         {
          "booking_gross_profit_amt_usd": 80.3894,
          "omniture_gross_booking_value_usd": 440.5007,
          "omniture_user_context_pos": "HCOM_UK"
         },
         {
          "booking_gross_profit_amt_usd": 7.2031,
          "omniture_gross_booking_value_usd": 85.0407,
          "omniture_user_context_pos": "HCOM_UK"
         },
         {
          "booking_gross_profit_amt_usd": 2.9409,
          "omniture_gross_booking_value_usd": 34.7892,
          "omniture_user_context_pos": "HCOM_UK"
         },
         {
          "booking_gross_profit_amt_usd": 1.2026,
          "omniture_gross_booking_value_usd": 35.7732,
          "omniture_user_context_pos": "HCOM_UK"
         },
         {
          "booking_gross_profit_amt_usd": 13.9245,
          "omniture_gross_booking_value_usd": 143.9688,
          "omniture_user_context_pos": "HCOM_UK"
         },
         {
          "booking_gross_profit_amt_usd": 12.7565,
          "omniture_gross_booking_value_usd": 107.9036,
          "omniture_user_context_pos": "HCOM_UK"
         },
         {
          "booking_gross_profit_amt_usd": 5.9101,
          "omniture_gross_booking_value_usd": 66.9023,
          "omniture_user_context_pos": "HCOM_FR"
         },
         {
          "booking_gross_profit_amt_usd": 31.9864,
          "omniture_gross_booking_value_usd": 311.1179,
          "omniture_user_context_pos": "HCOM_UK"
         },
         {
          "booking_gross_profit_amt_usd": 51.5941,
          "omniture_gross_booking_value_usd": 624.4996,
          "omniture_user_context_pos": "HCOM_FR"
         },
         {
          "booking_gross_profit_amt_usd": -115.6126,
          "omniture_gross_booking_value_usd": 28.9816,
          "omniture_user_context_pos": "HCOM_UK"
         },
         {
          "booking_gross_profit_amt_usd": 6.4521,
          "omniture_gross_booking_value_usd": 94.2062,
          "omniture_user_context_pos": "HCOM_UK"
         },
         {
          "booking_gross_profit_amt_usd": 17.584,
          "omniture_gross_booking_value_usd": 150.4187,
          "omniture_user_context_pos": "HCOM_DE"
         },
         {
          "booking_gross_profit_amt_usd": 582.628,
          "omniture_gross_booking_value_usd": 3006.2442,
          "omniture_user_context_pos": "HCOM_FR"
         },
         {
          "booking_gross_profit_amt_usd": 4.0479,
          "omniture_gross_booking_value_usd": 76.5862,
          "omniture_user_context_pos": "HCOM_UK"
         },
         {
          "booking_gross_profit_amt_usd": 46.2817,
          "omniture_gross_booking_value_usd": 316.0941,
          "omniture_user_context_pos": "HCOM_UK"
         },
         {
          "booking_gross_profit_amt_usd": 25.74,
          "omniture_gross_booking_value_usd": 360.4263,
          "omniture_user_context_pos": "HCOM_UK"
         },
         {
          "booking_gross_profit_amt_usd": 89.0571,
          "omniture_gross_booking_value_usd": 594.8619,
          "omniture_user_context_pos": "HCOM_DE"
         },
         {
          "booking_gross_profit_amt_usd": 9.9888,
          "omniture_gross_booking_value_usd": 133.8046,
          "omniture_user_context_pos": "HCOM_FR"
         },
         {
          "booking_gross_profit_amt_usd": 16.5608,
          "omniture_gross_booking_value_usd": 129.4448,
          "omniture_user_context_pos": "HCOM_FR"
         },
         {
          "booking_gross_profit_amt_usd": 62.7481,
          "omniture_gross_booking_value_usd": 442.871,
          "omniture_user_context_pos": "HCOM_ES"
         },
         {
          "booking_gross_profit_amt_usd": 8.3876,
          "omniture_gross_booking_value_usd": 138.3705,
          "omniture_user_context_pos": "HCOM_UK"
         },
         {
          "booking_gross_profit_amt_usd": 28.3804,
          "omniture_gross_booking_value_usd": 225.2378,
          "omniture_user_context_pos": "HCOM_FR"
         },
         {
          "booking_gross_profit_amt_usd": 13.9521,
          "omniture_gross_booking_value_usd": 94.9121,
          "omniture_user_context_pos": "HCOM_FR"
         },
         {
          "booking_gross_profit_amt_usd": 4.4196,
          "omniture_gross_booking_value_usd": 67.8057,
          "omniture_user_context_pos": "HCOM_FR"
         },
         {
          "booking_gross_profit_amt_usd": 15.4594,
          "omniture_gross_booking_value_usd": 88.8618,
          "omniture_user_context_pos": "HCOM_UK"
         },
         {
          "booking_gross_profit_amt_usd": 21.583000000000002,
          "omniture_gross_booking_value_usd": 149.5155,
          "omniture_user_context_pos": "HCOM_FR"
         },
         {
          "booking_gross_profit_amt_usd": 24.0362,
          "omniture_gross_booking_value_usd": 284.3348,
          "omniture_user_context_pos": "HCOM_FR"
         },
         {
          "booking_gross_profit_amt_usd": 22.0419,
          "omniture_gross_booking_value_usd": 250.0825,
          "omniture_user_context_pos": "HCOM_UK"
         },
         {
          "booking_gross_profit_amt_usd": -3.1035,
          "omniture_gross_booking_value_usd": 16.833,
          "omniture_user_context_pos": "HCOM_UK"
         },
         {
          "booking_gross_profit_amt_usd": 7.3655,
          "omniture_gross_booking_value_usd": 94.7671,
          "omniture_user_context_pos": "HCOM_FR"
         },
         {
          "booking_gross_profit_amt_usd": 35.0543,
          "omniture_gross_booking_value_usd": 357.4591,
          "omniture_user_context_pos": "HCOM_DE"
         },
         {
          "booking_gross_profit_amt_usd": 45.1934,
          "omniture_gross_booking_value_usd": 413.2556,
          "omniture_user_context_pos": "HCOM_UK"
         },
         {
          "booking_gross_profit_amt_usd": 1.3049,
          "omniture_gross_booking_value_usd": 7.3927,
          "omniture_user_context_pos": "HCOM_FR"
         },
         {
          "booking_gross_profit_amt_usd": 40.5313,
          "omniture_gross_booking_value_usd": 290.0215,
          "omniture_user_context_pos": "HCOM_UK"
         },
         {
          "booking_gross_profit_amt_usd": 12.6455,
          "omniture_gross_booking_value_usd": 217.3054,
          "omniture_user_context_pos": "HCOM_UK"
         },
         {
          "booking_gross_profit_amt_usd": 26.334,
          "omniture_gross_booking_value_usd": 152.3345,
          "omniture_user_context_pos": "HCOM_UK"
         },
         {
          "booking_gross_profit_amt_usd": 8.4833,
          "omniture_gross_booking_value_usd": 100.3535,
          "omniture_user_context_pos": "HCOM_FR"
         },
         {
          "booking_gross_profit_amt_usd": 29.840999999999998,
          "omniture_gross_booking_value_usd": 201.8,
          "omniture_user_context_pos": "HCOM_UK"
         },
         {
          "booking_gross_profit_amt_usd": 19.3058,
          "omniture_gross_booking_value_usd": 226.4707,
          "omniture_user_context_pos": "HCOM_UK"
         },
         {
          "booking_gross_profit_amt_usd": 134.0152,
          "omniture_gross_booking_value_usd": 621.1657,
          "omniture_user_context_pos": "HCOM_IT"
         },
         {
          "booking_gross_profit_amt_usd": 18.508,
          "omniture_gross_booking_value_usd": 126.9454,
          "omniture_user_context_pos": "HCOM_UK"
         },
         {
          "booking_gross_profit_amt_usd": 25.3976,
          "omniture_gross_booking_value_usd": 99.0428,
          "omniture_user_context_pos": "HCOM_UK"
         },
         {
          "booking_gross_profit_amt_usd": 9.5086,
          "omniture_gross_booking_value_usd": 100.3535,
          "omniture_user_context_pos": "HCOM_FR"
         },
         {
          "booking_gross_profit_amt_usd": 11.1431,
          "omniture_gross_booking_value_usd": 72.4775,
          "omniture_user_context_pos": "HCOM_FR"
         },
         {
          "booking_gross_profit_amt_usd": 13.003,
          "omniture_gross_booking_value_usd": 113.2988,
          "omniture_user_context_pos": "HCOM_UK"
         },
         {
          "booking_gross_profit_amt_usd": 45.6399,
          "omniture_gross_booking_value_usd": 245.2973,
          "omniture_user_context_pos": "HCOM_DE"
         },
         {
          "booking_gross_profit_amt_usd": 7.1213,
          "omniture_gross_booking_value_usd": 133.0798,
          "omniture_user_context_pos": "HCOM_FR"
         },
         {
          "booking_gross_profit_amt_usd": 15.7061,
          "omniture_gross_booking_value_usd": 99.8071,
          "omniture_user_context_pos": "HCOM_FR"
         },
         {
          "booking_gross_profit_amt_usd": 21.0648,
          "omniture_gross_booking_value_usd": 177.7109,
          "omniture_user_context_pos": "HCOM_UK"
         },
         {
          "booking_gross_profit_amt_usd": 30.7958,
          "omniture_gross_booking_value_usd": 215.9342,
          "omniture_user_context_pos": "HCOM_UK"
         },
         {
          "booking_gross_profit_amt_usd": 117.4559,
          "omniture_gross_booking_value_usd": 751.8217,
          "omniture_user_context_pos": "HCOM_UK"
         },
         {
          "booking_gross_profit_amt_usd": 9.5814,
          "omniture_gross_booking_value_usd": 71.6412,
          "omniture_user_context_pos": "HCOM_ES"
         },
         {
          "booking_gross_profit_amt_usd": 15.4319,
          "omniture_gross_booking_value_usd": 161.4746,
          "omniture_user_context_pos": "HCOM_UK"
         },
         {
          "booking_gross_profit_amt_usd": 31.3948,
          "omniture_gross_booking_value_usd": 180.0787,
          "omniture_user_context_pos": "HCOM_FR"
         },
         {
          "booking_gross_profit_amt_usd": 48.6714,
          "omniture_gross_booking_value_usd": 307.7506,
          "omniture_user_context_pos": "HCOM_IT"
         },
         {
          "booking_gross_profit_amt_usd": 142.1131,
          "omniture_gross_booking_value_usd": 1123.6956,
          "omniture_user_context_pos": "HCOM_UK"
         },
         {
          "booking_gross_profit_amt_usd": 476.9498,
          "omniture_gross_booking_value_usd": 2615.9807,
          "omniture_user_context_pos": "HCOM_FR"
         },
         {
          "booking_gross_profit_amt_usd": 8.3883,
          "omniture_gross_booking_value_usd": 63.4727,
          "omniture_user_context_pos": "HCOM_UK"
         },
         {
          "booking_gross_profit_amt_usd": 24.3169,
          "omniture_gross_booking_value_usd": 566.5956,
          "omniture_user_context_pos": "HCOM_UK"
         },
         {
          "booking_gross_profit_amt_usd": 54.674,
          "omniture_gross_booking_value_usd": 663.8159,
          "omniture_user_context_pos": "HCOM_DE"
         },
         {
          "booking_gross_profit_amt_usd": 118.0511,
          "omniture_gross_booking_value_usd": 681.2885,
          "omniture_user_context_pos": "HCOM_FR"
         },
         {
          "booking_gross_profit_amt_usd": 12.1376,
          "omniture_gross_booking_value_usd": 84.7429,
          "omniture_user_context_pos": "HCOM_FR"
         },
         {
          "booking_gross_profit_amt_usd": 4.3587,
          "omniture_gross_booking_value_usd": 46.2843,
          "omniture_user_context_pos": "HCOM_UK"
         },
         {
          "booking_gross_profit_amt_usd": 36.808,
          "omniture_gross_booking_value_usd": 321.1199,
          "omniture_user_context_pos": "HCOM_UK"
         },
         {
          "booking_gross_profit_amt_usd": 83.8654,
          "omniture_gross_booking_value_usd": 466.7328,
          "omniture_user_context_pos": "HCOM_IT"
         },
         {
          "booking_gross_profit_amt_usd": 2.0451,
          "omniture_gross_booking_value_usd": 11.7637,
          "omniture_user_context_pos": "HCOM_DE"
         },
         {
          "booking_gross_profit_amt_usd": 31.8652,
          "omniture_gross_booking_value_usd": 250.2095,
          "omniture_user_context_pos": "HCOM_UK"
         },
         {
          "booking_gross_profit_amt_usd": 30.8343,
          "omniture_gross_booking_value_usd": 276.7918,
          "omniture_user_context_pos": "HCOM_UK"
         },
         {
          "booking_gross_profit_amt_usd": 6.3631,
          "omniture_gross_booking_value_usd": 55.1944,
          "omniture_user_context_pos": "HCOM_FR"
         },
         {
          "booking_gross_profit_amt_usd": 20.737,
          "omniture_gross_booking_value_usd": 245.3085,
          "omniture_user_context_pos": "HCOM_FR"
         },
         {
          "booking_gross_profit_amt_usd": 15.4798,
          "omniture_gross_booking_value_usd": 257.6739,
          "omniture_user_context_pos": "HCOM_UK"
         }
        ]
       },
       "encoding": {
        "color": {
         "field": "omniture_user_context_pos",
         "type": "nominal"
        },
        "x": {
         "field": "omniture_gross_booking_value_usd",
         "type": "quantitative"
        },
        "y": {
         "field": "booking_gross_profit_amt_usd",
         "type": "quantitative"
        }
       },
       "mark": "point",
       "selection": {
        "selector008": {
         "bind": "scales",
         "encodings": [
          "x",
          "y"
         ],
         "type": "interval"
        }
       }
      },
      "image/png": "[encoded data removed]",
      "text/plain": [
       "<VegaLite 3 object>\n",
       "\n",
       "If you see this message, it means the renderer has not been properly enabled\n",
       "for the frontend that you are using. For more information, see\n",
       "https://altair-viz.github.io/user_guide/troubleshooting.html\n"
      ]
     },
     "execution_count": 37,
     "metadata": {},
     "output_type": "execute_result"
    }
   ],
   "source": [
    "import altair as alt\n",
    "\n",
    "alt.Chart(hcom_data_sample_df).mark_point().encode(\n",
    "    x = 'omniture_gross_booking_value_usd',\n",
    "    y = 'booking_gross_profit_amt_usd',\n",
    "    color = 'omniture_user_context_pos'\n",
    ").interactive()"
   ]
  },
  {
   "cell_type": "markdown",
   "metadata": {},
   "source": [
    "## Optional"
   ]
  },
  {
   "cell_type": "markdown",
   "metadata": {},
   "source": [
    "### Check if you can pull data from a BEX Qubole Account"
   ]
  },
  {
   "cell_type": "markdown",
   "metadata": {},
   "source": [
    "Set your BEX API token, which can be found [here](https://api.qubole.com/v2/control-panel#manage-accounts)."
   ]
  },
  {
   "cell_type": "code",
   "execution_count": 3,
   "metadata": {},
   "outputs": [],
   "source": [
    "bex_api_token='4ddc9f9d5bfd452ab0aaca49625af6082d6f016e57c04cbe8abd64002ed346af'"
   ]
  },
  {
   "cell_type": "markdown",
   "metadata": {},
   "source": [
    "Launch a test query on a table in the BEX Qubole account:"
   ]
  },
  {
   "cell_type": "code",
   "execution_count": 11,
   "metadata": {},
   "outputs": [],
   "source": [
    "bex_data_sample_query = \"\"\"\n",
    "SELECT \n",
    "    expe_property_id\n",
    "    ,hcom_property_id\n",
    "    ,super_region_name\n",
    "FROM dm.property\n",
    "WHERE hcom_property_id IS NOT NULL\n",
    "\n",
    "LIMIT 100\n",
    "\"\"\"\n",
    "\n",
    "# below we pass 'bex' argument to account parameter of query_data function\n",
    "bex_data_sample_df = con.query_data(sql_query=bex_data_sample_query, account='bex') "
   ]
  },
  {
   "cell_type": "markdown",
   "metadata": {},
   "source": [
    "If the following cell returns as output a table with 5 rows of data then you're now set up to pull BEX data from Qubole into a Jupyter notebook."
   ]
  },
  {
   "cell_type": "code",
   "execution_count": 12,
   "metadata": {},
   "outputs": [
    {
     "data": {
      "text/html": [
       "<div>\n",
       "<style scoped>\n",
       "    .dataframe tbody tr th:only-of-type {\n",
       "        vertical-align: middle;\n",
       "    }\n",
       "\n",
       "    .dataframe tbody tr th {\n",
       "        vertical-align: top;\n",
       "    }\n",
       "\n",
       "    .dataframe thead th {\n",
       "        text-align: right;\n",
       "    }\n",
       "</style>\n",
       "<table border=\"1\" class=\"dataframe\">\n",
       "  <thead>\n",
       "    <tr style=\"text-align: right;\">\n",
       "      <th></th>\n",
       "      <th>expe_property_id</th>\n",
       "      <th>hcom_property_id</th>\n",
       "      <th>super_region_name</th>\n",
       "    </tr>\n",
       "  </thead>\n",
       "  <tbody>\n",
       "    <tr>\n",
       "      <th>0</th>\n",
       "      <td>21667</td>\n",
       "      <td>207260</td>\n",
       "      <td>AMER</td>\n",
       "    </tr>\n",
       "    <tr>\n",
       "      <th>1</th>\n",
       "      <td>21667119</td>\n",
       "      <td>694347808</td>\n",
       "      <td>AMER</td>\n",
       "    </tr>\n",
       "    <tr>\n",
       "      <th>2</th>\n",
       "      <td>2166715</td>\n",
       "      <td>272453</td>\n",
       "      <td>EMEA</td>\n",
       "    </tr>\n",
       "    <tr>\n",
       "      <th>3</th>\n",
       "      <td>21667329</td>\n",
       "      <td>694354528</td>\n",
       "      <td>AMER</td>\n",
       "    </tr>\n",
       "    <tr>\n",
       "      <th>4</th>\n",
       "      <td>21667699</td>\n",
       "      <td>694366368</td>\n",
       "      <td>AMER</td>\n",
       "    </tr>\n",
       "  </tbody>\n",
       "</table>\n",
       "</div>"
      ],
      "text/plain": [
       "   expe_property_id  hcom_property_id super_region_name\n",
       "0             21667            207260              AMER\n",
       "1          21667119         694347808              AMER\n",
       "2           2166715            272453              EMEA\n",
       "3          21667329         694354528              AMER\n",
       "4          21667699         694366368              AMER"
      ]
     },
     "execution_count": 12,
     "metadata": {},
     "output_type": "execute_result"
    }
   ],
   "source": [
    "bex_data_sample_df.head()"
   ]
  },
  {
   "cell_type": "code",
   "execution_count": null,
   "metadata": {},
   "outputs": [],
   "source": []
  }
 ],
 "metadata": {
  "kernelspec": {
   "display_name": "Python 3",
   "language": "python",
   "name": "python3"
  },
  "language_info": {
   "codemirror_mode": {
    "name": "ipython",
    "version": 3
   },
   "file_extension": ".py",
   "mimetype": "text/x-python",
   "name": "python",
   "nbconvert_exporter": "python",
   "pygments_lexer": "ipython3",
   "version": "3.7.3"
  },
  "toc-autonumbering": false,
  "toc-showmarkdowntxt": false
 },
 "nbformat": 4,
 "nbformat_minor": 4
}
