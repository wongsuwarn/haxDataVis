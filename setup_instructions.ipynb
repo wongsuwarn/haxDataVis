{
 "cells": [
  {
   "cell_type": "markdown",
   "metadata": {},
   "source": [
    "# How to set up your computer to use [Altair](https://altair-viz.github.io/index.html) with Qubole data"
   ]
  },
  {
   "cell_type": "markdown",
   "metadata": {
    "toc-hr-collapsed": false
   },
   "source": [
    "## Essential Steps"
   ]
  },
  {
   "cell_type": "markdown",
   "metadata": {},
   "source": [
    "### 1. Install Python3\n",
    "Check if you have python3 installed by running in your shell (mac Terminal or Windows Command Prompt):"
   ]
  },
  {
   "cell_type": "markdown",
   "metadata": {},
   "source": [
    "```\n",
    "python3 --version\n",
    "```"
   ]
  },
  {
   "cell_type": "markdown",
   "metadata": {},
   "source": [
    "If you do not have Python 3 installed and are on a mac then follow [these instructions](https://wsvincent.com/install-python3-mac/) to install Python3 using the homebrew package manager. \n",
    "\n",
    "On Windows, you can download Python [here](https://www.python.org/downloads/). Make sure the *Add Python 3.X to Path* tick-box is checked during installation."
   ]
  },
  {
   "cell_type": "markdown",
   "metadata": {},
   "source": [
    "### 2. Create a Python3 virtual environment called *pydatavis* and activate it"
   ]
  },
  {
   "cell_type": "markdown",
   "metadata": {},
   "source": [
    "If you haven't created a virtual environment before, try the helpful [instructions here](https://wsvincent.com/install-python3-mac/) (same steps for macOS and Windows) to create and activate a virtual environment, using the venv package that ships with python3."
   ]
  },
  {
   "cell_type": "markdown",
   "metadata": {},
   "source": [
    "### 3. Install Altair, JupyterLab, Pandas and the Qubole Python SDK in the *pydatavis* virtual environment"
   ]
  },
  {
   "cell_type": "markdown",
   "metadata": {},
   "source": [
    "With the pydatavis virtual environment activated in the shell, run:"
   ]
  },
  {
   "cell_type": "markdown",
   "metadata": {},
   "source": [
    "```\n",
    "pip install -U altair vega_datasets jupyterlab pandas qds-sdk\n",
    "```"
   ]
  },
  {
   "cell_type": "markdown",
   "metadata": {},
   "source": [
    "The [qds-sdk](https://github.com/qubole/qds-sdk-py) module from Qubole will allow us to use the Qubole API to request data.\n",
    "\n",
    "You can check at any time which packages and package versions have been installed by running:"
   ]
  },
  {
   "cell_type": "markdown",
   "metadata": {},
   "source": [
    "```\n",
    "pip list\n",
    "```"
   ]
  },
  {
   "cell_type": "markdown",
   "metadata": {},
   "source": [
    "Verify that the installed jupyterlab version is *at least* V1.0"
   ]
  },
  {
   "cell_type": "markdown",
   "metadata": {
    "toc-hr-collapsed": true
   },
   "source": [
    "### 4. Check that you can pull data from an HCOM Qubole Account"
   ]
  },
  {
   "cell_type": "markdown",
   "metadata": {},
   "source": [
    "Now that you have JupyterLabs installed you can work with Jupyter notebooks such as this one that you're reading now. Clone or download [this repository](https://github.com/wongsuwarn/haxDataVis) from Github and navigate to the folder in your shell. Then run:"
   ]
  },
  {
   "cell_type": "markdown",
   "metadata": {},
   "source": [
    "```\n",
    "jupyter lab setup_instructions.ipynb\n",
    "```"
   ]
  },
  {
   "cell_type": "markdown",
   "metadata": {},
   "source": [
    "The JupyterLab environment will open a new page in your browser and you will see this notebook. JupyterLab has started a server on your machine that is hosting your local copy of this notebook. You can tell when you are hosting the page locally as you will see the browser address as something like *localhost:XXXX*.\n",
    "\n",
    "From now on follow the instructions in the notebook that is running on your local server."
   ]
  },
  {
   "cell_type": "markdown",
   "metadata": {},
   "source": [
    "Create a connector class by running the following cell (Shift+Enter):"
   ]
  },
  {
   "cell_type": "code",
   "execution_count": 30,
   "metadata": {},
   "outputs": [],
   "source": [
    "import os\n",
    "import re\n",
    "import pandas as pd\n",
    "from qds_sdk.commands import HiveCommand\n",
    "from qds_sdk.qubole import Qubole\n",
    "\n",
    "class QuboleConnector():\n",
    "    def __init__(self, hcom_api_token, bex_api_token):\n",
    "        pass\n",
    "\n",
    "    def query_data(self, sql_query, account):\n",
    "        if account == 'hcom':\n",
    "            Qubole.configure(api_token=hcom_api_token)\n",
    "        else:\n",
    "            Qubole.configure(api_token=bex_api_token)\n",
    "                \n",
    "        cmd = self.execute_query(sql_query)\n",
    "\n",
    "        if HiveCommand.is_success(cmd.status):\n",
    "            with open(\"temp_data.csv\", 'w') as writer:\n",
    "                if account == 'hcom':\n",
    "                    cmd.get_results(writer, delim=\",\", inline=False)\n",
    "                else:\n",
    "                    cmd.get_results(writer, delim=\"\\t\", inline=False)\n",
    "\n",
    "            clean_query = sql_query.replace('\\n', '')\n",
    "            clean_query = re.sub(\"\\\\([^)]*?\\\\)\", \"\", clean_query)\n",
    "            heads = re.search('select(.*?)from', clean_query.lower()).group(1).split(',')\n",
    "            heads = [h.strip() for h in heads]\n",
    "            heads = [h if ' as ' not in h else re.search(' as (.*)', h).group(1) for h in heads]      \n",
    "        \n",
    "            if account == 'hcom':\n",
    "                query_result = pd.read_csv(\"temp_data.csv\", names = heads)\n",
    "            else:\n",
    "                query_result = pd.read_csv(\"temp_data.csv\", names = heads, sep='\\t')\n",
    "        os.remove(\"temp_data.csv\")\n",
    "        return query_result\n",
    "\n",
    "    def execute_query(self, sql_query):\n",
    "        hc_params = ['--query', sql_query]\n",
    "        hive_args = HiveCommand.parse(hc_params)\n",
    "        cmd = HiveCommand.run(**hive_args)\n",
    "        return cmd"
   ]
  },
  {
   "cell_type": "markdown",
   "metadata": {},
   "source": [
    "Set your Qubole API token(s) which can be found [here](https://api.qubole.com/v2/control-panel#manage-accounts) in the next cell."
   ]
  },
  {
   "cell_type": "code",
   "execution_count": 32,
   "metadata": {},
   "outputs": [],
   "source": [
    "my_hcom_api_token='[INSERT-HCOM-TOKEN-HERE]'\n",
    "my_bex_api_token='[INSERT-HCOM-TOKEN-HERE]' # Set as empty string if you don't have one\n",
    "\n",
    "# simon's tokens (let him know if you need to use)\n",
    "# hcom_api_token='e430f9db5ff2473897c52d834f4a65742cdddcadbb43409e8684b7309d26e194'\n",
    "# bex_api_token='4ddc9f9d5bfd452ab0aaca49625af6082d6f016e57c04cbe8abd64002ed346af'\n",
    "# hcom_api_token=''\n",
    "# bex_api_token=''"
   ]
  },
  {
   "cell_type": "markdown",
   "metadata": {},
   "source": [
    "Instatiate a new Qubole connector object with your token(s):"
   ]
  },
  {
   "cell_type": "code",
   "execution_count": 36,
   "metadata": {},
   "outputs": [],
   "source": [
    "hcom_con = QuboleConnector(hcom_api_token = my_hcom_api_token, bex_api_token = my_bex_api_token)\n",
    "\n",
    "# create a separate bex connector object if needed\n",
    "# bex_con = QuboleConnector(bex_api_token) "
   ]
  },
  {
   "cell_type": "markdown",
   "metadata": {},
   "source": [
    "Store this example SQL query as the string variable hcom_data_sample_query: "
   ]
  },
  {
   "cell_type": "code",
   "execution_count": 34,
   "metadata": {},
   "outputs": [],
   "source": [
    "hcom_data_sample_query = \"\"\"\n",
    "SELECT \n",
    "    booking_gross_profit_amt_usd\n",
    "    ,omniture_gross_booking_value_usd\n",
    "FROM bix_clickstream.hermes_omniture_booking_order_summary\n",
    "WHERE omniture_local_date = '2019-05-01'\n",
    "\n",
    "LIMIT 1000\n",
    "\"\"\""
   ]
  },
  {
   "cell_type": "markdown",
   "metadata": {},
   "source": [
    "Send the query to Qubole using the connector object and assign the API result to a local pandas dataframe called hcom_data_sample_df:"
   ]
  },
  {
   "cell_type": "code",
   "execution_count": 22,
   "metadata": {},
   "outputs": [],
   "source": [
    "# below we pass 'hcom' argument to account parameter of query_data function\n",
    "hcom_data_sample_df = hcom_con.query_data(hcom_data_sample_query, account = 'hcom')"
   ]
  },
  {
   "cell_type": "markdown",
   "metadata": {},
   "source": [
    "Run the following cell to preview the first 5 rows of the dataframe. If you see some rows of booking data then the Qubole connector is working correctly to pull HCOM data."
   ]
  },
  {
   "cell_type": "code",
   "execution_count": 16,
   "metadata": {},
   "outputs": [
    {
     "data": {
      "text/html": [
       "<div>\n",
       "<style scoped>\n",
       "    .dataframe tbody tr th:only-of-type {\n",
       "        vertical-align: middle;\n",
       "    }\n",
       "\n",
       "    .dataframe tbody tr th {\n",
       "        vertical-align: top;\n",
       "    }\n",
       "\n",
       "    .dataframe thead th {\n",
       "        text-align: right;\n",
       "    }\n",
       "</style>\n",
       "<table border=\"1\" class=\"dataframe\">\n",
       "  <thead>\n",
       "    <tr style=\"text-align: right;\">\n",
       "      <th></th>\n",
       "      <th>booking_gross_profit_amt_usd</th>\n",
       "      <th>omniture_gross_booking_value_usd</th>\n",
       "    </tr>\n",
       "  </thead>\n",
       "  <tbody>\n",
       "    <tr>\n",
       "      <th>0</th>\n",
       "      <td>17.3993</td>\n",
       "      <td>100.6800</td>\n",
       "    </tr>\n",
       "    <tr>\n",
       "      <th>1</th>\n",
       "      <td>38.5086</td>\n",
       "      <td>478.3800</td>\n",
       "    </tr>\n",
       "    <tr>\n",
       "      <th>2</th>\n",
       "      <td>5.5155</td>\n",
       "      <td>55.4500</td>\n",
       "    </tr>\n",
       "    <tr>\n",
       "      <th>3</th>\n",
       "      <td>3.8093</td>\n",
       "      <td>118.9669</td>\n",
       "    </tr>\n",
       "    <tr>\n",
       "      <th>4</th>\n",
       "      <td>9.883</td>\n",
       "      <td>80.8935</td>\n",
       "    </tr>\n",
       "  </tbody>\n",
       "</table>\n",
       "</div>"
      ],
      "text/plain": [
       "  booking_gross_profit_amt_usd  omniture_gross_booking_value_usd\n",
       "0                      17.3993                          100.6800\n",
       "1                      38.5086                          478.3800\n",
       "2                       5.5155                           55.4500\n",
       "3                       3.8093                          118.9669\n",
       "4                        9.883                           80.8935"
      ]
     },
     "execution_count": 16,
     "metadata": {},
     "output_type": "execute_result"
    }
   ],
   "source": [
    "hcom_data_sample_df.head()"
   ]
  },
  {
   "cell_type": "markdown",
   "metadata": {},
   "source": [
    "### 5. Check that you can render the data with Altair"
   ]
  },
  {
   "cell_type": "markdown",
   "metadata": {},
   "source": [
    "Run the following cell. If it returns a scatter plot then you're now ready to create data visualisations with [Altair](https://altair-viz.github.io/index.html) in a Jupyter notebook."
   ]
  },
  {
   "cell_type": "code",
   "execution_count": 19,
   "metadata": {},
   "outputs": [
    {
     "data": {
      "application/vnd.vegalite.v3+json": {
       "$schema": "https://vega.github.io/schema/vega-lite/v3.2.1.json",
       "config": {
        "mark": {
         "tooltip": null
        },
        "view": {
         "height": 300,
         "width": 400
        }
       },
       "data": {
        "name": "data-49e129c985b18f92f32f4645327b807a"
       },
       "datasets": {
        "data-49e129c985b18f92f32f4645327b807a": [
         {
          "booking_gross_profit_amt_usd": "17.3993",
          "omniture_gross_booking_value_usd": 100.68
         },
         {
          "booking_gross_profit_amt_usd": "38.5086",
          "omniture_gross_booking_value_usd": 478.38
         },
         {
          "booking_gross_profit_amt_usd": "5.5155",
          "omniture_gross_booking_value_usd": 55.45
         },
         {
          "booking_gross_profit_amt_usd": "3.8093",
          "omniture_gross_booking_value_usd": 118.9669
         },
         {
          "booking_gross_profit_amt_usd": "9.883",
          "omniture_gross_booking_value_usd": 80.8935
         },
         {
          "booking_gross_profit_amt_usd": "44.3967",
          "omniture_gross_booking_value_usd": 529.61
         },
         {
          "booking_gross_profit_amt_usd": "42.7684",
          "omniture_gross_booking_value_usd": 292.94
         },
         {
          "booking_gross_profit_amt_usd": "0.0",
          "omniture_gross_booking_value_usd": 50.84
         },
         {
          "booking_gross_profit_amt_usd": "8.8552",
          "omniture_gross_booking_value_usd": 60.8513
         },
         {
          "booking_gross_profit_amt_usd": "30.1873",
          "omniture_gross_booking_value_usd": 357.75
         },
         {
          "booking_gross_profit_amt_usd": "0.0",
          "omniture_gross_booking_value_usd": 541.4
         },
         {
          "booking_gross_profit_amt_usd": "35.2705",
          "omniture_gross_booking_value_usd": 292.73
         },
         {
          "booking_gross_profit_amt_usd": "35.6747",
          "omniture_gross_booking_value_usd": 244.04
         },
         {
          "booking_gross_profit_amt_usd": "3.4928",
          "omniture_gross_booking_value_usd": 24.1
         },
         {
          "booking_gross_profit_amt_usd": "44.3313",
          "omniture_gross_booking_value_usd": 321.78
         },
         {
          "booking_gross_profit_amt_usd": "17.7999",
          "omniture_gross_booking_value_usd": 226.24
         },
         {
          "booking_gross_profit_amt_usd": "25.2798",
          "omniture_gross_booking_value_usd": 205.89
         },
         {
          "booking_gross_profit_amt_usd": "42.2718",
          "omniture_gross_booking_value_usd": 560.88
         },
         {
          "booking_gross_profit_amt_usd": "30.6353",
          "omniture_gross_booking_value_usd": 482.0574
         },
         {
          "booking_gross_profit_amt_usd": "0.0",
          "omniture_gross_booking_value_usd": 557.5711
         },
         {
          "booking_gross_profit_amt_usd": "-0.3888",
          "omniture_gross_booking_value_usd": 1111.8485
         },
         {
          "booking_gross_profit_amt_usd": "0.0",
          "omniture_gross_booking_value_usd": 63.36
         },
         {
          "booking_gross_profit_amt_usd": "21.7413",
          "omniture_gross_booking_value_usd": 238.35
         },
         {
          "booking_gross_profit_amt_usd": "92.8754",
          "omniture_gross_booking_value_usd": 666.8481
         },
         {
          "booking_gross_profit_amt_usd": "37.8642",
          "omniture_gross_booking_value_usd": 324.18
         },
         {
          "booking_gross_profit_amt_usd": "\\N",
          "omniture_gross_booking_value_usd": 352.56
         },
         {
          "booking_gross_profit_amt_usd": "40.5819",
          "omniture_gross_booking_value_usd": 307.973
         },
         {
          "booking_gross_profit_amt_usd": "6.9034",
          "omniture_gross_booking_value_usd": 47.0534
         },
         {
          "booking_gross_profit_amt_usd": "28.1574",
          "omniture_gross_booking_value_usd": 233.502
         },
         {
          "booking_gross_profit_amt_usd": "28.1169",
          "omniture_gross_booking_value_usd": 225.8344
         },
         {
          "booking_gross_profit_amt_usd": "-25.2674",
          "omniture_gross_booking_value_usd": 1737.3301
         },
         {
          "booking_gross_profit_amt_usd": "38.0621",
          "omniture_gross_booking_value_usd": 385.3631
         },
         {
          "booking_gross_profit_amt_usd": "9.3125",
          "omniture_gross_booking_value_usd": 130.9715
         },
         {
          "booking_gross_profit_amt_usd": "75.8951",
          "omniture_gross_booking_value_usd": 607.3923
         },
         {
          "booking_gross_profit_amt_usd": "19.5678",
          "omniture_gross_booking_value_usd": 178.2563
         },
         {
          "booking_gross_profit_amt_usd": "71.0249",
          "omniture_gross_booking_value_usd": 736.5052
         },
         {
          "booking_gross_profit_amt_usd": "9.5901",
          "omniture_gross_booking_value_usd": 152.66
         },
         {
          "booking_gross_profit_amt_usd": "-0.0765",
          "omniture_gross_booking_value_usd": 174.8706
         },
         {
          "booking_gross_profit_amt_usd": "9.7403",
          "omniture_gross_booking_value_usd": 167.6769
         },
         {
          "booking_gross_profit_amt_usd": "14.8873",
          "omniture_gross_booking_value_usd": 150.06
         },
         {
          "booking_gross_profit_amt_usd": "9.5263",
          "omniture_gross_booking_value_usd": 81.7023
         },
         {
          "booking_gross_profit_amt_usd": "0.0",
          "omniture_gross_booking_value_usd": 84.04
         },
         {
          "booking_gross_profit_amt_usd": "3.4874",
          "omniture_gross_booking_value_usd": 25.0904
         },
         {
          "booking_gross_profit_amt_usd": "53.6714",
          "omniture_gross_booking_value_usd": 542.4759
         },
         {
          "booking_gross_profit_amt_usd": "111.9626",
          "omniture_gross_booking_value_usd": 751.21
         },
         {
          "booking_gross_profit_amt_usd": "0.246",
          "omniture_gross_booking_value_usd": 462.9793
         },
         {
          "booking_gross_profit_amt_usd": "17.3765",
          "omniture_gross_booking_value_usd": 98.01
         },
         {
          "booking_gross_profit_amt_usd": "38.3264",
          "omniture_gross_booking_value_usd": 189.3875
         },
         {
          "booking_gross_profit_amt_usd": "15.5802",
          "omniture_gross_booking_value_usd": 121.5821
         },
         {
          "booking_gross_profit_amt_usd": "4.445",
          "omniture_gross_booking_value_usd": 40.4279
         },
         {
          "booking_gross_profit_amt_usd": "2.145",
          "omniture_gross_booking_value_usd": 152.1068
         },
         {
          "booking_gross_profit_amt_usd": "148.7528",
          "omniture_gross_booking_value_usd": 1335.6117
         },
         {
          "booking_gross_profit_amt_usd": "4.5947",
          "omniture_gross_booking_value_usd": 71.4425
         },
         {
          "booking_gross_profit_amt_usd": "32.9288",
          "omniture_gross_booking_value_usd": 278.4828
         },
         {
          "booking_gross_profit_amt_usd": "21.2459",
          "omniture_gross_booking_value_usd": 168.8641
         },
         {
          "booking_gross_profit_amt_usd": "5.7072",
          "omniture_gross_booking_value_usd": 73.626
         },
         {
          "booking_gross_profit_amt_usd": "12.9014",
          "omniture_gross_booking_value_usd": 144.6172
         },
         {
          "booking_gross_profit_amt_usd": "90.4402",
          "omniture_gross_booking_value_usd": 1015.437
         },
         {
          "booking_gross_profit_amt_usd": "31.1794",
          "omniture_gross_booking_value_usd": 201.5912
         },
         {
          "booking_gross_profit_amt_usd": "8.4062",
          "omniture_gross_booking_value_usd": 207.8321
         },
         {
          "booking_gross_profit_amt_usd": "0.022",
          "omniture_gross_booking_value_usd": 110.8979
         },
         {
          "booking_gross_profit_amt_usd": "74.6716",
          "omniture_gross_booking_value_usd": 584.631
         },
         {
          "booking_gross_profit_amt_usd": "11.7538",
          "omniture_gross_booking_value_usd": 100.4403
         },
         {
          "booking_gross_profit_amt_usd": "38.0344",
          "omniture_gross_booking_value_usd": 237.72
         },
         {
          "booking_gross_profit_amt_usd": "4.7064",
          "omniture_gross_booking_value_usd": 60.3356
         },
         {
          "booking_gross_profit_amt_usd": "0.4077",
          "omniture_gross_booking_value_usd": 181.209
         },
         {
          "booking_gross_profit_amt_usd": "22.5508",
          "omniture_gross_booking_value_usd": 178.72
         },
         {
          "booking_gross_profit_amt_usd": "7.6149",
          "omniture_gross_booking_value_usd": 73.7146
         },
         {
          "booking_gross_profit_amt_usd": "2.8037",
          "omniture_gross_booking_value_usd": 28.8898
         },
         {
          "booking_gross_profit_amt_usd": "8.1229",
          "omniture_gross_booking_value_usd": 44.4053
         },
         {
          "booking_gross_profit_amt_usd": "4.5093",
          "omniture_gross_booking_value_usd": 42.5098
         },
         {
          "booking_gross_profit_amt_usd": "39.0494",
          "omniture_gross_booking_value_usd": 221.9706
         },
         {
          "booking_gross_profit_amt_usd": "1.018",
          "omniture_gross_booking_value_usd": 6.78
         },
         {
          "booking_gross_profit_amt_usd": "30.7941",
          "omniture_gross_booking_value_usd": 206.58
         },
         {
          "booking_gross_profit_amt_usd": "14.6232",
          "omniture_gross_booking_value_usd": 93.8526
         },
         {
          "booking_gross_profit_amt_usd": "25.052",
          "omniture_gross_booking_value_usd": 136.2204
         },
         {
          "booking_gross_profit_amt_usd": "\\N",
          "omniture_gross_booking_value_usd": 184.95
         },
         {
          "booking_gross_profit_amt_usd": "28.122",
          "omniture_gross_booking_value_usd": 466.88
         },
         {
          "booking_gross_profit_amt_usd": "41.0214",
          "omniture_gross_booking_value_usd": 278.3
         },
         {
          "booking_gross_profit_amt_usd": "22.6504",
          "omniture_gross_booking_value_usd": 217.4075
         },
         {
          "booking_gross_profit_amt_usd": "85.7188",
          "omniture_gross_booking_value_usd": 589.3545
         },
         {
          "booking_gross_profit_amt_usd": "43.0591",
          "omniture_gross_booking_value_usd": 287.0689
         },
         {
          "booking_gross_profit_amt_usd": "18.3748",
          "omniture_gross_booking_value_usd": 110.96
         },
         {
          "booking_gross_profit_amt_usd": "0.0",
          "omniture_gross_booking_value_usd": 804.49
         },
         {
          "booking_gross_profit_amt_usd": "48.4051",
          "omniture_gross_booking_value_usd": 309.307
         },
         {
          "booking_gross_profit_amt_usd": "13.3747",
          "omniture_gross_booking_value_usd": 194.8521
         },
         {
          "booking_gross_profit_amt_usd": "63.7373",
          "omniture_gross_booking_value_usd": 717.8281
         },
         {
          "booking_gross_profit_amt_usd": "12.2338",
          "omniture_gross_booking_value_usd": 54.8696
         },
         {
          "booking_gross_profit_amt_usd": "9.9603",
          "omniture_gross_booking_value_usd": 52.42
         },
         {
          "booking_gross_profit_amt_usd": "34.286",
          "omniture_gross_booking_value_usd": 351.98
         },
         {
          "booking_gross_profit_amt_usd": "22.9618",
          "omniture_gross_booking_value_usd": 261.56
         },
         {
          "booking_gross_profit_amt_usd": "2.511",
          "omniture_gross_booking_value_usd": 18.9
         },
         {
          "booking_gross_profit_amt_usd": "22.3418",
          "omniture_gross_booking_value_usd": 185.4
         },
         {
          "booking_gross_profit_amt_usd": "5.5235",
          "omniture_gross_booking_value_usd": 56.9949
         },
         {
          "booking_gross_profit_amt_usd": "54.6142",
          "omniture_gross_booking_value_usd": 436.3
         },
         {
          "booking_gross_profit_amt_usd": "\\N",
          "omniture_gross_booking_value_usd": 116.8148
         },
         {
          "booking_gross_profit_amt_usd": "81.3903",
          "omniture_gross_booking_value_usd": 556.1138
         },
         {
          "booking_gross_profit_amt_usd": "0.0",
          "omniture_gross_booking_value_usd": 52.1407
         },
         {
          "booking_gross_profit_amt_usd": "13.5786",
          "omniture_gross_booking_value_usd": 99.34
         },
         {
          "booking_gross_profit_amt_usd": "10.5689",
          "omniture_gross_booking_value_usd": 107.18
         }
        ]
       },
       "encoding": {
        "x": {
         "field": "omniture_gross_booking_value_usd",
         "type": "quantitative"
        },
        "y": {
         "field": "booking_gross_profit_amt_usd",
         "type": "quantitative"
        }
       },
       "mark": "point"
      },
      "image/png": "[encoded data removed]",
      "text/plain": [
       "<VegaLite 3 object>\n",
       "\n",
       "If you see this message, it means the renderer has not been properly enabled\n",
       "for the frontend that you are using. For more information, see\n",
       "https://altair-viz.github.io/user_guide/troubleshooting.html\n"
      ]
     },
     "execution_count": 19,
     "metadata": {},
     "output_type": "execute_result"
    }
   ],
   "source": [
    "import altair as alt\n",
    "\n",
    "alt.Chart(hcom_data_sample_df).mark_point().encode(\n",
    "    x = 'omniture_gross_booking_value_usd',\n",
    "    y = 'booking_gross_profit_amt_usd'\n",
    ")"
   ]
  },
  {
   "cell_type": "markdown",
   "metadata": {},
   "source": [
    "## Optional Steps"
   ]
  },
  {
   "cell_type": "markdown",
   "metadata": {},
   "source": [
    "### Check if you can pull data from a BEX Qubole Account"
   ]
  },
  {
   "cell_type": "markdown",
   "metadata": {},
   "source": [
    "Set your BEX API token, which can be found [here](https://api.qubole.com/v2/control-panel#manage-accounts)."
   ]
  },
  {
   "cell_type": "code",
   "execution_count": null,
   "metadata": {},
   "outputs": [],
   "source": [
    "bex_api_token='4ddc9f9d5bfd452ab0aaca49625af6082d6f016e57c04cbe8abd64002ed346af'"
   ]
  },
  {
   "cell_type": "markdown",
   "metadata": {},
   "source": [
    "Launch a test query on a table in the BEX Qubole account:"
   ]
  },
  {
   "cell_type": "code",
   "execution_count": null,
   "metadata": {},
   "outputs": [],
   "source": [
    "bex_data_sample_query = \"\"\"\n",
    "SELECT \n",
    "    expe_property_id\n",
    "    ,hcom_property_id\n",
    "    ,super_region_name\n",
    "FROM dm.property\n",
    "WHERE hcom_property_id IS NOT NULL\n",
    "\n",
    "LIMIT 1000\n",
    "\"\"\"\n",
    "\n",
    "# below we pass 'bex' argument to account parameter of query_data function\n",
    "bex_data_sample_df = bex_con.query_data(sql_query=bex_data_sample_query, account='bex') "
   ]
  },
  {
   "cell_type": "markdown",
   "metadata": {},
   "source": [
    "Run the following cell to preview the first 5 rows of the dataframe. If you see some rows of booking data then the Qubole connector is working correctly to pull BEX data."
   ]
  },
  {
   "cell_type": "code",
   "execution_count": null,
   "metadata": {},
   "outputs": [],
   "source": [
    "bex_data_sample_df.head()"
   ]
  }
 ],
 "metadata": {
  "kernelspec": {
   "display_name": "Python 3",
   "language": "python",
   "name": "python3"
  },
  "language_info": {
   "codemirror_mode": {
    "name": "ipython",
    "version": 3
   },
   "file_extension": ".py",
   "mimetype": "text/x-python",
   "name": "python",
   "nbconvert_exporter": "python",
   "pygments_lexer": "ipython3",
   "version": "3.7.3"
  },
  "toc-autonumbering": false,
  "toc-showmarkdowntxt": false
 },
 "nbformat": 4,
 "nbformat_minor": 4
}
